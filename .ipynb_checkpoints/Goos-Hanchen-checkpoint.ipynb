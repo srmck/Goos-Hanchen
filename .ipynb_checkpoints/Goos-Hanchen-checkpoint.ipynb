{
 "cells": [
  {
   "cell_type": "markdown",
   "id": "4291f058-0fca-4761-a994-77659c6e3ddd",
   "metadata": {},
   "source": [
    "# Goos-Hanchen experiment\n",
    "***"
   ]
  },
  {
   "cell_type": "markdown",
   "id": "eafd6503-ddd9-453c-917b-8975fc579604",
   "metadata": {},
   "source": [
    "This notebook contains the data reduced from the usual Larmor Mantid reduction file. The experiment took place at Larmor beamline at ISIS from Nov 14-20th 2023. The reduced data is also contained in this github repository along with copies of the experiment log and pictures of the physical setup.\n",
    "\n",
    "While the goal is to measure the Goos-Hanchen spatial shift of the two neutron spin states, it seems at the moment that we can only experimentally measure the phase shift between the two spin states. Again, the issue of the intrinsic coherence length of neutron pops up: Quan has shown some interesting potentially-observable effects in the different regiemes, but it is unclear how to exactly experimentally produce his proposed setups.\n",
    "\n",
    "***\n",
    "### Sample information\n",
    "The two identical samples (assuming natural abundances) consist of the following layers with scattering length densities (SLDs) given in units of 10^-6 A^-2:\n",
    "1. 50 nm Ti, SLD = -1.910\n",
    "2. 50 nm Fe-Co-V 50-48-2%:\n",
    "   1. Nuclear: SLD = 5.121\n",
    "   2. Magnetic: SLD = -5.451 and 5.409\n",
    "   3. Total: SLD = -0.33 and 10.53\n",
    "4. 50 nm SiO_2, SLD = 2.06\n",
    "5. 50 nm Fe-Co-V 50-48-2%\n",
    "6. 100 nm Ni-Mo 88-12% (non-magnetic), SLD = -8.52\n",
    "7. SiO_2 substrate (total size 100 mm x 50 mm x 0.78 mm)\n",
    "\n",
    "The sample can be magnetized in a ~200 G field.\n",
    "\n",
    "We also have two identical non-magnetic blanks:\n",
    "1. 100 nm Ni-Mo 88-12%\n",
    "2. Si substrate (total size 100 mm x 50 mm x 0.78 mm)\n",
    "\n",
    "***\n",
    "### Problems/questions:\n",
    "1. The film's easy axis and the plane of incidence are orthogonal: therefore, the beam size on target will be cut in half if we want the remnant mangetization to be parallel to the guide field at the sample position (vertical direction)\n",
    "   1. ~~We can stack the two films back-to-back to create a better return loop for the magnetic flux lines at the sample position.~~\n",
    "   2. ~~We can also try wrapping the sample in a thin layer of iron foil to close the flux loop.~~\n",
    "   3. After discussion, we think that this will not be a problem because the sample is so thin, the dipole field should fall to zero quickly enough to be negligible.\n",
    "2. Which detector should we use?\n",
    "3. Does the position of the sample stack change the echo?\n",
    "4. Do we need a slit after the sample?\n",
    "   1. Yes, to remove the direct beam\n",
    "\n",
    "***\n",
    "### Current experimental plan:\n",
    "1. Mount and measure the blank\n",
    "   1. Critical edge at .01 A^-1\n",
    "   2. Want the max signal to be at 4 AA, gives grazing angle of ??? and maximum beam width of 0.4 mm\n",
    "2. Mount and measure the magnetic sample with poleshoes at 90 degrees (i.e. NSE mode)\n",
    "   1. Need a very tight resolution (kHz ?) \n",
    "   2. Tight divergence, no more than 0.02 degrees?\n",
    "3. Rotate the sample by 90 degrees (M parallel to guide field) and redo measurement\n",
    "4. Change poleshoe angle to introduce splitting in the transverse horizontal direction\n",
    "5. Put phase grating after the sample\n",
    "   1. The grating may act like a \"Goos-Hanchen\" analyzer, meaning that we could tell the difference between the phase shift and spatial shift\n",
    "   2. Can use the old \"compass mount\" from the coherence measurement for the grating"
   ]
  },
  {
   "cell_type": "markdown",
   "id": "c90018e6-0b0a-43cd-912e-5959feda54c2",
   "metadata": {},
   "source": [
    "## Functions and constants"
   ]
  },
  {
   "cell_type": "code",
   "execution_count": 1,
   "id": "3853401b-9499-4191-915c-e8a54d5ca944",
   "metadata": {},
   "outputs": [],
   "source": [
    "import numpy as np\n",
    "import sympy as sym\n",
    "import scipy as sc\n",
    "import sympy as sym\n",
    "import matplotlib.pyplot as plt\n",
    "import scienceplots\n",
    "\n",
    "plt.style.use(['science','notebook', 'grid','default','bright'])\n",
    "SMALL_SIZE,MEDIUM_SIZE,BIGGER_SIZE = 15,18,20\n",
    "plt.rc('font', size=SMALL_SIZE)          # controls default text sizes\n",
    "plt.rc('axes', titlesize=SMALL_SIZE)     # fontsize of the axes title\n",
    "plt.rc('axes', labelsize=MEDIUM_SIZE)    # fontsize of the x and y labels\n",
    "plt.rc('xtick', labelsize=SMALL_SIZE)    # fontsize of the tick labels\n",
    "plt.rc('ytick', labelsize=SMALL_SIZE)    # fontsize of the tick labels\n",
    "plt.rc('legend', fontsize=SMALL_SIZE)    # legend fontsize\n",
    "plt.rc('figure', titlesize=BIGGER_SIZE)  # fontsize of the figure title\n",
    "plt.rc('axes', titlesize=BIGGER_SIZE)    # actually gets title font size\n",
    "\n",
    "sym.init_printing()\n",
    "\n",
    "DEFAULT_PLOT_PARMS = {'title':'','xlab':'','ylab':'','multi_plot':True,'size':(8,5),'lw':3}  #mutliplot not implemented yet\n",
    "SLD_PLOT_PARMS = DEFAULT_PLOT_PARMS|{'xlab':'Depth [AA]','ylab':'SLD [1e-6 AA^-2]','labels':['']}\n",
    "\n",
    "def plot_function(xdata,ydata,plot_parms=DEFAULT_PLOT_PARMS):\n",
    "    '''General function to plot given data.'''\n",
    "    assert len(xdata) == len(ydata), 'Len mismatch between x and y data!'\n",
    "    fig,ax = plt.subplots(figsize=plot_parms['size'])\n",
    "    \n",
    "    for indx,(x,y) in enumerate(zip(xdata,ydata)):\n",
    "        ax.plot(x,y,'--',linewidth=plot_parms['lw'],label=plot_parms['labels'][indx])\n",
    "    ax.set(title=plot_parms['title'],xlabel=plot_parms['xlab'],ylabel=plot_parms['ylab'])\n",
    "    if plot_parms['labels'] is not None: plt.legend()\n",
    "\n",
    "    plt.grid()\n",
    "    plt.tight_layout()\n",
    "    plt.show()"
   ]
  },
  {
   "cell_type": "markdown",
   "id": "fc55cfb1-09fe-4950-b627-1b2a679cc8e3",
   "metadata": {},
   "source": [
    "## Analytic calculations"
   ]
  },
  {
   "cell_type": "code",
   "execution_count": 2,
   "id": "5d18169b-3dc4-4873-ab0c-e9f494ca4dd2",
   "metadata": {},
   "outputs": [
    {
     "name": "stdout",
     "output_type": "stream",
     "text": [
      "Interaction matrix:\n"
     ]
    },
    {
     "data": {
      "image/png": "[encoded data removed]",
      "text/latex": [
       "$\\displaystyle \\left[\\begin{matrix}\\frac{e^{i \\Phi}}{2} + \\frac{1}{2} & \\frac{1}{2} - \\frac{e^{i \\Phi}}{2}\\\\\\frac{1}{2} - \\frac{e^{i \\Phi}}{2} & \\frac{e^{i \\Phi}}{2} + \\frac{1}{2}\\end{matrix}\\right]$"
      ],
      "text/plain": [
       "⎡ ⅈ⋅\\Phi           ⅈ⋅\\Phi⎤\n",
       "⎢ℯ         1  1   ℯ      ⎥\n",
       "⎢─────── + ─  ─ - ───────⎥\n",
       "⎢   2      2  2      2   ⎥\n",
       "⎢                        ⎥\n",
       "⎢     ⅈ⋅\\Phi   ⅈ⋅\\Phi    ⎥\n",
       "⎢1   ℯ        ℯ         1⎥\n",
       "⎢─ - ───────  ─────── + ─⎥\n",
       "⎣2      2        2      2⎦"
      ]
     },
     "metadata": {},
     "output_type": "display_data"
    }
   ],
   "source": [
    "def get_su2_state(theta=0,phi=0,alpha=None,beta=None,gamma=0):\n",
    "    '''Returns spin state, either with the usual parameterization or two complex numbers.'''\n",
    "    if alpha is None or beta is None:\n",
    "        result = [sym.cos(theta/2),sym.sin(theta/2)*sym.exp(sym.I*phi)]\n",
    "    else:\n",
    "        norm = sym.sqrt(sym.abs(alpha)**2 + sym.abs(beta)**2)\n",
    "        result = 1/norm*[alpha,beta]\n",
    "    return sym.exp(sym.I*gamma)*sym.Matrix(result).applyfunc(sym.simplify)\n",
    "\n",
    "def get_op(a=0,b=0,c=0,d=0):\n",
    "    '''Returns general operator in terms of the pauli vector.'''\n",
    "    result = a*sym.eye(2) + b*sym.Matrix([[0,1],[1,0]]) + \\\n",
    "    c*sym.Matrix([[0,-sym.I],[sym.I,0]]) + d*sym.Matrix([[1,0],[0,-1]])\n",
    "    return result.applyfunc(sym.simplify)\n",
    "\n",
    "def get_proj(op,sign=1):\n",
    "    '''Returns up/down projection operator.'''\n",
    "    assert sign == -1 or sign == 1, 'The sign must be +/-1.'\n",
    "    return (sym.Rational(1,2)*(sym.eye(2) + sign*op)).applyfunc(sym.simplify)\n",
    "\n",
    "def expect(lstate,op,rstate=None,force_real=True):\n",
    "    '''Returns the expectation value from the given state and operator.'''\n",
    "    if rstate is None: rstate = lstate\n",
    "    result = (lstate.H*op*rstate)[0]\n",
    "    if force_real: result = sym.re(result)\n",
    "    return result.simplify()\n",
    "\n",
    "def change_basis(op,new):\n",
    "    '''Returns operator in new basis.'''\n",
    "    return (new.inv()*op*new).applyfunc(sym.simplify)\n",
    "\n",
    "def time_av(func,var,N=1):\n",
    "    '''Returns time average over N periods'''\n",
    "    integral = func.integrate((var,-sym.pi*N,sym.pi*N))\n",
    "    return (integral/(2*sym.pi*N)).expand().simplify()\n",
    "\n",
    "p0,p1,p2,t1,t2,P1,P2,P = sym.symbols(r'\\phi_0,\\phi_1,\\phi_2,\\theta_1,\\theta_2,\\Phi_1,\\Phi_2,\\Phi',real=True)\n",
    "idt,spx,spy,spz = get_op(a=1),get_op(b=1),get_op(c=1),get_op(d=1)\n",
    "\n",
    "#asummes the magnetization is along the x-direction and incident polarization is along z\n",
    "x_cob = 1/sym.sqrt(2)*sym.Matrix([[1,1],[1,-1]])\n",
    "interaction = change_basis(sym.diag(1,sym.exp(sym.I*P)),x_cob)\n",
    "print('Interaction matrix:')\n",
    "display(interaction.applyfunc(sym.simplify))"
   ]
  },
  {
   "cell_type": "code",
   "execution_count": 3,
   "id": "f83f06d0-f5ba-463b-9e6c-9c2e1957a855",
   "metadata": {
    "scrolled": true
   },
   "outputs": [
    {
     "name": "stdout",
     "output_type": "stream",
     "text": [
      "Evolution of the spin states:\n"
     ]
    },
    {
     "data": {
      "text/plain": [
       "'Initial state:'"
      ]
     },
     "metadata": {},
     "output_type": "display_data"
    },
    {
     "data": {
      "image/png": "[encoded data removed]",
      "text/latex": [
       "$\\displaystyle \\left[\\begin{matrix}\\frac{\\sqrt{2}}{2}\\\\\\frac{\\sqrt{2}}{2}\\end{matrix}\\right]$"
      ],
      "text/plain": [
       "⎡√2⎤\n",
       "⎢──⎥\n",
       "⎢2 ⎥\n",
       "⎢  ⎥\n",
       "⎢√2⎥\n",
       "⎢──⎥\n",
       "⎣2 ⎦"
      ]
     },
     "metadata": {},
     "output_type": "display_data"
    },
    {
     "data": {
      "text/plain": [
       "'First arm:'"
      ]
     },
     "metadata": {},
     "output_type": "display_data"
    },
    {
     "data": {
      "image/png": "[encoded data removed]",
      "text/latex": [
       "$\\displaystyle \\left[\\begin{matrix}\\frac{\\sqrt{2}}{2}\\\\\\frac{\\sqrt{2} e^{i \\theta_{1}}}{2}\\end{matrix}\\right]$"
      ],
      "text/plain": [
       "⎡     √2      ⎤\n",
       "⎢     ──      ⎥\n",
       "⎢     2       ⎥\n",
       "⎢             ⎥\n",
       "⎢    ⅈ⋅\\theta₁⎥\n",
       "⎢√2⋅ℯ         ⎥\n",
       "⎢─────────────⎥\n",
       "⎣      2      ⎦"
      ]
     },
     "metadata": {},
     "output_type": "display_data"
    },
    {
     "data": {
      "text/plain": [
       "'After interaction:'"
      ]
     },
     "metadata": {},
     "output_type": "display_data"
    },
    {
     "data": {
      "image/png": "[encoded data removed]",
      "text/latex": [
       "$\\displaystyle \\left[\\begin{matrix}\\frac{\\sqrt{2} \\cdot \\left(\\frac{1}{2} - \\frac{e^{i \\Phi}}{2}\\right) e^{i \\theta_{1}}}{2} + \\frac{\\sqrt{2} \\left(\\frac{e^{i \\Phi}}{2} + \\frac{1}{2}\\right)}{2}\\\\\\frac{\\sqrt{2} \\cdot \\left(\\frac{1}{2} - \\frac{e^{i \\Phi}}{2}\\right)}{2} + \\frac{\\sqrt{2} \\left(\\frac{e^{i \\Phi}}{2} + \\frac{1}{2}\\right) e^{i \\theta_{1}}}{2}\\end{matrix}\\right]$"
      ],
      "text/plain": [
       "⎡   ⎛     ⅈ⋅\\Phi⎞                 ⎛ ⅈ⋅\\Phi    ⎞⎤\n",
       "⎢   ⎜1   ℯ      ⎟  ⅈ⋅\\theta₁      ⎜ℯ         1⎟⎥\n",
       "⎢√2⋅⎜─ - ───────⎟⋅ℯ            √2⋅⎜─────── + ─⎟⎥\n",
       "⎢   ⎝2      2   ⎠                 ⎝   2      2⎠⎥\n",
       "⎢─────────────────────────── + ────────────────⎥\n",
       "⎢             2                       2        ⎥\n",
       "⎢                                              ⎥\n",
       "⎢   ⎛     ⅈ⋅\\Phi⎞      ⎛ ⅈ⋅\\Phi    ⎞           ⎥\n",
       "⎢   ⎜1   ℯ      ⎟      ⎜ℯ         1⎟  ⅈ⋅\\theta₁⎥\n",
       "⎢√2⋅⎜─ - ───────⎟   √2⋅⎜─────── + ─⎟⋅ℯ         ⎥\n",
       "⎢   ⎝2      2   ⎠      ⎝   2      2⎠           ⎥\n",
       "⎢──────────────── + ───────────────────────────⎥\n",
       "⎣       2                        2             ⎦"
      ]
     },
     "metadata": {},
     "output_type": "display_data"
    },
    {
     "data": {
      "text/plain": [
       "'Second arm:'"
      ]
     },
     "metadata": {},
     "output_type": "display_data"
    },
    {
     "data": {
      "image/png": "[encoded data removed]",
      "text/latex": [
       "$\\displaystyle \\left[\\begin{matrix}\\frac{\\sqrt{2} \\cdot \\left(\\frac{1}{2} - \\frac{e^{i \\Phi}}{2}\\right) e^{i \\theta_{1}}}{2} + \\frac{\\sqrt{2} \\left(\\frac{e^{i \\Phi}}{2} + \\frac{1}{2}\\right)}{2}\\\\\\left(\\frac{\\sqrt{2} \\cdot \\left(\\frac{1}{2} - \\frac{e^{i \\Phi}}{2}\\right)}{2} + \\frac{\\sqrt{2} \\left(\\frac{e^{i \\Phi}}{2} + \\frac{1}{2}\\right) e^{i \\theta_{1}}}{2}\\right) e^{- i \\theta_{2}}\\end{matrix}\\right]$"
      ],
      "text/plain": [
       "⎡          ⎛     ⅈ⋅\\Phi⎞                 ⎛ ⅈ⋅\\Phi    ⎞       ⎤\n",
       "⎢          ⎜1   ℯ      ⎟  ⅈ⋅\\theta₁      ⎜ℯ         1⎟       ⎥\n",
       "⎢       √2⋅⎜─ - ───────⎟⋅ℯ            √2⋅⎜─────── + ─⎟       ⎥\n",
       "⎢          ⎝2      2   ⎠                 ⎝   2      2⎠       ⎥\n",
       "⎢       ─────────────────────────── + ────────────────       ⎥\n",
       "⎢                    2                       2               ⎥\n",
       "⎢                                                            ⎥\n",
       "⎢⎛   ⎛     ⅈ⋅\\Phi⎞      ⎛ ⅈ⋅\\Phi    ⎞           ⎞            ⎥\n",
       "⎢⎜   ⎜1   ℯ      ⎟      ⎜ℯ         1⎟  ⅈ⋅\\theta₁⎟            ⎥\n",
       "⎢⎜√2⋅⎜─ - ───────⎟   √2⋅⎜─────── + ─⎟⋅ℯ         ⎟            ⎥\n",
       "⎢⎜   ⎝2      2   ⎠      ⎝   2      2⎠           ⎟  -ⅈ⋅\\theta₂⎥\n",
       "⎢⎜──────────────── + ───────────────────────────⎟⋅ℯ          ⎥\n",
       "⎣⎝       2                        2             ⎠            ⎦"
      ]
     },
     "metadata": {},
     "output_type": "display_data"
    }
   ],
   "source": [
    "print('Evolution of the spin states:')\n",
    "psi0 = get_su2_state(theta=sym.pi/2,phi=0)  #phi_0=0 for incident polarization along x-direction\n",
    "display('Initial state:',psi0)\n",
    "psi1 = get_op(a=(1+sym.exp(sym.I*t1))/2,d=(1-sym.exp(sym.I*t1))/2)*psi0\n",
    "display('First arm:',psi1)\n",
    "psi2 = interaction*psi1\n",
    "display('After interaction:',psi2)\n",
    "psi3 = get_op(a=(1+sym.exp(-sym.I*t2))/2,d=(1-sym.exp(-sym.I*t2))/2)*psi2\n",
    "display('Second arm:',psi3)"
   ]
  },
  {
   "cell_type": "code",
   "execution_count": 5,
   "id": "40b718d7-b3b8-45ad-b1f1-1973aabe84f8",
   "metadata": {
    "scrolled": true
   },
   "outputs": [
    {
     "name": "stdout",
     "output_type": "stream",
     "text": [
      "Final polarization components\n",
      "Px:\n"
     ]
    },
    {
     "data": {
      "image/png": "[encoded data removed]",
      "text/latex": [
       "$\\displaystyle \\sin{\\left(\\theta_{1} \\right)} \\sin{\\left(\\theta_{2} \\right)} \\cos{\\left(\\Phi \\right)} + \\cos{\\left(\\theta_{1} \\right)} \\cos{\\left(\\theta_{2} \\right)}$"
      ],
      "text/plain": [
       "sin(\\theta₁)⋅sin(\\theta₂)⋅cos(\\Phi) + cos(\\theta₁)⋅cos(\\theta₂)"
      ]
     },
     "metadata": {},
     "output_type": "display_data"
    },
    {
     "name": "stdout",
     "output_type": "stream",
     "text": [
      "At echo, theta_1 = theta_2\n"
     ]
    },
    {
     "data": {
      "image/png": "[encoded data removed]",
      "text/latex": [
       "$\\displaystyle \\sin^{2}{\\left(\\theta_{1} \\right)} \\cos{\\left(\\Phi \\right)} + \\cos^{2}{\\left(\\theta_{1} \\right)}$"
      ],
      "text/plain": [
       "   2                         2         \n",
       "sin (\\theta₁)⋅cos(\\Phi) + cos (\\theta₁)"
      ]
     },
     "metadata": {},
     "output_type": "display_data"
    },
    {
     "name": "stdout",
     "output_type": "stream",
     "text": [
      "Echo averaged\n"
     ]
    },
    {
     "data": {
      "image/png": "[encoded data removed]",
      "text/latex": [
       "$\\displaystyle \\frac{\\cos{\\left(\\Phi \\right)}}{2} + \\frac{1}{2}$"
      ],
      "text/plain": [
       "cos(\\Phi)   1\n",
       "───────── + ─\n",
       "    2       2"
      ]
     },
     "metadata": {},
     "output_type": "display_data"
    },
    {
     "name": "stdout",
     "output_type": "stream",
     "text": [
      "\n",
      "\n",
      "Py:\n"
     ]
    },
    {
     "data": {
      "image/png": "[encoded data removed]",
      "text/latex": [
       "$\\displaystyle \\sin{\\left(\\theta_{1} \\right)} \\cos{\\left(\\Phi \\right)} \\cos{\\left(\\theta_{2} \\right)} - \\sin{\\left(\\theta_{2} \\right)} \\cos{\\left(\\theta_{1} \\right)}$"
      ],
      "text/plain": [
       "sin(\\theta₁)⋅cos(\\Phi)⋅cos(\\theta₂) - sin(\\theta₂)⋅cos(\\theta₁)"
      ]
     },
     "metadata": {},
     "output_type": "display_data"
    },
    {
     "name": "stdout",
     "output_type": "stream",
     "text": [
      "At echo, theta_1 = theta_2\n"
     ]
    },
    {
     "data": {
      "image/png": "[encoded data removed]",
      "text/latex": [
       "$\\displaystyle \\left(\\cos{\\left(\\Phi \\right)} - 1\\right) \\sin{\\left(\\theta_{1} \\right)} \\cos{\\left(\\theta_{1} \\right)}$"
      ],
      "text/plain": [
       "(cos(\\Phi) - 1)⋅sin(\\theta₁)⋅cos(\\theta₁)"
      ]
     },
     "metadata": {},
     "output_type": "display_data"
    },
    {
     "name": "stdout",
     "output_type": "stream",
     "text": [
      "Echo averaged\n"
     ]
    },
    {
     "data": {
      "image/png": "[encoded data removed]",
      "text/latex": [
       "$\\displaystyle 0$"
      ],
      "text/plain": [
       "0"
      ]
     },
     "metadata": {},
     "output_type": "display_data"
    },
    {
     "name": "stdout",
     "output_type": "stream",
     "text": [
      "\n",
      "\n",
      "Pz:\n"
     ]
    },
    {
     "data": {
      "image/png": "[encoded data removed]",
      "text/latex": [
       "$\\displaystyle \\sin{\\left(\\Phi \\right)} \\sin{\\left(\\theta_{1} \\right)}$"
      ],
      "text/plain": [
       "sin(\\Phi)⋅sin(\\theta₁)"
      ]
     },
     "metadata": {},
     "output_type": "display_data"
    },
    {
     "name": "stdout",
     "output_type": "stream",
     "text": [
      "At echo, theta_1 = theta_2\n"
     ]
    },
    {
     "data": {
      "image/png": "[encoded data removed]",
      "text/latex": [
       "$\\displaystyle \\sin{\\left(\\Phi \\right)} \\sin{\\left(\\theta_{1} \\right)}$"
      ],
      "text/plain": [
       "sin(\\Phi)⋅sin(\\theta₁)"
      ]
     },
     "metadata": {},
     "output_type": "display_data"
    },
    {
     "name": "stdout",
     "output_type": "stream",
     "text": [
      "Echo averaged\n"
     ]
    },
    {
     "data": {
      "image/png": "[encoded data removed]",
      "text/latex": [
       "$\\displaystyle 0$"
      ],
      "text/plain": [
       "0"
      ]
     },
     "metadata": {},
     "output_type": "display_data"
    },
    {
     "name": "stdout",
     "output_type": "stream",
     "text": [
      "\n",
      "\n"
     ]
    }
   ],
   "source": [
    "Pols = []\n",
    "print('Final polarization components')\n",
    "for i,k in zip(['Px','Py','Pz'],[spx,spy,spz]):\n",
    "    print(f'{i}:')\n",
    "    pk = expect(psi3,k).subs(p0,0).expand().simplify()\n",
    "    display(pk)\n",
    "    Pols.append(pk)  #saving this value\n",
    "    print('At echo, theta_1 = theta_2')\n",
    "    pk = pk.subs(t2,t1).expand().simplify()\n",
    "    display(pk)\n",
    "    print('Echo averaged')\n",
    "    pk = time_av(pk,t1)\n",
    "    display(pk)\n",
    "    print('\\n')"
   ]
  },
  {
   "cell_type": "code",
   "execution_count": 6,
   "id": "5120c65d-76e9-465d-83cd-2ef44b52fb88",
   "metadata": {
    "scrolled": true
   },
   "outputs": [
    {
     "name": "stdout",
     "output_type": "stream",
     "text": [
      "Final polarization components\n",
      "P_+x:\n"
     ]
    },
    {
     "data": {
      "image/png": "[encoded data removed]",
      "text/latex": [
       "$\\displaystyle \\frac{\\sin{\\left(\\theta_{1} \\right)} \\sin{\\left(\\theta_{2} \\right)} \\cos{\\left(\\Phi \\right)}}{2} + \\frac{\\cos{\\left(\\theta_{1} \\right)} \\cos{\\left(\\theta_{2} \\right)}}{2} + \\frac{1}{2}$"
      ],
      "text/plain": [
       "sin(\\theta₁)⋅sin(\\theta₂)⋅cos(\\Phi)   cos(\\theta₁)⋅cos(\\theta₂)   1\n",
       "─────────────────────────────────── + ───────────────────────── + ─\n",
       "                 2                                2               2"
      ]
     },
     "metadata": {},
     "output_type": "display_data"
    },
    {
     "name": "stdout",
     "output_type": "stream",
     "text": [
      "When theta_1 = -theta_2\n"
     ]
    },
    {
     "data": {
      "image/png": "[encoded data removed]",
      "text/latex": [
       "$\\displaystyle - \\frac{\\sin^{2}{\\left(\\theta_{1} \\right)} \\cos{\\left(\\Phi \\right)}}{2} + \\frac{\\cos^{2}{\\left(\\theta_{1} \\right)}}{2} + \\frac{1}{2}$"
      ],
      "text/plain": [
       "     2                         2             \n",
       "  sin (\\theta₁)⋅cos(\\Phi)   cos (\\theta₁)   1\n",
       "- ─────────────────────── + ───────────── + ─\n",
       "             2                    2         2"
      ]
     },
     "metadata": {},
     "output_type": "display_data"
    },
    {
     "name": "stdout",
     "output_type": "stream",
     "text": [
      "Echo averaged\n"
     ]
    },
    {
     "data": {
      "image/png": "[encoded data removed]",
      "text/latex": [
       "$\\displaystyle \\frac{3}{4} - \\frac{\\cos{\\left(\\Phi \\right)}}{4}$"
      ],
      "text/plain": [
       "3   cos(\\Phi)\n",
       "─ - ─────────\n",
       "4       4    "
      ]
     },
     "metadata": {},
     "output_type": "display_data"
    },
    {
     "name": "stdout",
     "output_type": "stream",
     "text": [
      "\n",
      "\n",
      "P_-x:\n"
     ]
    },
    {
     "data": {
      "image/png": "[encoded data removed]",
      "text/latex": [
       "$\\displaystyle - \\frac{\\sin{\\left(\\theta_{1} \\right)} \\sin{\\left(\\theta_{2} \\right)} \\cos{\\left(\\Phi \\right)}}{2} - \\frac{\\cos{\\left(\\theta_{1} \\right)} \\cos{\\left(\\theta_{2} \\right)}}{2} + \\frac{1}{2}$"
      ],
      "text/plain": [
       "  sin(\\theta₁)⋅sin(\\theta₂)⋅cos(\\Phi)   cos(\\theta₁)⋅cos(\\theta₂)   1\n",
       "- ─────────────────────────────────── - ───────────────────────── + ─\n",
       "                   2                                2               2"
      ]
     },
     "metadata": {},
     "output_type": "display_data"
    },
    {
     "name": "stdout",
     "output_type": "stream",
     "text": [
      "When theta_1 = -theta_2\n"
     ]
    },
    {
     "data": {
      "image/png": "[encoded data removed]",
      "text/latex": [
       "$\\displaystyle \\frac{\\left(\\cos{\\left(\\Phi \\right)} + 1\\right) \\sin^{2}{\\left(\\theta_{1} \\right)}}{2}$"
      ],
      "text/plain": [
       "                   2         \n",
       "(cos(\\Phi) + 1)⋅sin (\\theta₁)\n",
       "─────────────────────────────\n",
       "              2              "
      ]
     },
     "metadata": {},
     "output_type": "display_data"
    },
    {
     "name": "stdout",
     "output_type": "stream",
     "text": [
      "Echo averaged\n"
     ]
    },
    {
     "data": {
      "image/png": "[encoded data removed]",
      "text/latex": [
       "$\\displaystyle \\frac{\\cos{\\left(\\Phi \\right)}}{4} + \\frac{1}{4}$"
      ],
      "text/plain": [
       "cos(\\Phi)   1\n",
       "───────── + ─\n",
       "    4       4"
      ]
     },
     "metadata": {},
     "output_type": "display_data"
    },
    {
     "name": "stdout",
     "output_type": "stream",
     "text": [
      "\n",
      "\n",
      "P_x:\n"
     ]
    },
    {
     "data": {
      "image/png": "[encoded data removed]",
      "text/latex": [
       "$\\displaystyle \\sin{\\left(\\theta_{1} \\right)} \\sin{\\left(\\theta_{2} \\right)} \\cos{\\left(\\Phi \\right)} + \\cos{\\left(\\theta_{1} \\right)} \\cos{\\left(\\theta_{2} \\right)}$"
      ],
      "text/plain": [
       "sin(\\theta₁)⋅sin(\\theta₂)⋅cos(\\Phi) + cos(\\theta₁)⋅cos(\\theta₂)"
      ]
     },
     "metadata": {},
     "output_type": "display_data"
    },
    {
     "name": "stdout",
     "output_type": "stream",
     "text": [
      "When theta_1 = -theta_2\n"
     ]
    },
    {
     "data": {
      "image/png": "[encoded data removed]",
      "text/latex": [
       "$\\displaystyle - \\sin^{2}{\\left(\\theta_{1} \\right)} \\cos{\\left(\\Phi \\right)} + \\cos^{2}{\\left(\\theta_{1} \\right)}$"
      ],
      "text/plain": [
       "     2                         2         \n",
       "- sin (\\theta₁)⋅cos(\\Phi) + cos (\\theta₁)"
      ]
     },
     "metadata": {},
     "output_type": "display_data"
    },
    {
     "name": "stdout",
     "output_type": "stream",
     "text": [
      "Echo averaged\n"
     ]
    },
    {
     "data": {
      "image/png": "[encoded data removed]",
      "text/latex": [
       "$\\displaystyle \\frac{1}{2} - \\frac{\\cos{\\left(\\Phi \\right)}}{2}$"
      ],
      "text/plain": [
       "1   cos(\\Phi)\n",
       "─ - ─────────\n",
       "2       2    "
      ]
     },
     "metadata": {},
     "output_type": "display_data"
    },
    {
     "name": "stdout",
     "output_type": "stream",
     "text": [
      "\n",
      "\n"
     ]
    }
   ],
   "source": [
    "Pols2 = []\n",
    "print('Final polarization components')\n",
    "for i,k in zip(['P_+x','P_-x','P_x'],[get_proj(spx,sign=1),get_proj(spx,sign=-1),spx]):\n",
    "    print(f'{i}:')\n",
    "    pk = expect(psi3,k).subs(p0,0).expand().simplify()\n",
    "    display(pk)\n",
    "    Pols2.append(pk)  #saving this value\n",
    "    print('When theta_1 = -theta_2')\n",
    "    pk = pk.subs(t2,-t1).expand().simplify()\n",
    "    display(pk)\n",
    "    print('Echo averaged')\n",
    "    pk = time_av(pk,t1)\n",
    "    display(pk)\n",
    "    print('\\n')"
   ]
  },
  {
   "cell_type": "code",
   "execution_count": null,
   "id": "198e83cf-b90f-4210-ac92-f2e60ac4bfff",
   "metadata": {},
   "outputs": [],
   "source": []
  },
  {
   "cell_type": "code",
   "execution_count": 17,
   "id": "4fa9c521-25a8-4612-aeb1-dfc3e80fcde2",
   "metadata": {
    "scrolled": true
   },
   "outputs": [
    {
     "data": {
      "image/png": "[encoded data removed]",
      "text/latex": [
       "$\\displaystyle \\left[\\begin{matrix}\\cos{\\left(\\frac{\\theta}{2} \\right)} & \\sin{\\left(\\frac{\\theta}{2} \\right)}\\\\e^{i \\phi} \\sin{\\left(\\frac{\\theta}{2} \\right)} & e^{i \\left(\\phi + \\pi\\right)} \\cos{\\left(\\frac{\\theta}{2} \\right)}\\end{matrix}\\right]$"
      ],
      "text/plain": [
       "⎡       ⎛\\theta⎞                ⎛\\theta⎞       ⎤\n",
       "⎢    cos⎜──────⎟             sin⎜──────⎟       ⎥\n",
       "⎢       ⎝  2   ⎠                ⎝  2   ⎠       ⎥\n",
       "⎢                                              ⎥\n",
       "⎢ ⅈ⋅\\phi    ⎛\\theta⎞   ⅈ⋅(\\phi + π)    ⎛\\theta⎞⎥\n",
       "⎢ℯ      ⋅sin⎜──────⎟  ℯ            ⋅cos⎜──────⎟⎥\n",
       "⎣           ⎝  2   ⎠                   ⎝  2   ⎠⎦"
      ]
     },
     "metadata": {},
     "output_type": "display_data"
    },
    {
     "data": {
      "image/png": "[encoded data removed]",
      "text/latex": [
       "$\\displaystyle \\left[\\begin{matrix}\\sin{\\left(\\theta \\right)} \\cos{\\left(\\phi \\right)} & - e^{i \\phi} \\cos^{2}{\\left(\\frac{\\theta}{2} \\right)} + e^{- i \\phi} \\sin^{2}{\\left(\\frac{\\theta}{2} \\right)}\\\\e^{i \\phi} \\sin^{2}{\\left(\\frac{\\theta}{2} \\right)} - e^{- i \\phi} \\cos^{2}{\\left(\\frac{\\theta}{2} \\right)} & \\frac{\\left(e^{i \\left(2 \\phi + \\pi\\right)} - 1\\right) e^{- i \\phi} \\sin{\\left(\\theta \\right)}}{2}\\end{matrix}\\right]$"
      ],
      "text/plain": [
       "⎡                                                 ⅈ⋅\\phi    2⎛\\theta⎞    -ⅈ⋅\\p\n",
       "⎢           sin(\\theta)⋅cos(\\phi)              - ℯ      ⋅cos ⎜──────⎟ + ℯ     \n",
       "⎢                                                            ⎝  2   ⎠         \n",
       "⎢                                                                             \n",
       "⎢                                                ⎛ ⅈ⋅(2⋅\\phi + π)    ⎞  -ⅈ⋅\\ph\n",
       "⎢ ⅈ⋅\\phi    2⎛\\theta⎞    -ⅈ⋅\\phi    2⎛\\theta⎞    ⎝ℯ               - 1⎠⋅ℯ      \n",
       "⎢ℯ      ⋅sin ⎜──────⎟ - ℯ       ⋅cos ⎜──────⎟    ─────────────────────────────\n",
       "⎣            ⎝  2   ⎠                ⎝  2   ⎠                        2        \n",
       "\n",
       "hi    2⎛\\theta⎞⎤\n",
       "  ⋅sin ⎜──────⎟⎥\n",
       "       ⎝  2   ⎠⎥\n",
       "               ⎥\n",
       "i              ⎥\n",
       " ⋅sin(\\theta)  ⎥\n",
       "─────────────  ⎥\n",
       "               ⎦"
      ]
     },
     "metadata": {},
     "output_type": "display_data"
    },
    {
     "data": {
      "image/png": "[encoded data removed]",
      "text/latex": [
       "$\\displaystyle \\left[\\begin{matrix}\\sin{\\left(\\phi \\right)} \\sin{\\left(\\theta \\right)} & i \\left(e^{2 i \\phi} \\cos^{2}{\\left(\\frac{\\theta}{2} \\right)} - \\cos^{2}{\\left(\\frac{\\theta}{2} \\right)} + 1\\right) e^{- i \\phi}\\\\i \\left(- e^{2 i \\phi} \\sin^{2}{\\left(\\frac{\\theta}{2} \\right)} + \\sin^{2}{\\left(\\frac{\\theta}{2} \\right)} - 1\\right) e^{- i \\phi} & - \\sin{\\left(\\phi \\right)} \\sin{\\left(\\theta \\right)}\\end{matrix}\\right]$"
      ],
      "text/plain": [
       "⎡                                                            ⎛ 2⋅ⅈ⋅\\phi    2⎛\\\n",
       "⎢                 sin(\\phi)⋅sin(\\theta)                    ⅈ⋅⎜ℯ        ⋅cos ⎜─\n",
       "⎢                                                            ⎝              ⎝ \n",
       "⎢                                                                             \n",
       "⎢  ⎛   2⋅ⅈ⋅\\phi    2⎛\\theta⎞      2⎛\\theta⎞    ⎞  -ⅈ⋅\\phi                     \n",
       "⎢ⅈ⋅⎜- ℯ        ⋅sin ⎜──────⎟ + sin ⎜──────⎟ - 1⎟⋅ℯ                         -si\n",
       "⎣  ⎝                ⎝  2   ⎠       ⎝  2   ⎠    ⎠                              \n",
       "\n",
       "theta⎞      2⎛\\theta⎞    ⎞  -ⅈ⋅\\phi⎤\n",
       "─────⎟ - cos ⎜──────⎟ + 1⎟⋅ℯ       ⎥\n",
       " 2   ⎠       ⎝  2   ⎠    ⎠         ⎥\n",
       "                                   ⎥\n",
       "                                   ⎥\n",
       "n(\\phi)⋅sin(\\theta)                ⎥\n",
       "                                   ⎦"
      ]
     },
     "metadata": {},
     "output_type": "display_data"
    },
    {
     "data": {
      "image/png": "[encoded data removed]",
      "text/latex": [
       "$\\displaystyle \\left[\\begin{matrix}\\cos{\\left(\\theta \\right)} & \\left(\\cos{\\left(\\theta \\right)} + 1\\right) \\tan{\\left(\\frac{\\theta}{2} \\right)}\\\\\\sin{\\left(\\theta \\right)} & - \\cos{\\left(\\theta \\right)}\\end{matrix}\\right]$"
      ],
      "text/plain": [
       "⎡                                  ⎛\\theta⎞⎤\n",
       "⎢cos(\\theta)  (cos(\\theta) + 1)⋅tan⎜──────⎟⎥\n",
       "⎢                                  ⎝  2   ⎠⎥\n",
       "⎢                                          ⎥\n",
       "⎣sin(\\theta)          -cos(\\theta)         ⎦"
      ]
     },
     "metadata": {},
     "output_type": "display_data"
    }
   ],
   "source": [
    "nm,theta,phi = sym.symbols(r'n_m,\\theta,\\phi',real=True)  #general interaction matrix calculation\n",
    "c1,c2 = get_su2_state(theta=theta,phi=phi),get_su2_state(theta=sym.pi-theta,phi=phi+sym.pi)\n",
    "gen_basis = sym.Matrix(np.hstack([c1,c2]))\n",
    "display(gen_basis)\n",
    "\n",
    "gen_mag = change_basis(spx,gen_basis)\n",
    "display(gen_mag.applyfunc(sym.simplify))\n",
    "\n",
    "gen_mag = change_basis(spy,gen_basis)\n",
    "display(gen_mag.applyfunc(sym.simplify))\n",
    "\n",
    "gen_mag = change_basis(spz,gen_basis)\n",
    "display(gen_mag.applyfunc(sym.simplify))"
   ]
  },
  {
   "cell_type": "markdown",
   "id": "6a0ac128-4fee-428d-b3b4-e66507fa7983",
   "metadata": {},
   "source": [
    "## Numerical reflectivity calculations"
   ]
  },
  {
   "cell_type": "code",
   "execution_count": null,
   "id": "1874b312-3af6-4ebe-9bf9-ed76e3461d67",
   "metadata": {},
   "outputs": [],
   "source": [
    "LAMS = np.linspace(3,10,200)  #wavelength range at Larmor (AA)\n",
    "\n",
    "def get_crit(SLD,lam=LAMS,degrees=True):\n",
    "    '''Returns critical angle.'''\n",
    "    result = lam*np.sqrt(SLD/np.pi)\n",
    "    if degrees: result *= 180/np.pi\n",
    "    return result\n",
    "\n",
    "def get_pot(SLDs=[],ts=[],plot=False,plot_parms=SLD_PLOT_PARMS):\n",
    "    '''Returns the potential given the thicknesses and SLDs of each layer.\n",
    "    Doesn't include substrate.'''\n",
    "    total_x = np.linspace(0,np.sum(ts),500)\n",
    "    steps = np.array([np.sum(ts[:i]) for i in range(len(ts)+1)])\n",
    "    potential = np.sum([SLDs[indx]*((steps[indx]<=total_x)&(total_x<=steps[indx+1])) for indx in range(len(SLDs))],axis=0)\n",
    "    if plot: plot_function([total_x],[potential],plot_parms)\n",
    "    return potential,total_x\n",
    "\n",
    "def get_SLD(nuc,spin,mag):\n",
    "    '''Returns total scattering length density.'''\n",
    "    return nuc\n",
    "\n",
    "#check up vs down SLDs\n",
    "SLDs = {'Ti':-1.910,'FeCoV_nuc':5.121,'FeCoV_up':-0.33,'FeCoV_down':10.53,'Si':2.06,'NiMo':-8.52}\n",
    "\n",
    "sample_ts = np.array([50,50,50,50,100])*10  #convert to Angstroms\n",
    "blank_ts = np.array([100])*10\n",
    "\n",
    "sample_nuc_SLDs = [SLDs['Ti'],SLDs['FeCoV_nuc'],SLDs['Si'],SLDs['FeCoV_nuc'],SLDs['NiMo']]\n",
    "sample_up_SLDs = [SLDs['Ti'],SLDs['FeCoV_up'],SLDs['Si'],SLDs['FeCoV_up'],SLDs['NiMo']]\n",
    "sample_down_SLDs = [SLDs['Ti'],SLDs['FeCoV_down'],SLDs['Si'],SLDs['FeCoV_down'],SLDs['NiMo']]\n",
    "blank_SLDs = [SLDs['NiMo']]\n",
    "\n",
    "sample_nuc,X = get_pot(sample_nuc_SLDs,ts=sample_ts,\\\n",
    "                       plot_parms=SLD_PLOT_PARMS|{'title':'Sample','labels':('nuc','up','down')})\n",
    "sample_up,_ = get_pot(sample_up_SLDs,ts=sample_ts,\\\n",
    "                      plot_parms=SLD_PLOT_PARMS|{'title':'Sample','labels':('up')})\n",
    "sample_down,_ = get_pot(sample_down_SLDs,ts=sample_ts,\\\n",
    "                        plot_parms=SLD_PLOT_PARMS|{'title':'Sample','labels':('down')})\n",
    "blank,Xb = get_pot(blank_SLDs,ts=blank_ts,\\\n",
    "                   plot_parms=SLD_PLOT_PARMS|{'title':'Sample','labels':('blank')})\n",
    "\n",
    "plot_function([X,X,X,Xb],[sample_nuc,sample_up,sample_down,blank],\\\n",
    "              plot_parms=SLD_PLOT_PARMS|{'title':'Sample','labels':('nuc','up','down','blank')})"
   ]
  },
  {
   "cell_type": "code",
   "execution_count": null,
   "id": "e9a80249-6a40-4c30-bdfa-9bced14f8924",
   "metadata": {},
   "outputs": [],
   "source": [
    "def get_R(SLDs,ts,k0=1,substrate=SLDs['Si']):\n",
    "    '''Given a potential, returns the reflectivity. Assumes air for z<=0 and \n",
    "    an additional infinite-thickness substrate layer.'''\n",
    "    assert len(SLDs) == len(ts), 'Check number of layers!'\n",
    "    km = [k0*(1 - 2*np.pi*rho*1e-6/k0**2) for rho in [0.]+SLDs+[substrate]]\n",
    "    ms = len(km)  #air 0, layers (1,...,N), substrate N+1\n",
    "    \n",
    "    phim = [0]+[km[i]*ts[i] for i in range(ms-2)]  #phi_0 special case\n",
    "    \n",
    "    tm = [2*km[i]/(km[i] + km[i+1]) for i in range(ms-1)]\n",
    "    rm = [(km[i] - km[i+1])/(km[i] + km[i+1]) for i in range(ms-1)]\n",
    "\n",
    "    Rm = [np.array([[1,rm[i]],[rm[i],1]]) for i in range(ms-1)]\n",
    "    Cm = [1/tm[i]*np.diag((np.exp(-1j*phim[i]),np.exp(1j*phim[i])))@Rm[i] for i in range(ms-1)]\n",
    "\n",
    "    t_matrix = np.identity(2)\n",
    "    for C in Cm:\n",
    "        t_matrix = np.matmul(t_matrix,C)\n",
    "    R = (np.abs(t_matrix[1,0])/np.abs(t_matrix[0,0]))**2\n",
    "    return np.where(R>1,1,R)  #manually including the critical angle\n",
    "\n",
    "#print(get_R(sample_nuc_SLDs,sample_ts,k0=2*np.pi/4*.00275),'\\n')\n",
    "\n",
    "angles = np.linspace(.1,.25,2000)[1:]*np.pi/180  #incident angle\n",
    "#R = np.array([get_R(sample_nuc_SLDs,sample_ts,k0=2*np.pi/4*a) for a in angles])\n",
    "R_up = np.array([get_R(sample_up_SLDs,sample_ts,k0=2*np.pi/4*a) for a in angles])\n",
    "R_down = np.array([get_R(sample_down_SLDs,sample_ts,k0=2*np.pi/4*a) for a in angles])\n",
    "\n",
    "plt.figure(figsize=(10,5))\n",
    "#plt.plot(angles*180/np.pi,R,'-',label='nuc',lw=2)\n",
    "plt.plot(angles*180/np.pi,R_up,'-',label='up',lw=2)\n",
    "plt.plot(angles*180/np.pi,R_down,'-',label='down',lw=2)\n",
    "plt.xlabel(r'$\\theta$ (deg)')\n",
    "plt.ylabel(r'$R=|r|^2$')\n",
    "plt.ylim(-.025,1.025)\n",
    "plt.legend()\n",
    "plt.grid()\n",
    "plt.show()\n",
    "\n",
    "plt.figure(figsize=(10,5))\n",
    "plt.plot(angles*180/np.pi,(R_up-R_down)/(R_up+R_down),'-',lw=2)\n",
    "plt.xlabel(r'$\\theta$ (deg)')\n",
    "plt.ylabel(r'Pol')\n",
    "plt.ylim(-1.025,1.025)\n",
    "plt.grid()\n",
    "plt.show()"
   ]
  },
  {
   "cell_type": "code",
   "execution_count": null,
   "id": "dd0450b4-5df8-4b91-a5f3-47c3bfef5bc2",
   "metadata": {},
   "outputs": [],
   "source": []
  },
  {
   "cell_type": "markdown",
   "id": "a786a5d3-580c-4c1e-ae97-de0a8ae64975",
   "metadata": {},
   "source": [
    "## Experiment log\n",
    "***"
   ]
  },
  {
   "cell_type": "markdown",
   "id": "b35f93e7-722a-492a-b004-e2c888c1dfc8",
   "metadata": {},
   "source": [
    "### 11/14 Day One\n",
    "Setup and calibration of the beamline."
   ]
  },
  {
   "cell_type": "markdown",
   "id": "9e2db691-22b7-44e1-afb2-9968df4e639d",
   "metadata": {},
   "source": [
    "* 9:30\n",
    "* We decided that the magnetization of the sample will probbaly not be a problem because the sample is so thin. Therefore we will not worry about the mismatch of the sample field direction and the guide field direction.\n",
    "* Still need to magnetize the sample today and finish the sample holder."
   ]
  },
  {
   "cell_type": "markdown",
   "id": "b897d068-dd3a-4200-9b09-4fa3e1b4d787",
   "metadata": {},
   "source": [
    "* 2:00\n",
    "* Found the echo before lunch, need to finish building the sample holder and check the echo as we scan the sample stage (should only need a few mm of drive)\n",
    "* Should we use a supermirror or a blank for tuning echo?\n",
    "* Aligning the sample slit with the transmission monitor"
   ]
  },
  {
   "cell_type": "markdown",
   "id": "c341b775-8529-47b3-b71e-49223ff3bc4b",
   "metadata": {},
   "source": [
    "* 7:00\n",
    "* Decided to run echo scans overnight to test the long-term stability of the echo point because we cannot retune the echo once we put the magnetic sample in the beam. Also included a scan of the sample stack translation.\n",
    "* Tomorrow need to write down all of the slit distances and aperture sizes."
   ]
  },
  {
   "cell_type": "code",
   "execution_count": null,
   "id": "ce4c3063-9174-4b55-8431-e9c7303a58dd",
   "metadata": {},
   "outputs": [],
   "source": []
  },
  {
   "cell_type": "markdown",
   "id": "ea8f6658-3b98-4359-962b-fae18fe384e0",
   "metadata": {},
   "source": [
    "### 11/15 Day Two\n",
    "text"
   ]
  },
  {
   "cell_type": "code",
   "execution_count": null,
   "id": "e2ca022d-dafe-4c66-86cd-50c98ea1c64c",
   "metadata": {},
   "outputs": [],
   "source": []
  },
  {
   "cell_type": "code",
   "execution_count": null,
   "id": "c4cb788a-45f1-4a5c-bd40-78bf94731243",
   "metadata": {},
   "outputs": [],
   "source": []
  },
  {
   "cell_type": "code",
   "execution_count": null,
   "id": "13de4b4b-a51f-4da3-9fa9-ffe798623b63",
   "metadata": {},
   "outputs": [],
   "source": []
  },
  {
   "cell_type": "code",
   "execution_count": null,
   "id": "842558ac-2456-405a-a0d7-ceda99e139cf",
   "metadata": {},
   "outputs": [],
   "source": []
  },
  {
   "cell_type": "markdown",
   "id": "bd5fdd52-d22f-4ba7-b1cb-9b8bf6eb9c1b",
   "metadata": {
    "jp-MarkdownHeadingCollapsed": true
   },
   "source": [
    "## Testing space\n",
    "***"
   ]
  },
  {
   "cell_type": "code",
   "execution_count": null,
   "id": "86a19fea-67b7-4143-815f-d48161811d8b",
   "metadata": {},
   "outputs": [],
   "source": []
  },
  {
   "cell_type": "code",
   "execution_count": null,
   "id": "0e76a3d9-dc73-4f33-81ef-9c5b2303bd2e",
   "metadata": {},
   "outputs": [],
   "source": []
  },
  {
   "cell_type": "code",
   "execution_count": null,
   "id": "76823b31-1acd-472a-abe1-f77509139a54",
   "metadata": {},
   "outputs": [],
   "source": []
  },
  {
   "cell_type": "code",
   "execution_count": null,
   "id": "d42c3fa3-40f0-4af4-b1e7-a38c8ad40337",
   "metadata": {},
   "outputs": [],
   "source": []
  }
 ],
 "metadata": {
  "kernelspec": {
   "display_name": "Python 3 (ipykernel)",
   "language": "python",
   "name": "python3"
  },
  "language_info": {
   "codemirror_mode": {
    "name": "ipython",
    "version": 3
   },
   "file_extension": ".py",
   "mimetype": "text/x-python",
   "name": "python",
   "nbconvert_exporter": "python",
   "pygments_lexer": "ipython3",
   "version": "3.9.5"
  }
 },
 "nbformat": 4,
 "nbformat_minor": 5
}
