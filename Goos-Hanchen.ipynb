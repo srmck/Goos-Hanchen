{
 "cells": [
  {
   "cell_type": "markdown",
   "id": "4291f058-0fca-4761-a994-77659c6e3ddd",
   "metadata": {},
   "source": [
    "# Goos-Hanchen experiment\n",
    "***"
   ]
  },
  {
   "cell_type": "markdown",
   "id": "eafd6503-ddd9-453c-917b-8975fc579604",
   "metadata": {},
   "source": [
    "This notebook contains the data reduced from the usual Larmor Mantid reduction file. The experiment took place at Larmor beamline at ISIS from Nov 14-20th 2023. The reduced data is also contained in this github repository along with copies of the experiment log and pictures of the physical setup.\n",
    "\n",
    "While the goal is to measure the Goos-Hanchen spatial shift of the two neutron spin states, it seems at the moment that we can only experimentally measure the phase shfit between the two spin states.\n",
    "\n",
    "Problems/questions with the experiment:\n",
    "1. [ ] Can we\n",
    "2. aa\n",
    "3. aaa\n",
    "4. aa\n",
    "5. aa"
   ]
  },
  {
   "cell_type": "markdown",
   "id": "c90018e6-0b0a-43cd-912e-5959feda54c2",
   "metadata": {},
   "source": [
    "## Functions and constants"
   ]
  },
  {
   "cell_type": "code",
   "execution_count": 2,
   "id": "3853401b-9499-4191-915c-e8a54d5ca944",
   "metadata": {},
   "outputs": [],
   "source": [
    "import numpy as np\n",
    "import sympy as sym\n",
    "import scipy as sc\n",
    "import sympy as sym\n",
    "import matplotlib.pyplot as plt\n",
    "import scienceplots\n",
    "\n",
    "plt.style.use(['science','notebook', 'grid','default','bright'])\n",
    "SMALL_SIZE,MEDIUM_SIZE,BIGGER_SIZE = 15,18,20\n",
    "plt.rc('font', size=SMALL_SIZE)          # controls default text sizes\n",
    "plt.rc('axes', titlesize=SMALL_SIZE)     # fontsize of the axes title\n",
    "plt.rc('axes', labelsize=MEDIUM_SIZE)    # fontsize of the x and y labels\n",
    "plt.rc('xtick', labelsize=SMALL_SIZE)    # fontsize of the tick labels\n",
    "plt.rc('ytick', labelsize=SMALL_SIZE)    # fontsize of the tick labels\n",
    "plt.rc('legend', fontsize=SMALL_SIZE)    # legend fontsize\n",
    "plt.rc('figure', titlesize=BIGGER_SIZE)  # fontsize of the figure title\n",
    "plt.rc('axes', titlesize=BIGGER_SIZE)    # actually gets title font size\n",
    "\n",
    "sym.init_printing()"
   ]
  },
  {
   "cell_type": "markdown",
   "id": "fc55cfb1-09fe-4950-b627-1b2a679cc8e3",
   "metadata": {},
   "source": [
    "## Analytic calculations"
   ]
  },
  {
   "cell_type": "code",
   "execution_count": 103,
   "id": "5d18169b-3dc4-4873-ab0c-e9f494ca4dd2",
   "metadata": {},
   "outputs": [
    {
     "data": {
      "image/png": "[encoded data removed]",
      "text/latex": [
       "$\\displaystyle \\left[\\begin{matrix}\\frac{1}{2} & \\frac{1}{2}\\\\\\frac{1}{2} & - \\frac{1}{2}\\end{matrix}\\right]$"
      ],
      "text/plain": [
       "⎡1/2  1/2 ⎤\n",
       "⎢         ⎥\n",
       "⎣1/2  -1/2⎦"
      ]
     },
     "metadata": {},
     "output_type": "display_data"
    },
    {
     "data": {
      "image/png": "[encoded data removed]",
      "text/latex": [
       "$\\displaystyle \\left[\\begin{matrix}\\frac{e^{i \\Phi}}{2} + \\frac{1}{2} & \\frac{1}{2} - \\frac{e^{i \\Phi}}{2}\\\\\\frac{1}{2} - \\frac{e^{i \\Phi}}{2} & \\frac{e^{i \\Phi}}{2} + \\frac{1}{2}\\end{matrix}\\right]$"
      ],
      "text/plain": [
       "⎡ ⅈ⋅\\Phi           ⅈ⋅\\Phi⎤\n",
       "⎢ℯ         1  1   ℯ      ⎥\n",
       "⎢─────── + ─  ─ - ───────⎥\n",
       "⎢   2      2  2      2   ⎥\n",
       "⎢                        ⎥\n",
       "⎢     ⅈ⋅\\Phi   ⅈ⋅\\Phi    ⎥\n",
       "⎢1   ℯ        ℯ         1⎥\n",
       "⎢─ - ───────  ─────── + ─⎥\n",
       "⎣2      2        2      2⎦"
      ]
     },
     "metadata": {},
     "output_type": "display_data"
    }
   ],
   "source": [
    "def get_su2_state(theta=0,phi=0,alpha=None,beta=None,gamma=0):\n",
    "    '''Returns spin state, either with the usual parameterization or two complex numbers.'''\n",
    "    if alpha is None or beta is None:\n",
    "        result = [sym.cos(theta/2),sym.sin(theta/2)*sym.exp(sym.I*phi)]\n",
    "    else:\n",
    "        norm = sym.sqrt(sym.abs(alpha)**2 + sym.abs(beta)**2)\n",
    "        result = 1/norm*[alpha,beta]\n",
    "    return sym.exp(sym.I*gamma)*sym.Matrix(result).applyfunc(sym.simplify)\n",
    "\n",
    "def get_op(a=0,b=0,c=0,d=0):\n",
    "    '''Returns general operator in terms of the pauli vector.'''\n",
    "    result = a*sym.eye(2) + b*sym.Matrix([[0,1],[1,0]]) + \\\n",
    "    c*sym.Matrix([[0,-sym.I],[sym.I,0]]) + d*sym.Matrix([[1,0],[0,-1]])\n",
    "    return result.applyfunc(sym.simplify)\n",
    "\n",
    "def get_proj(op,sign=1):\n",
    "    '''Returns up/down projection operator.'''\n",
    "    assert sign == -1 or sign == 1, 'The sign must be +/-1.'\n",
    "    return (sym.Rational(1,2)*(sym.eye(2) + sign*op)).applyfunc(sym.simplify)\n",
    "\n",
    "def expect(lstate,op,rstate=None,force_real=True):\n",
    "    '''Returns the expectation value from the given state and operator.'''\n",
    "    if rstate is None: rstate = lstate\n",
    "    result = (lstate.H*op*rstate)[0]\n",
    "    if force_real: result = sym.re(result)\n",
    "    return result.simplify()\n",
    "\n",
    "def change_basis(op,new):\n",
    "    '''Returns operator in new basis.'''\n",
    "    return (new*op*new.inv()).applyfunc(sym.simplify)\n",
    "\n",
    "p0,p1,p2,t1,t2,P1,P2,P = sym.symbols(r'\\phi_0,\\phi_1,\\phi_2,\\theta_1,\\theta_2,\\Phi_1,\\Phi_2,\\Phi',real=True)\n",
    "idt,spx,spy,spz = get_op(a=1),get_op(b=1),get_op(c=1),get_op(d=1)\n",
    "x_cob = sym.Rational(1,2)*sym.Matrix([[1,1],[1,-1]])\n",
    "display(x_cob)\n",
    "interaction = change_basis(sym.diag(1,sym.exp(sym.I*P)),x_cob)\n",
    "display(interaction.applyfunc(sym.simplify))"
   ]
  },
  {
   "cell_type": "code",
   "execution_count": 101,
   "id": "f83f06d0-f5ba-463b-9e6c-9c2e1957a855",
   "metadata": {},
   "outputs": [
    {
     "data": {
      "image/png": "[encoded data removed]",
      "text/latex": [
       "$\\displaystyle \\left[\\begin{matrix}\\frac{\\sqrt{2}}{2}\\\\\\frac{\\sqrt{2} e^{i \\phi_{0}}}{2}\\end{matrix}\\right]$"
      ],
      "text/plain": [
       "⎡    √2     ⎤\n",
       "⎢    ──     ⎥\n",
       "⎢    2      ⎥\n",
       "⎢           ⎥\n",
       "⎢    ⅈ⋅\\phi₀⎥\n",
       "⎢√2⋅ℯ       ⎥\n",
       "⎢───────────⎥\n",
       "⎣     2     ⎦"
      ]
     },
     "metadata": {},
     "output_type": "display_data"
    },
    {
     "data": {
      "image/png": "[encoded data removed]",
      "text/latex": [
       "$\\displaystyle \\left[\\begin{matrix}\\frac{\\sqrt{2}}{2}\\\\\\frac{\\sqrt{2} e^{i \\phi_{0}} e^{i \\theta_{1}}}{2}\\end{matrix}\\right]$"
      ],
      "text/plain": [
       "⎡          √2          ⎤\n",
       "⎢          ──          ⎥\n",
       "⎢          2           ⎥\n",
       "⎢                      ⎥\n",
       "⎢    ⅈ⋅\\phi₀  ⅈ⋅\\theta₁⎥\n",
       "⎢√2⋅ℯ       ⋅ℯ         ⎥\n",
       "⎢──────────────────────⎥\n",
       "⎣          2           ⎦"
      ]
     },
     "metadata": {},
     "output_type": "display_data"
    },
    {
     "data": {
      "image/png": "[encoded data removed]",
      "text/latex": [
       "$\\displaystyle \\left[\\begin{matrix}\\frac{\\sqrt{2} \\cdot \\left(\\frac{1}{2} - \\frac{e^{i \\Phi}}{2}\\right) e^{i \\phi_{0}} e^{i \\theta_{1}}}{2} + \\frac{\\sqrt{2} \\left(\\frac{e^{i \\Phi}}{2} + \\frac{1}{2}\\right)}{2}\\\\\\frac{\\sqrt{2} \\cdot \\left(\\frac{1}{2} - \\frac{e^{i \\Phi}}{2}\\right)}{2} + \\frac{\\sqrt{2} \\left(\\frac{e^{i \\Phi}}{2} + \\frac{1}{2}\\right) e^{i \\phi_{0}} e^{i \\theta_{1}}}{2}\\end{matrix}\\right]$"
      ],
      "text/plain": [
       "⎡   ⎛     ⅈ⋅\\Phi⎞                          ⎛ ⅈ⋅\\Phi    ⎞⎤\n",
       "⎢   ⎜1   ℯ      ⎟  ⅈ⋅\\phi₀  ⅈ⋅\\theta₁      ⎜ℯ         1⎟⎥\n",
       "⎢√2⋅⎜─ - ───────⎟⋅ℯ       ⋅ℯ            √2⋅⎜─────── + ─⎟⎥\n",
       "⎢   ⎝2      2   ⎠                          ⎝   2      2⎠⎥\n",
       "⎢──────────────────────────────────── + ────────────────⎥\n",
       "⎢                 2                            2        ⎥\n",
       "⎢                                                       ⎥\n",
       "⎢   ⎛     ⅈ⋅\\Phi⎞      ⎛ ⅈ⋅\\Phi    ⎞                    ⎥\n",
       "⎢   ⎜1   ℯ      ⎟      ⎜ℯ         1⎟  ⅈ⋅\\phi₀  ⅈ⋅\\theta₁⎥\n",
       "⎢√2⋅⎜─ - ───────⎟   √2⋅⎜─────── + ─⎟⋅ℯ       ⋅ℯ         ⎥\n",
       "⎢   ⎝2      2   ⎠      ⎝   2      2⎠                    ⎥\n",
       "⎢──────────────── + ────────────────────────────────────⎥\n",
       "⎣       2                            2                  ⎦"
      ]
     },
     "metadata": {},
     "output_type": "display_data"
    },
    {
     "data": {
      "image/png": "[encoded data removed]",
      "text/latex": [
       "$\\displaystyle \\left[\\begin{matrix}\\frac{\\sqrt{2} \\cdot \\left(\\frac{1}{2} - \\frac{e^{i \\Phi}}{2}\\right) e^{i \\phi_{0}} e^{i \\theta_{1}}}{2} + \\frac{\\sqrt{2} \\left(\\frac{e^{i \\Phi}}{2} + \\frac{1}{2}\\right)}{2}\\\\\\left(\\frac{\\sqrt{2} \\cdot \\left(\\frac{1}{2} - \\frac{e^{i \\Phi}}{2}\\right)}{2} + \\frac{\\sqrt{2} \\left(\\frac{e^{i \\Phi}}{2} + \\frac{1}{2}\\right) e^{i \\phi_{0}} e^{i \\theta_{1}}}{2}\\right) e^{- i \\theta_{2}}\\end{matrix}\\right]$"
      ],
      "text/plain": [
       "⎡          ⎛     ⅈ⋅\\Phi⎞                          ⎛ ⅈ⋅\\Phi    ⎞       ⎤\n",
       "⎢          ⎜1   ℯ      ⎟  ⅈ⋅\\phi₀  ⅈ⋅\\theta₁      ⎜ℯ         1⎟       ⎥\n",
       "⎢       √2⋅⎜─ - ───────⎟⋅ℯ       ⋅ℯ            √2⋅⎜─────── + ─⎟       ⎥\n",
       "⎢          ⎝2      2   ⎠                          ⎝   2      2⎠       ⎥\n",
       "⎢       ──────────────────────────────────── + ────────────────       ⎥\n",
       "⎢                        2                            2               ⎥\n",
       "⎢                                                                     ⎥\n",
       "⎢⎛   ⎛     ⅈ⋅\\Phi⎞      ⎛ ⅈ⋅\\Phi    ⎞                    ⎞            ⎥\n",
       "⎢⎜   ⎜1   ℯ      ⎟      ⎜ℯ         1⎟  ⅈ⋅\\phi₀  ⅈ⋅\\theta₁⎟            ⎥\n",
       "⎢⎜√2⋅⎜─ - ───────⎟   √2⋅⎜─────── + ─⎟⋅ℯ       ⋅ℯ         ⎟            ⎥\n",
       "⎢⎜   ⎝2      2   ⎠      ⎝   2      2⎠                    ⎟  -ⅈ⋅\\theta₂⎥\n",
       "⎢⎜──────────────── + ────────────────────────────────────⎟⋅ℯ          ⎥\n",
       "⎣⎝       2                            2                  ⎠            ⎦"
      ]
     },
     "metadata": {},
     "output_type": "display_data"
    }
   ],
   "source": [
    "psi0 = get_su2_state(theta=sym.pi/2,phi=p0)\n",
    "display(psi0)\n",
    "psi1 = get_op(a=(1+sym.exp(sym.I*t1))/2,d=(1-sym.exp(sym.I*t1))/2)*psi0\n",
    "display(psi1)\n",
    "psi2 = interaction*psi1\n",
    "display(psi2)\n",
    "psi3 = get_op(a=(1+sym.exp(-sym.I*t2))/2,d=(1-sym.exp(-sym.I*t2))/2)*psi2\n",
    "display(psi3)"
   ]
  },
  {
   "cell_type": "code",
   "execution_count": 98,
   "id": "40b718d7-b3b8-45ad-b1f1-1973aabe84f8",
   "metadata": {},
   "outputs": [
    {
     "name": "stdout",
     "output_type": "stream",
     "text": [
      "Px :\n"
     ]
    },
    {
     "data": {
      "image/png": "[encoded data removed]",
      "text/latex": [
       "$\\displaystyle \\sin{\\left(\\theta_{1} \\right)} \\sin{\\left(\\theta_{2} \\right)} \\cos{\\left(\\Phi \\right)} + \\cos{\\left(\\theta_{1} \\right)} \\cos{\\left(\\theta_{2} \\right)}$"
      ],
      "text/plain": [
       "sin(\\theta₁)⋅sin(\\theta₂)⋅cos(\\Phi) + cos(\\theta₁)⋅cos(\\theta₂)"
      ]
     },
     "metadata": {},
     "output_type": "display_data"
    },
    {
     "name": "stdout",
     "output_type": "stream",
     "text": [
      "At echo, theta_1 = theta_2\n"
     ]
    },
    {
     "data": {
      "image/png": "[encoded data removed]",
      "text/latex": [
       "$\\displaystyle \\sin^{2}{\\left(\\theta_{1} \\right)} \\cos{\\left(\\Phi \\right)} + \\cos^{2}{\\left(\\theta_{1} \\right)}$"
      ],
      "text/plain": [
       "   2                         2         \n",
       "sin (\\theta₁)⋅cos(\\Phi) + cos (\\theta₁)"
      ]
     },
     "metadata": {},
     "output_type": "display_data"
    },
    {
     "name": "stdout",
     "output_type": "stream",
     "text": [
      "No interaction, Phi = 0\n"
     ]
    },
    {
     "data": {
      "image/png": "[encoded data removed]",
      "text/latex": [
       "$\\displaystyle 1$"
      ],
      "text/plain": [
       "1"
      ]
     },
     "metadata": {},
     "output_type": "display_data"
    },
    {
     "name": "stdout",
     "output_type": "stream",
     "text": [
      "\n",
      "\n",
      "Py :\n"
     ]
    },
    {
     "data": {
      "image/png": "[encoded data removed]",
      "text/latex": [
       "$\\displaystyle \\sin{\\left(\\theta_{1} \\right)} \\cos{\\left(\\Phi \\right)} \\cos{\\left(\\theta_{2} \\right)} - \\sin{\\left(\\theta_{2} \\right)} \\cos{\\left(\\theta_{1} \\right)}$"
      ],
      "text/plain": [
       "sin(\\theta₁)⋅cos(\\Phi)⋅cos(\\theta₂) - sin(\\theta₂)⋅cos(\\theta₁)"
      ]
     },
     "metadata": {},
     "output_type": "display_data"
    },
    {
     "name": "stdout",
     "output_type": "stream",
     "text": [
      "At echo, theta_1 = theta_2\n"
     ]
    },
    {
     "data": {
      "image/png": "[encoded data removed]",
      "text/latex": [
       "$\\displaystyle \\left(\\cos{\\left(\\Phi \\right)} - 1\\right) \\sin{\\left(\\theta_{1} \\right)} \\cos{\\left(\\theta_{1} \\right)}$"
      ],
      "text/plain": [
       "(cos(\\Phi) - 1)⋅sin(\\theta₁)⋅cos(\\theta₁)"
      ]
     },
     "metadata": {},
     "output_type": "display_data"
    },
    {
     "name": "stdout",
     "output_type": "stream",
     "text": [
      "No interaction, Phi = 0\n"
     ]
    },
    {
     "data": {
      "image/png": "[encoded data removed]",
      "text/latex": [
       "$\\displaystyle 0$"
      ],
      "text/plain": [
       "0"
      ]
     },
     "metadata": {},
     "output_type": "display_data"
    },
    {
     "name": "stdout",
     "output_type": "stream",
     "text": [
      "\n",
      "\n",
      "Pz :\n"
     ]
    },
    {
     "data": {
      "image/png": "[encoded data removed]",
      "text/latex": [
       "$\\displaystyle \\sin{\\left(\\Phi \\right)} \\sin{\\left(\\theta_{1} \\right)}$"
      ],
      "text/plain": [
       "sin(\\Phi)⋅sin(\\theta₁)"
      ]
     },
     "metadata": {},
     "output_type": "display_data"
    },
    {
     "name": "stdout",
     "output_type": "stream",
     "text": [
      "At echo, theta_1 = theta_2\n"
     ]
    },
    {
     "data": {
      "image/png": "[encoded data removed]",
      "text/latex": [
       "$\\displaystyle \\sin{\\left(\\Phi \\right)} \\sin{\\left(\\theta_{1} \\right)}$"
      ],
      "text/plain": [
       "sin(\\Phi)⋅sin(\\theta₁)"
      ]
     },
     "metadata": {},
     "output_type": "display_data"
    },
    {
     "name": "stdout",
     "output_type": "stream",
     "text": [
      "No interaction, Phi = 0\n"
     ]
    },
    {
     "data": {
      "image/png": "[encoded data removed]",
      "text/latex": [
       "$\\displaystyle 0$"
      ],
      "text/plain": [
       "0"
      ]
     },
     "metadata": {},
     "output_type": "display_data"
    },
    {
     "name": "stdout",
     "output_type": "stream",
     "text": [
      "\n",
      "\n"
     ]
    }
   ],
   "source": [
    "for i,k in zip(['Px','Py','Pz'],[spx,spy,spz]):\n",
    "    print(i,':')\n",
    "    pk = expect(psi3,k).subs(p0,0).expand().simplify()\n",
    "    display(pk)\n",
    "    print('At echo, theta_1 = theta_2')\n",
    "    pk = pk.subs(t2,t1).expand().simplify()\n",
    "    display(pk)\n",
    "    print('No interaction, Phi = 0')\n",
    "    pk = pk.subs(P,0).expand().simplify()\n",
    "    display(pk)\n",
    "    print('\\n')"
   ]
  },
  {
   "cell_type": "code",
   "execution_count": null,
   "id": "4fa9c521-25a8-4612-aeb1-dfc3e80fcde2",
   "metadata": {},
   "outputs": [],
   "source": []
  },
  {
   "cell_type": "code",
   "execution_count": null,
   "id": "8adf9178-3b17-4e9e-a3bd-40e735eef191",
   "metadata": {},
   "outputs": [],
   "source": []
  },
  {
   "cell_type": "markdown",
   "id": "a786a5d3-580c-4c1e-ae97-de0a8ae64975",
   "metadata": {},
   "source": [
    "## Experiment log\n",
    "***"
   ]
  },
  {
   "cell_type": "markdown",
   "id": "b35f93e7-722a-492a-b004-e2c888c1dfc8",
   "metadata": {},
   "source": [
    "### 11/14 Day One\n",
    "Setup and calibration of the beamline"
   ]
  },
  {
   "cell_type": "code",
   "execution_count": null,
   "id": "f7b4ecf8-1f30-485a-b759-f770aa94ec02",
   "metadata": {},
   "outputs": [],
   "source": []
  },
  {
   "cell_type": "code",
   "execution_count": null,
   "id": "6acea13d-767a-4178-b916-c748623b6aad",
   "metadata": {},
   "outputs": [],
   "source": []
  },
  {
   "cell_type": "code",
   "execution_count": null,
   "id": "a1b84784-9031-43d7-9890-544f9b717e42",
   "metadata": {},
   "outputs": [],
   "source": []
  },
  {
   "cell_type": "markdown",
   "id": "ea8f6658-3b98-4359-962b-fae18fe384e0",
   "metadata": {},
   "source": [
    "### 11/15 Day Two\n",
    "_"
   ]
  },
  {
   "cell_type": "code",
   "execution_count": null,
   "id": "e2ca022d-dafe-4c66-86cd-50c98ea1c64c",
   "metadata": {},
   "outputs": [],
   "source": []
  },
  {
   "cell_type": "code",
   "execution_count": null,
   "id": "c4cb788a-45f1-4a5c-bd40-78bf94731243",
   "metadata": {},
   "outputs": [],
   "source": []
  },
  {
   "cell_type": "code",
   "execution_count": null,
   "id": "13de4b4b-a51f-4da3-9fa9-ffe798623b63",
   "metadata": {},
   "outputs": [],
   "source": []
  },
  {
   "cell_type": "code",
   "execution_count": null,
   "id": "842558ac-2456-405a-a0d7-ceda99e139cf",
   "metadata": {},
   "outputs": [],
   "source": []
  },
  {
   "cell_type": "markdown",
   "id": "bd5fdd52-d22f-4ba7-b1cb-9b8bf6eb9c1b",
   "metadata": {},
   "source": [
    "## Testing space\n",
    "***"
   ]
  },
  {
   "cell_type": "code",
   "execution_count": null,
   "id": "86a19fea-67b7-4143-815f-d48161811d8b",
   "metadata": {},
   "outputs": [],
   "source": []
  },
  {
   "cell_type": "code",
   "execution_count": null,
   "id": "0e76a3d9-dc73-4f33-81ef-9c5b2303bd2e",
   "metadata": {},
   "outputs": [],
   "source": []
  },
  {
   "cell_type": "code",
   "execution_count": null,
   "id": "76823b31-1acd-472a-abe1-f77509139a54",
   "metadata": {},
   "outputs": [],
   "source": []
  },
  {
   "cell_type": "code",
   "execution_count": null,
   "id": "d42c3fa3-40f0-4af4-b1e7-a38c8ad40337",
   "metadata": {},
   "outputs": [],
   "source": []
  }
 ],
 "metadata": {
  "kernelspec": {
   "display_name": "Python 3 (ipykernel)",
   "language": "python",
   "name": "python3"
  },
  "language_info": {
   "codemirror_mode": {
    "name": "ipython",
    "version": 3
   },
   "file_extension": ".py",
   "mimetype": "text/x-python",
   "name": "python",
   "nbconvert_exporter": "python",
   "pygments_lexer": "ipython3",
   "version": "3.9.5"
  }
 },
 "nbformat": 4,
 "nbformat_minor": 5
}
