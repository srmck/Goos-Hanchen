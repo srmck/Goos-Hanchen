{
 "cells": [
  {
   "cell_type": "markdown",
   "id": "4291f058-0fca-4761-a994-77659c6e3ddd",
   "metadata": {},
   "source": [
    "# Goos-Hanchen experiment\n",
    "***"
   ]
  },
  {
   "cell_type": "markdown",
   "id": "eafd6503-ddd9-453c-917b-8975fc579604",
   "metadata": {},
   "source": [
    "DO NOT CHANGE, KEEP FOR LEGACY PURPOSES!\n",
    "\n",
    "This notebook contains the data reduced from the usual Larmor Mantid reduction file. The experiment took place at Larmor beamline at ISIS from Nov 14-20th 2023. The reduced data is also contained in this github repository along with copies of the experiment log and pictures of the physical setup.\n",
    "\n",
    "While the goal is to measure the Goos-Hanchen spatial shift of the two neutron spin states, it seems at the moment that we can only experimentally measure the phase shift between the two spin states. Again, the issue of the intrinsic coherence length of neutron pops up: Quan has shown some interesting potentially-observable effects in the different regiemes, but it is unclear how to exactly experimentally produce his proposed setups.\n",
    "\n",
    "After performing the experiment, we found a noticable enhancement of absorption for one spin state, consistent with the idea that the multilayer is acting like a Fabry-Perot interferometer.\n",
    "\n",
    "***\n",
    "### Sample information\n",
    "The two identical samples (assuming natural abundances) consist of the following layers with scattering length densities (SLDs) given in units of 10^-6 A^-2:\n",
    "1. 50 nm Ti, SLD = -1.910\n",
    "2. 50 nm Fe-Co-V 50-48-2%:\n",
    "   1. Nuclear: SLD = 5.121\n",
    "   2. Magnetic: SLD = -5.451 and 5.409\n",
    "   3. Total: SLD = -0.33 and 10.53\n",
    "4. 50 nm Si, SLD = 2.073\n",
    "5. 50 nm Fe-Co-V 50-48-2%\n",
    "6. 100 nm Ni-Mo 88-12% (non-magnetic), SLD = 8.52\n",
    "7. Si substrate (total size 100 mm x 50 mm x 0.78 mm)\n",
    "\n",
    "The sample can be magnetized in a ~200 G field.\n",
    "\n",
    "We also have two identical non-magnetic blanks:\n",
    "1. 100 nm Ni-Mo 88-12%\n",
    "2. Si substrate (total size 100 mm x 50 mm x 0.78 mm)\n",
    "\n",
    "***\n",
    "### Problems/questions:\n",
    "1. The film's easy axis and the plane of incidence are orthogonal: therefore, the beam size on target will be cut in half if we want the remnant mangetization to be parallel to the guide field at the sample position (vertical direction)\n",
    "   1. ~~We can stack the two films back-to-back to create a better return loop for the magnetic flux lines at the sample position.~~\n",
    "   2. ~~We can also try wrapping the sample in a thin layer of iron foil to close the flux loop.~~\n",
    "   3. After discussion, we think that this will not be a problem because the sample is so thin, the dipole field should fall to zero quickly enough to be negligible.\n",
    "2. Do we need a slit after the sample?\n",
    "   1. Yes, to remove the direct beam"
   ]
  },
  {
   "cell_type": "markdown",
   "id": "c90018e6-0b0a-43cd-912e-5959feda54c2",
   "metadata": {},
   "source": [
    "## Functions and constants"
   ]
  },
  {
   "cell_type": "code",
   "execution_count": null,
   "id": "3853401b-9499-4191-915c-e8a54d5ca944",
   "metadata": {},
   "outputs": [],
   "source": [
    "import numpy as np\n",
    "import sympy as sym\n",
    "import scipy as sc\n",
    "from scipy.interpolate import CubicSpline,make_smoothing_spline\n",
    "from scipy.optimize import curve_fit\n",
    "import sympy as sym\n",
    "import matplotlib.pyplot as plt\n",
    "from matplotlib import cm\n",
    "import scienceplots\n",
    "import csv\n",
    "import warnings\n",
    "from os.path import isdir,isfile\n",
    "\n",
    "plot_width = 10\n",
    "plot_height = plot_width/2\n",
    "plt.style.use(['science','notebook', 'grid','default','bright'])\n",
    "SMALL_SIZE,MEDIUM_SIZE,BIGGER_SIZE = 15,18,20\n",
    "plt.rc('font', size=SMALL_SIZE)          # controls default text sizes\n",
    "plt.rc('axes', titlesize=SMALL_SIZE)     # fontsize of the axes title\n",
    "plt.rc('axes', labelsize=MEDIUM_SIZE)    # fontsize of the x and y labels\n",
    "plt.rc('xtick', labelsize=SMALL_SIZE)    # fontsize of the tick labels\n",
    "plt.rc('ytick', labelsize=SMALL_SIZE)    # fontsize of the tick labels\n",
    "plt.rc('legend', fontsize=SMALL_SIZE)    # legend fontsize\n",
    "plt.rc('figure', titlesize=BIGGER_SIZE)  # fontsize of the figure title\n",
    "plt.rc('axes', titlesize=BIGGER_SIZE)    # actually gets title font size\n",
    "\n",
    "default_plot_parms = {'size':(plot_width,plot_height),'title':None,'xlabel':None,'ylabel':None,\\\n",
    "                      'grid':True,'figs':(1,1)}\n",
    "def prepare_plot(parms=default_plot_parms):\n",
    "    '''Helper function that returns basic figure object.'''\n",
    "    fig,ax = plt.subplots(*parms['figs'],figsize=parms['size'])\n",
    "    plt.title(parms['title'])\n",
    "    plt.xlabel(parms['xlabel'])\n",
    "    plt.ylabel(parms['ylabel'])\n",
    "    plt.grid(parms['grid'])\n",
    "    return fig,ax\n",
    "\n",
    "### Legacy plotting methods ###\n",
    "DEFAULT_PLOT_PARMS = {'title':'','xlab':'','ylab':'','size':(8,5),'lw':3,'ls':'--'}\n",
    "SLD_PLOT_PARMS = DEFAULT_PLOT_PARMS|{'xlab':'Depth [AA]','ylab':'SLD [1e-6 AA^-2]','labels':['']}\n",
    "THETA_C_PARMS = DEFAULT_PLOT_PARMS|{'xlab':r'$\\lambda$ [AA]','ylab':r'$\\theta_c$ [deg]',\\\n",
    "                                    'labels':['nuc','up','down','blank'],'ls':'-'}\n",
    "DEFAULT_2DPLOT_PARMS = DEFAULT_PLOT_PARMS|{'title':'Pol','size':(12,8),'vals':(None,None),'extent':None,'xlab':r'$\\lambda$',\\\n",
    "                                          'ylab':'Pixel','norm_max':False,'aspect':None,'shrink':.25}\n",
    "\n",
    "DEFAULT_POL_PLOT_PARMS = {'title':'Pol','xlab':r'$\\lambda$','ylab':r'Pixel','size':(12,8),'vals':(-1,1),\\\n",
    "                  'norm_max':False,'aspect':.25,'shrink':.25}\n",
    "\n",
    "def plot_function(xdata,ydata,plot_parms=DEFAULT_PLOT_PARMS):\n",
    "    '''General function to plot given data.'''\n",
    "    assert len(xdata) == len(ydata), 'Len mismatch between x and y data!'\n",
    "    fig,ax = plt.subplots(figsize=plot_parms['size'])\n",
    "    \n",
    "    for indx,(x,y) in enumerate(zip(xdata,ydata)):\n",
    "        ax.plot(x,y,plot_parms['ls'],linewidth=plot_parms['lw'],label=plot_parms['labels'][indx])\n",
    "    ax.set(title=plot_parms['title'],xlabel=plot_parms['xlab'],ylabel=plot_parms['ylab'])\n",
    "    if plot_parms['labels'] is not None: plt.legend()\n",
    "\n",
    "    plt.grid()\n",
    "    plt.tight_layout()\n",
    "    plt.show()\n",
    "\n",
    "def plot_2D(image,plot_parms=DEFAULT_2DPLOT_PARMS):\n",
    "    '''General function to plot 2D data.'''\n",
    "    fig,ax = plt.subplots(figsize=plot_parms['size'])\n",
    "    if plot_parms['norm_max']: vm = np.max(image)\n",
    "    else: vm = plot_parms['vals'][-1]\n",
    "    plt.imshow(image,origin='lower',vmin=plot_parms['vals'][0],vmax=vm,\\\n",
    "               extent=plot_parms['extent'],aspect=plot_parms['aspect'])\n",
    "    ax.set(title=plot_parms['title'],xlabel=plot_parms['xlab'],ylabel=plot_parms['ylab'])\n",
    "    plt.colorbar(shrink=plot_parms['shrink'])\n",
    "    plt.show()"
   ]
  },
  {
   "cell_type": "markdown",
   "id": "fc55cfb1-09fe-4950-b627-1b2a679cc8e3",
   "metadata": {
    "jp-MarkdownHeadingCollapsed": true
   },
   "source": [
    "## Analytic calculations"
   ]
  },
  {
   "cell_type": "code",
   "execution_count": null,
   "id": "5d18169b-3dc4-4873-ab0c-e9f494ca4dd2",
   "metadata": {},
   "outputs": [],
   "source": [
    "def get_su2_state(theta=0,phi=0,alpha=None,beta=None,gamma=0):\n",
    "    '''Returns spin state, either with the usual parameterization or two complex numbers.'''\n",
    "    if alpha is None or beta is None:\n",
    "        result = [sym.cos(theta/2),sym.sin(theta/2)*sym.exp(sym.I*phi)]\n",
    "    else:\n",
    "        norm = sym.sqrt(sym.abs(alpha)**2 + sym.abs(beta)**2)\n",
    "        result = 1/norm*[alpha,beta]\n",
    "    return sym.exp(sym.I*gamma)*sym.Matrix(result).applyfunc(sym.simplify)\n",
    "\n",
    "def get_op(a=0,b=0,c=0,d=0):\n",
    "    '''Returns general operator in terms of the pauli vector.'''\n",
    "    result = a*sym.eye(2) + b*sym.Matrix([[0,1],[1,0]]) + \\\n",
    "    c*sym.Matrix([[0,-sym.I],[sym.I,0]]) + d*sym.Matrix([[1,0],[0,-1]])\n",
    "    return result.applyfunc(sym.simplify)\n",
    "\n",
    "def get_proj(op,sign=1):\n",
    "    '''Returns up/down projection operator.'''\n",
    "    assert sign == -1 or sign == 1, 'The sign must be +/-1.'\n",
    "    return (sym.Rational(1,2)*(sym.eye(2) + sign*op)).applyfunc(sym.simplify)\n",
    "\n",
    "def expect(lstate,op,rstate=None,force_real=True):\n",
    "    '''Returns the expectation value from the given state and operator.'''\n",
    "    if rstate is None: rstate = lstate\n",
    "    result = (lstate.H*op*rstate)[0]\n",
    "    if force_real: result = sym.re(result)\n",
    "    return result.simplify()\n",
    "\n",
    "def change_basis(op,new):\n",
    "    '''Returns operator in new basis.'''\n",
    "    return (new.inv()*op*new).applyfunc(sym.simplify)\n",
    "\n",
    "def time_av(func,var,N=1):\n",
    "    '''Returns time average over N periods'''\n",
    "    integral = func.integrate((var,-sym.pi*N,sym.pi*N))\n",
    "    return (integral/(2*sym.pi*N)).expand().simplify()\n",
    "\n",
    "p0,p1,p2,t1,t2,P1,P2,P = sym.symbols(r'\\phi_0,\\phi_1,\\phi_2,\\theta_1,\\theta_2,\\Phi_1,\\Phi_2,\\Phi',real=True)\n",
    "idt,spx,spy,spz = get_op(a=1),get_op(b=1),get_op(c=1),get_op(d=1)\n",
    "\n",
    "#asummes the magnetization is along the x-direction and incident polarization is along z\n",
    "x_cob = 1/sym.sqrt(2)*sym.Matrix([[1,1],[1,-1]])\n",
    "interaction = change_basis(sym.diag(1,sym.exp(sym.I*P)),x_cob)\n",
    "print('Interaction matrix:')\n",
    "display(interaction.applyfunc(sym.simplify))"
   ]
  },
  {
   "cell_type": "code",
   "execution_count": null,
   "id": "f83f06d0-f5ba-463b-9e6c-9c2e1957a855",
   "metadata": {
    "scrolled": true
   },
   "outputs": [],
   "source": [
    "print('Evolution of the spin states:')\n",
    "psi0 = get_su2_state(theta=sym.pi/2,phi=0)  #phi_0=0 for incident polarization along x-direction\n",
    "display('Initial state:',psi0)\n",
    "psi1 = get_op(a=(1+sym.exp(sym.I*t1))/2,d=(1-sym.exp(sym.I*t1))/2)*psi0\n",
    "display('First arm:',psi1)\n",
    "psi2 = interaction*psi1\n",
    "display('After interaction:',psi2)\n",
    "psi3 = get_op(a=(1+sym.exp(-sym.I*t2))/2,d=(1-sym.exp(-sym.I*t2))/2)*psi2\n",
    "display('Second arm:',psi3)"
   ]
  },
  {
   "cell_type": "code",
   "execution_count": null,
   "id": "40b718d7-b3b8-45ad-b1f1-1973aabe84f8",
   "metadata": {
    "scrolled": true
   },
   "outputs": [],
   "source": [
    "Pols = []\n",
    "print('Final polarization components')\n",
    "for i,k in zip(['Px','Py','Pz'],[spx,spy,spz]):\n",
    "    print(f'{i}:')\n",
    "    pk = expect(psi3,k).subs(p0,0).expand().simplify()\n",
    "    display(pk)\n",
    "    Pols.append(pk)  #saving this value\n",
    "    print('At echo, theta_1 = theta_2')\n",
    "    pk = pk.subs(t2,t1).expand().simplify()\n",
    "    display(pk)\n",
    "    print('Echo averaged')\n",
    "    pk = time_av(pk,t1)\n",
    "    display(pk)\n",
    "    print('\\n')"
   ]
  },
  {
   "cell_type": "code",
   "execution_count": null,
   "id": "5120c65d-76e9-465d-83cd-2ef44b52fb88",
   "metadata": {
    "scrolled": true
   },
   "outputs": [],
   "source": [
    "Pols2 = []\n",
    "print('Final polarization components')\n",
    "for i,k in zip(['P_+x','P_-x','P_x'],[get_proj(spx,sign=1),get_proj(spx,sign=-1),spx]):\n",
    "    print(f'{i}:')\n",
    "    pk = expect(psi3,k).subs(p0,0).expand().simplify()\n",
    "    display(pk)\n",
    "    Pols2.append(pk)  #saving this value\n",
    "    print('When theta_1 = -theta_2')\n",
    "    pk = pk.subs(t2,-t1).expand().simplify()\n",
    "    display(pk)\n",
    "    print('Echo averaged')\n",
    "    pk = time_av(pk,t1)\n",
    "    display(pk)\n",
    "    print('\\n')"
   ]
  },
  {
   "cell_type": "code",
   "execution_count": null,
   "id": "4fa9c521-25a8-4612-aeb1-dfc3e80fcde2",
   "metadata": {
    "scrolled": true
   },
   "outputs": [],
   "source": [
    "nm,theta,phi,gam = sym.symbols(r'n_m,\\theta,\\phi,\\gamma',real=True)  #general interaction matrix calculation\n",
    "c1,c2 = get_su2_state(theta=theta,phi=phi,gamma=gam),\\\n",
    "        get_su2_state(theta=sym.pi-theta,phi=phi+sym.pi,gamma=-gam)\n",
    "gen_basis = sym.Matrix(np.hstack([c1,c2]))\n",
    "display(gen_basis)\n",
    "display(gen_basis := gen_basis.subs(((theta,sym.pi/2),(phi,sym.pi/2),(gam,sym.pi/4))))\n",
    "\n",
    "gen_mag = change_basis(spz,gen_basis).applyfunc(sym.simplify)\n",
    "display(gen_mag)\n",
    "\n",
    "#display(gen_mag)"
   ]
  },
  {
   "cell_type": "markdown",
   "id": "6a0ac128-4fee-428d-b3b4-e66507fa7983",
   "metadata": {
    "jp-MarkdownHeadingCollapsed": true
   },
   "source": [
    "## Numerical reflectivity calculations"
   ]
  },
  {
   "cell_type": "markdown",
   "id": "6c618405-9c91-43b4-9449-c62412a62917",
   "metadata": {},
   "source": [
    "This section needs some work, right now it doesn't agree with what Victor and Roger calculated."
   ]
  },
  {
   "cell_type": "code",
   "execution_count": null,
   "id": "1874b312-3af6-4ebe-9bf9-ed76e3461d67",
   "metadata": {
    "scrolled": true
   },
   "outputs": [],
   "source": [
    "LAMS = np.linspace(2.5,13.5,300)  #nominal wavelength range on Larmor\n",
    "\n",
    "def get_crit(SLD,lam=LAMS,degrees=True):\n",
    "    '''Returns critical angle.'''\n",
    "    result = np.arcsin(lam*np.sqrt(SLD*10**-6/np.pi))\n",
    "    if degrees: result *= 180/np.pi\n",
    "    return result\n",
    "\n",
    "def get_pot(SLDs=[],ts=[],plot=False,plot_parms=SLD_PLOT_PARMS):\n",
    "    '''Returns the potential given the thicknesses and SLDs of each layer.\n",
    "    Doesn't include substrate.'''\n",
    "    total_x = np.linspace(0,np.sum(ts),500)\n",
    "    steps = np.array([np.sum(ts[:i]) for i in range(len(ts)+1)])\n",
    "    potential = np.sum([SLDs[indx]*((steps[indx]<=total_x)&(total_x<=steps[indx+1])) for indx in range(len(SLDs))],axis=0)\n",
    "    if plot: plot_function([total_x],[potential],plot_parms)\n",
    "    return potential,total_x\n",
    "\n",
    "SLDs = {'Ti':-1.910,'FeCoV_nuc':5.121,'FeCoV_up':-0.33,'FeCoV_down':10.53,'Si':2.06,'NiMo':8.52,\\\n",
    "       'exp_FeCoV_up':0.26961,'exp_FeCoV_down':9.93501}\n",
    "sample_ts = np.array([50.,50.,50.,50.,100.])*10  #convert to Angstroms\n",
    "blank_ts = np.array([100.])*10\n",
    "\n",
    "sample_nuc_SLDs = [SLDs['Ti'],SLDs['FeCoV_nuc'],SLDs['Si'],SLDs['FeCoV_nuc'],SLDs['NiMo']]\n",
    "sample_up_SLDs = [SLDs['Ti'],SLDs['FeCoV_up'],SLDs['Si'],SLDs['FeCoV_up'],SLDs['NiMo']]\n",
    "sample_down_SLDs = [SLDs['Ti'],SLDs['FeCoV_down'],SLDs['Si'],SLDs['FeCoV_down'],SLDs['NiMo']]\n",
    "blank_SLDs = [SLDs['NiMo']]\n",
    "\n",
    "sample_tc = get_crit(sample_nuc_SLDs[1]),get_crit(sample_up_SLDs[2]),get_crit(sample_down_SLDs[1])\n",
    "blank_tc = get_crit(blank_SLDs[0])\n",
    "plot_function([LAMS for i in range(4)],[*sample_tc,blank_tc],plot_parms=THETA_C_PARMS)\n",
    "\n",
    "sample_nuc,X = get_pot(sample_nuc_SLDs,ts=sample_ts,\\\n",
    "                       plot_parms=SLD_PLOT_PARMS|{'title':'Sample','labels':('nuc','up','down')})\n",
    "sample_up,_ = get_pot(sample_up_SLDs,ts=sample_ts,\\\n",
    "                      plot_parms=SLD_PLOT_PARMS|{'title':'Sample','labels':('up')})\n",
    "sample_down,_ = get_pot(sample_down_SLDs,ts=sample_ts,\\\n",
    "                        plot_parms=SLD_PLOT_PARMS|{'title':'Sample','labels':('down')})\n",
    "blank,Xb = get_pot(blank_SLDs,ts=blank_ts,\\\n",
    "                   plot_parms=SLD_PLOT_PARMS|{'title':'Sample','labels':('blank')})\n",
    "\n",
    "plot_function([X,X,X,Xb],[sample_nuc,sample_up,sample_down,blank],\\\n",
    "              plot_parms=SLD_PLOT_PARMS|{'title':'Sample','labels':('nuc','up','down','blank')})"
   ]
  },
  {
   "cell_type": "code",
   "execution_count": null,
   "id": "24e1bdbd-39e8-480b-ba7d-a5f8e00facea",
   "metadata": {},
   "outputs": [],
   "source": [
    "sample_up_SLDs = [SLDs['Ti'],SLDs['exp_FeCoV_up'],SLDs['Si'],SLDs['exp_FeCoV_up'],SLDs['NiMo']]\n",
    "sample_down_SLDs = [SLDs['Ti'],SLDs['exp_FeCoV_down'],SLDs['Si'],SLDs['exp_FeCoV_down'],SLDs['NiMo']]\n",
    "\n",
    "sample_up,_ = get_pot(sample_up_SLDs,ts=sample_ts,\\\n",
    "                      plot_parms=SLD_PLOT_PARMS|{'title':'Sample','labels':('up')})\n",
    "sample_down,_ = get_pot(sample_down_SLDs,ts=sample_ts,\\\n",
    "                        plot_parms=SLD_PLOT_PARMS|{'title':'Sample','labels':('down')})\n",
    "plot_function([X,X],[sample_up,sample_down],\\\n",
    "              plot_parms=SLD_PLOT_PARMS|{'title':'Sample','labels':('up','down')})"
   ]
  },
  {
   "cell_type": "code",
   "execution_count": null,
   "id": "e9a80249-6a40-4c30-bdfa-9bced14f8924",
   "metadata": {},
   "outputs": [],
   "source": [
    "def get_t_matrix(SLDs,ts,k0=.314,substrate=SLDs['Si']):\n",
    "    '''Given a potential, returns the transfer matrix. Assumes air for z<=0 and \n",
    "    an additional infinite-thickness substrate layer.'''\n",
    "    assert len(SLDs) == len(ts), 'Check number of layers!'\n",
    "    km = [np.emath.sqrt(k0**2 - 4*np.pi*rho*1e-6) for rho in [0.]+SLDs+[substrate]]\n",
    "    ms = len(km)  #air 0, layers (1,...,N), substrate N+1\n",
    "    \n",
    "    phim = [0]+[km[i]*ts[i] for i in range(ms-2)]  #phi_0 special case\n",
    "    \n",
    "    tm = [2*km[i]/(km[i] + km[i+1]) for i in range(ms-1)]\n",
    "    rm = [(km[i] - km[i+1])/(km[i] + km[i+1]) for i in range(ms-1)]\n",
    "\n",
    "    Rm = [np.array([[1,rm[i]],[rm[i],1]]) for i in range(ms-1)]\n",
    "    Cm = [1/tm[i]*np.diag((np.exp(-1j*phim[i]),np.exp(1j*phim[i])))@Rm[i] for i in range(ms-1)]\n",
    "\n",
    "    t_matrix = np.identity(2)\n",
    "    for C in Cm:\n",
    "        t_matrix = np.matmul(t_matrix,C)\n",
    "    return t_matrix\n",
    "\n",
    "def get_R_Phi(t_up,t_down=None):\n",
    "    '''Calculates reflectivity (R) and phase (Phi) from t-matrix entries.'''\n",
    "    R_up = np.abs(t_up[:,1,0])**2/np.abs(t_up[:,0,0])**2\n",
    "    result = [R_up]\n",
    "    if t_down is not None:\n",
    "        R_down = np.abs(t_down[:,1,0])**2/np.abs(t_down[:,0,0])**2\n",
    "        result.append(R_down)\n",
    "        result.append(np.angle(t_up[:,1,0]/t_up[:,0,0]) - np.angle(t_down[:,1,0]/t_down[:,0,0]))\n",
    "    return result\n",
    "\n",
    "theta = .35*np.pi/180  #scattering angle\n",
    "wavelengths = np.linspace(2,13.5,1000)\n",
    "\n",
    "t_up = np.array([get_t_matrix(sample_up_SLDs,sample_ts,k0=2*np.pi*theta/w) for w in wavelengths])\n",
    "t_down = np.array([get_t_matrix(sample_down_SLDs,sample_ts,k0=2*np.pi*theta/w) for w in wavelengths])\n",
    "R_up,R_down,phase = get_R_Phi(t_up,t_down)\n",
    "\n",
    "plt.figure(figsize=(10,5))\n",
    "plt.plot(wavelengths,np.cos(phase),'-',label='Pol',lw=2,color='C0')\n",
    "plt.plot(wavelengths,R_up,'--',label='$R_{up}$',lw=2,color='C1')\n",
    "plt.plot(wavelengths,R_down,'--',label='$R_{down}$',lw=2,color='C2')\n",
    "#plt.plot(wavelengths,R_nuc,'--',label='$R_{nuc}$',lw=2,color='C1')\n",
    "#plt.plot(wavelengths,R_blank,'--',label='$R_{blank}$',lw=2,color='C2')\n",
    "plt.xlabel(r'$\\lambda$ (AA)')\n",
    "plt.ylim(-1.05,1.05)\n",
    "plt.legend()\n",
    "plt.grid()\n",
    "plt.show()\n",
    "\n",
    "'''GH_shift = wavelengths[1:]**2*np.cos(theta*np.pi/180)*np.diff(phase)/(2*np.pi)\n",
    "plt.figure(figsize=(10,5))\n",
    "plt.plot(wavelengths,phase,'--',label=r'$\\Phi$',lw=2,color='C0')\n",
    "plt.plot(wavelengths[1:],GH_shift,'-',label='GH-shift',lw=2,color='C1')\n",
    "plt.xlabel(r'$\\lambda$ (AA)')\n",
    "plt.legend()\n",
    "plt.grid()\n",
    "plt.show()'''"
   ]
  },
  {
   "cell_type": "markdown",
   "id": "a786a5d3-580c-4c1e-ae97-de0a8ae64975",
   "metadata": {
    "jp-MarkdownHeadingCollapsed": true
   },
   "source": [
    "## Experiment log\n",
    "***"
   ]
  },
  {
   "cell_type": "markdown",
   "id": "b35f93e7-722a-492a-b004-e2c888c1dfc8",
   "metadata": {},
   "source": [
    "### 11/14 Day One (Tuesday)\n",
    "Setup and calibration of the beamline."
   ]
  },
  {
   "cell_type": "markdown",
   "id": "9e2db691-22b7-44e1-afb2-9968df4e639d",
   "metadata": {},
   "source": [
    "* 9:30\n",
    "* We decided that the magnetization of the sample will probably not be a problem because the sample is so thin. Therefore we will not worry about the mismatch of the sample field direction and the guide field direction.\n",
    "* Still need to magnetize the sample today and finish the sample holder."
   ]
  },
  {
   "cell_type": "markdown",
   "id": "b897d068-dd3a-4200-9b09-4fa3e1b4d787",
   "metadata": {},
   "source": [
    "* 2:00\n",
    "* Found the echo before lunch, need to finish building the sample holder and check the echo as we scan the sample stage (should only need a few mm of drive)\n",
    "* Should we use a supermirror or a blank for tuning echo? (decided to just use blank)\n",
    "* Aligning the sample slit with the transmission monitor"
   ]
  },
  {
   "cell_type": "markdown",
   "id": "c341b775-8529-47b3-b71e-49223ff3bc4b",
   "metadata": {},
   "source": [
    "* 7:00\n",
    "* Decided to run echo scans overnight to test the long-term stability of the echo point because we cannot retune the echo once we put the magnetic sample in the beam. Also included a scan of the sample stack translation."
   ]
  },
  {
   "cell_type": "markdown",
   "id": "ea8f6658-3b98-4359-962b-fae18fe384e0",
   "metadata": {},
   "source": [
    "### 11/15 Day Two (Wednesday)\n",
    "Mounting the blank with NO longitudinal splitting. (and the sample)"
   ]
  },
  {
   "cell_type": "markdown",
   "id": "eb1975cf-a1f9-4052-bcfb-e06b42e49b31",
   "metadata": {},
   "source": [
    "* 10:30\n",
    "* Echo stability was very stable overnight for all positions of the sample stack. Above 80% for 3-10 AA.\n",
    "* Leveled the sample stack (+/- 0.1 degrees for both directions)\n",
    "* Adjusted the sample center of rotation to be the same center of rotation of the second arm (within few cms).\n",
    "* Finding the center of the beam using a piece of Cd taped to the Al sample holder\n",
    "* By eye using laser, the center is at 27 mm and 58.25 degrees\n",
    "* Laser beam and neutron beam are off by 0.4 mm using the monitor right after the sample position (center 26.6 mm using neutrons, add 0.8 mm to include the thickness of the sample)\n",
    "* Increasing the beam height did not change the tune (25 mm at the front, 40 mm at the sample)\n",
    "* Collimation from pipe 31 mm\n",
    "* Snout aperture 30 mm height 30 mm width (yes, it is that wide)\n",
    "  "
   ]
  },
  {
   "cell_type": "markdown",
   "id": "104512bf-df39-4e2b-b8b2-83d1dac075c1",
   "metadata": {},
   "source": [
    "* 11:00\n",
    "* Pixel 34 is the center of the beam at the moment (0.64 mm per pixel)\n",
    "* 41004,41005 are the spectra numbers\n",
    "  "
   ]
  },
  {
   "cell_type": "markdown",
   "id": "6a5fa682-f54b-4440-aa13-ca2f86c2dd3f",
   "metadata": {},
   "source": [
    "* 1:00\n",
    "* Magnetized the sample, wrote the field direction on the Al plate. Went to above 0.027 Tesla\n",
    "* Found the critical edge to be at 0.35 degrees (aiming for 0.4 degrees?)"
   ]
  },
  {
   "cell_type": "markdown",
   "id": "34ef2029-f0f1-4a44-8188-95857b5aa371",
   "metadata": {},
   "source": [
    "* 3:00\n",
    "* The blank appears to be curved? The beam is spread over 8 pixels instead of 4 as before."
   ]
  },
  {
   "cell_type": "markdown",
   "id": "6504da1f-d7ca-40d3-9f74-21d670e447bb",
   "metadata": {},
   "source": [
    "* 5:00\n",
    "* Aperture width is still 2 mm wide\n",
    "* Magnetic sample agrees well with Victor's model assuming 89% magnetization. This value agrees more closely with the \n",
    "* Going to measure the magnetic sample overnight"
   ]
  },
  {
   "cell_type": "markdown",
   "id": "fbce8a61-63ef-4049-8008-496bff1993e1",
   "metadata": {},
   "source": [
    "### 11/16 Day Three (Thursday)"
   ]
  },
  {
   "cell_type": "markdown",
   "id": "c28fb4f3-965e-4a00-b25e-7c8dceb835df",
   "metadata": {},
   "source": [
    "* 10:00\n",
    "* Magnetic sample ran successfully overnight. Improving statistics on the blank until after lunch."
   ]
  },
  {
   "cell_type": "markdown",
   "id": "4cf80263-7d90-442f-91d0-9754af5c855f",
   "metadata": {},
   "source": [
    "* 8:00\n",
    "* Magnetic sample rotated by 90 degrees replicated the original polarization except now the signal is cos(phi) instead of 1/2*(1 + cos(phi))\n",
    "* Going to run this orientation overnight and add the grating in tomorrow"
   ]
  },
  {
   "cell_type": "markdown",
   "id": "db9cd8af-012e-48a4-a38d-880b9733f611",
   "metadata": {},
   "source": [
    "### 11/17 Day Four (Friday)"
   ]
  },
  {
   "cell_type": "markdown",
   "id": "001fd4a5-d811-4140-b4dd-ec3cc3db61f0",
   "metadata": {},
   "source": [
    "* 11:00\n",
    "* Added the grating after the sample (GR27, 2 um period, 10.5 um depth, 560 nm groove width)\n",
    "* Sample still in the vertical direction\n",
    "* Doubled-checked where the instrument parameters are stored. They appear in the log book under \"Analysis/Property/Run\".\n",
    "  * Pre-sample slit: 0.5 mm by 25 mm\n",
    "  * Post sample slit: 2 mm by 25 mm"
   ]
  },
  {
   "cell_type": "markdown",
   "id": "b24004ab-4b55-4f64-b020-6be00e737522",
   "metadata": {},
   "source": [
    "### 11/18 Day Five (Saturday)"
   ]
  },
  {
   "cell_type": "markdown",
   "id": "d413b81d-cf2a-40bb-a2b1-8148221e8173",
   "metadata": {},
   "source": [
    "* 10:00\n",
    "* Running with grating before sample until 2:00 pm to compare with the sample only run\n",
    "* After that, we'll get better statistics for the P0 run before changing the incident angle to shift the GH bump in the polarization to appear at shorter wavelengths\n",
    "* The journal viewer title was wrong for some runs. The correct naming is\n",
    "  * 79130 - 79142 No grating\n",
    "  * 79143 - 79144 Grating after sample\n",
    "  * 79145 - 79159 Grating before sample\n",
    "  * 79160 - 79164 Grating after sample (again)"
   ]
  },
  {
   "cell_type": "markdown",
   "id": "77a34360-e5ca-4769-a6f7-831f68056efe",
   "metadata": {},
   "source": [
    "* 11:30\n",
    "* Going to measure the broken samples with X-rays (don't know the roughness numbers)\n",
    "* Got the fitting functon for P0 to work, need to port the q function as well\n",
    "* The new data seems show that the grating was slightly tilted about the vertical axis or that the P0 has slightly decreased (more likely grating angle misalignment because peak heights are still tall)"
   ]
  },
  {
   "cell_type": "markdown",
   "id": "8001fa18-28b6-4a6a-a234-d9ef71552b82",
   "metadata": {},
   "source": [
    "### 11/19 Day Six (Sunday)"
   ]
  },
  {
   "cell_type": "markdown",
   "id": "9ddb1601-c936-4b9c-94d6-3d2ad1470157",
   "metadata": {},
   "source": [
    "* 9:00\n",
    "* Overnight data looks good. The peak shifted from ~8.5 A to 11 A as expected\n",
    "* Running with grating before the sample, will run until 8 pm tonight, then put the grating after the sample to finish through the night.\n",
    "* Results at 0.4 consistent with the old 0.35 degree data\n",
    "* 0.40 degree data:\n",
    "  * 79179 - 79188 No grating\n",
    "  * 79189 - 79199 Grating before sample\n",
    "  * 79200 - 79212 Grating after sample"
   ]
  },
  {
   "cell_type": "markdown",
   "id": "bd5fdd52-d22f-4ba7-b1cb-9b8bf6eb9c1b",
   "metadata": {},
   "source": [
    "## Post-experiment data analysis\n",
    "***"
   ]
  },
  {
   "cell_type": "markdown",
   "id": "c360f592-9774-4839-87d8-bd9ab427e31f",
   "metadata": {},
   "source": [
    "### Data loading and processing functions"
   ]
  },
  {
   "cell_type": "code",
   "execution_count": null,
   "id": "a8615536-b081-4695-96a2-826692f3dcb5",
   "metadata": {},
   "outputs": [],
   "source": [
    "data_paths = {'laptop':'C:\\\\Users\\\\samck\\\\Documents\\\\GitHub\\\\Goos-Hanchen\\\\\\Reduced_data_correct_eb\\\\',\n",
    "             'ceem':'C:\\\\Users\\\\samckay\\\\Documents\\\\GitHub\\\\Goos-Hanchen\\\\\\Reduced_data_correct_eb\\\\',\n",
    "             'home':'C:\\\\Users\\\\samck\\\\Documents\\\\GitHub\\\\Goos-Hanchen\\\\\\Reduced_data_correct_eb\\\\'}\n",
    "\n",
    "DEFAULT_PATH = data_paths['ceem']\n",
    "assert isdir(DEFAULT_PATH), 'Default data directory was not found!'\n",
    "\n",
    "def load_data(file,path=DEFAULT_PATH):\n",
    "    '''Loads the mantid output data into numpy array.'''\n",
    "    assert isdir(path), 'Data directory was not found!'\n",
    "    assert isfile(path+file), 'Data file was not found!'\n",
    "    with open(path+file) as f:\n",
    "        temp = f.readlines()[2:-2]\n",
    "        temp = [l.replace('\\n','').split(',') for l in temp]\n",
    "        x = np.array([float(temp[x][0]) for x in range(len(temp))])\n",
    "        y = np.array([float(temp[y][1]) for y in range(len(temp))])\n",
    "        e = np.array([float(temp[y][2]) for y in range(len(temp))])\n",
    "    return x,y,e\n",
    "\n",
    "def load_data_2D(file,path=DEFAULT_PATH):\n",
    "    '''Loads the mantid output data into numpy 2D array.\n",
    "    Returns X, Y, and E coordinate arrays, and pixel name.'''\n",
    "    assert isdir(path), 'Data directory was not found!'\n",
    "    assert isfile(path+file), 'Data file was not found!'\n",
    "    with open(path+file) as f:\n",
    "        lines = f.readlines()[1:]\n",
    "        lines = [l.replace('\\n','').split(',') for l in lines]\n",
    "        pnames,xs,ys,es = [],[],[],[]  #pixel name from DAC\n",
    "        for l in lines:\n",
    "            if len(l) != 3: pnames.append(l[0])\n",
    "            else:\n",
    "                xs.append(float(l[0]))\n",
    "                try:\n",
    "                    ys.append(float(l[1]))\n",
    "                    es.append(float(l[2]))\n",
    "                except Exception:\n",
    "                    ys.append(np.NaN)  #dumbass Mantid stuff\n",
    "                    es.append(np.Inf)\n",
    "        lnum,pnum = len(lines),len(pnames)  #tof pixels, spatial pixels\n",
    "        new_shape = (len(pnames),(len(lines)-len(pnames))//len(pnames))\n",
    "    return np.array(xs).reshape(new_shape),np.array(ys).reshape(new_shape),np.array(es).reshape(new_shape),pnames\n",
    "\n",
    "def trim_arr(arrays,segments):\n",
    "    '''Applied the same trim to a list of arrays. First array determines\n",
    "    the trimming for the other arrays.'''\n",
    "    result = []\n",
    "    masks = np.array([(s[0]<arrays[0]) & (arrays[0]<s[1]) for s in segments])\n",
    "\n",
    "    if masks[0].ndim == 1: new_pix_nums = int(np.sum(masks[0]))\n",
    "    else: new_pix_nums = masks[0].shape[0],np.sum(masks[0],axis=1)[0] #number of new vertical and horizontal pixels\n",
    "    for a in arrays:\n",
    "        for m in masks:\n",
    "            a = a[m]\n",
    "        result.append(a)\n",
    "    return [r.reshape(new_pix_nums) for r in result]\n",
    "\n",
    "def show_image(image,x,y,title=None,x_label=None,y_label=None,vmin=None,vmax=None,\\\n",
    "              size=(13,6),shrink=.25,aspect=.4,phi=-60,theta=30):\n",
    "    \"\"\"Plots the given 2D image with a heat map and 3D plot.\"\"\"\n",
    "    fig = plt.figure(figsize=size)\n",
    "    ax1 = fig.add_subplot(1,2,1)\n",
    "    im1 = ax1.imshow(image,origin='lower',vmin=vmin,vmax=vmax,aspect=aspect,extent=(x[0],x[-1],y[0],y[-1]))\n",
    "    plt.colorbar(im1,ax=ax1,shrink=shrink)\n",
    "    ax1.set_xlabel(x_label)\n",
    "    ax1.set_ylabel(y_label)\n",
    "\n",
    "    ax2 = fig.add_subplot(1,2,2,projection='3d')\n",
    "    ax2.view_init(elev=theta, azim=phi, roll=0)\n",
    "    X,Y = np.meshgrid(x,y)\n",
    "    im2 = ax2.plot_surface(X,Y,image,cmap=cm.viridis,vmin=vmin,vmax=vmax)\n",
    "    ax2.set_xlabel(x_label,labelpad=7.)\n",
    "    ax2.set_ylabel(y_label,labelpad=7.)\n",
    "    \n",
    "    plt.suptitle(title)\n",
    "    plt.tight_layout()\n",
    "    plt.show()\n",
    "\n",
    "def get_center(up,down,pname,rng=7,show=True):\n",
    "    '''Returns the center pixel of the given data (assumed to be from blank).'''\n",
    "    assert rng%2 == 1,'Pixel range (rng) must be odd.'\n",
    "    sum1,sum2 = np.nansum(up,axis=1),np.nansum(down,axis=1)\n",
    "    W = np.arange(len(pname))  #pixel number are the weights\n",
    "    c1,c2 = np.average(W,weights=sum1),np.average(W,weights=sum2)\n",
    "    center = int(round(np.mean([c1,c2])))\n",
    "    pixels = [center-(rng-1)//2,center+(rng+1)//2]\n",
    "\n",
    "    if show:\n",
    "        print('Center pixel:')\n",
    "        print(f'[up,down]: {np.round([c1,c2],5)} -> {center}')\n",
    "        print('Pixels used:')\n",
    "        print([p for p in range(*pixels)])\n",
    "        plt.figure(figsize=(7,3))\n",
    "        plt.ylabel('shim')\n",
    "        plt.xlabel('pixel')\n",
    "        plt.plot(sum1)\n",
    "        plt.plot(sum2)\n",
    "        plt.axvline(x=center,ls='--',color='blue')\n",
    "        plt.axvline(x=pixels[0],ls='--',color='red')\n",
    "        plt.axvline(x=pixels[-1]-1,ls='--',color='red')\n",
    "        plt.grid()\n",
    "        plt.show()\n",
    "        \n",
    "    return center,pixels  #assumed that rightmost point is NOT included\n",
    "\n",
    "def get_pol_err(Pol,Shim,ff=1e4):\n",
    "    '''Direct method of getting polarization error.'''\n",
    "    with warnings.catch_warnings():\n",
    "        warnings.simplefilter(\"ignore\")  #ignores nan mulitply and zero divide warnings\n",
    "        err = np.sqrt((1 - Pol**2)/(2*Shim*ff))\n",
    "    return np.where(err<.5,err,np.Inf)\n",
    "\n",
    "def do_sig_fit(data,wavelengths,tests=[116,125],use_shim=True):\n",
    "    '''Performs a fit of the standard deviations as a function of wavelength.'''\n",
    "    def gauss(x,amp,av,sig,shim):\n",
    "        '''Simple gaussian function.'''\n",
    "        return amp*np.exp(-((x - av)/sig)**2/2) + shim\n",
    "\n",
    "    pixels,_ = np.shape(data)\n",
    "    sigs,errs = [],[]\n",
    "    plt.figure(figsize=(8,4))\n",
    "    for indx,lam in enumerate(data.T):\n",
    "        f = gauss\n",
    "        guess = [np.max(lam),np.argmax(lam),np.sqrt(np.cov(range(pixels),aweights=lam)),np.min(lam)/2]\n",
    "        bnds = [[0.,1.,0.,0.],[2*np.max(lam),pixels,pixels,2*np.max(lam)]]\n",
    "        if not use_shim:\n",
    "            f = lambda x,amp,av,sig: gauss(x,amp,av,sig,0)\n",
    "            guess = guess[:-1]\n",
    "            bnds[0],bnds[-1] = bnds[0][-1],bnds[-1][-1]\n",
    "        try: \n",
    "            parms,cov = curve_fit(f,range(pixels),lam,p0=guess,bounds=bnds)\n",
    "        except Exception:\n",
    "            print(f'Number {indx} failed!')\n",
    "            parms = [0]*len(guess)\n",
    "            cov = np.zeros((len(guess),len(guess)))\n",
    "        sigs.append(parms[2])\n",
    "        errs.append(np.sqrt(np.diag(cov))[2])\n",
    "        if tests[0] <= indx < tests[-1]:\n",
    "            plt.plot(lam,'o',color=f'C{indx}',label=f'{round(wavelengths[indx],3)}')\n",
    "            x = np.linspace(0,pixels-1,200)\n",
    "            plt.plot(x,f(x,*parms),'-',color=f'C{indx}')\n",
    "    ax = plt.gca()\n",
    "    ax.legend(loc='center left', bbox_to_anchor=(1, 0.5))\n",
    "    plt.grid()\n",
    "    plt.show()\n",
    "\n",
    "    return np.array(sigs),np.array(errs),tests\n",
    "\n",
    "def get_pol(up,down,trim_error=None,rev=True):\n",
    "    '''Calculates polarization.'''\n",
    "    with warnings.catch_warnings():\n",
    "        warnings.simplefilter(\"ignore\")  #ignores nan mulitply and zero divide warnings\n",
    "        Pol_blank = (up - down)/(up + down)\n",
    "        if rev: Pol_blank = -1*Pol_blank\n",
    "        Err_blank = 2/(up + down)**2*np.sqrt(up**2*down + down**2*up)\n",
    "        if trim_error is not None:\n",
    "            Err_blank = np.where(Err_blank>trim_error,trim_error,Err_blank)\n",
    "    return Pol_blank,Err_blank\n",
    "\n",
    "def get_shim(up,down,show=True,plot_parms=DEFAULT_POL_PLOT_PARMS|{'title':'Shim','vals':(None,None),'log vals':(None,None)}):\n",
    "    '''Returns the shim intensity.'''\n",
    "    assert np.shape(up) == np.shape(down),'Up and down counts must have equal shapes!'\n",
    "    shim = up + down\n",
    "    pixels = np.arange(len(shim[:,0]))\n",
    "    std_shim = np.array([np.sqrt(np.cov(pixels,aweights=lam)) for lam in shim.T])\n",
    "    if show:\n",
    "        plot_2D(shim,plot_parms=plot_parms)\n",
    "        new_title = plot_parms['title'] + ' (log)'\n",
    "        with warnings.catch_warnings():\n",
    "            warnings.simplefilter(\"ignore\")  #ignores nan mulitply and zero divide warnings\n",
    "            plot_2D(np.log(shim),plot_parms=plot_parms|{'title':new_title,'vals':plot_parms['log vals']})\n",
    "    return shim,std_shim\n",
    "\n",
    "def Q_conversion(lam,pixels,center,th0,pix_size=.65,dist=4350.):\n",
    "    '''Returns conversion matrix of wavelength to momentum transfer.'''\n",
    "    thQ = np.array([.5*np.arctan((p - center)/dist*pix_size) for p in range(pixels)])\n",
    "    Q = np.array([4*np.pi/lam*np.sin(th0*np.pi/180. - thq) for thq in thQ])\n",
    "    return np.flip(Q,axis=1)\n",
    "\n",
    "def do_rebin(data,new_bins):\n",
    "    '''Rebins interpolated data for constant q so each pixel has the same binning.'''\n",
    "    temp = np.full(len(data),np.NaN)\n",
    "    for old,new in enumerate(new_bins):\n",
    "        temp[new] = data[old]\n",
    "    return temp\n",
    "\n",
    "def get_constant_Q(data,errs,lam,th0,trim,q_bins=400,show_all=True,show_all_intrp=False,\\\n",
    "                   show_final_intrp=True,show_sum=True,lims=(-1.1,1.1)):\n",
    "    '''Returns and plots the input data rebinned with constant q.\n",
    "    Uses a simple cubic spline for the interpolation.\n",
    "    Returns the linearly-binned wavelength and constant q data.'''\n",
    "    pixels,tpixs = len(data[:,0]),len(data[trim[0]:trim[-1],0])\n",
    "    Q = Q_conversion(lam,pixels,(pixels-1)//2,th0)[trim[0]:trim[-1]]\n",
    "    data_Q = np.flip(data,axis=1)[trim[0]:trim[-1]]  #need to flip for spline\n",
    "    errs_Q = np.flip(errs,axis=1)[trim[0]:trim[-1]]\n",
    "    q_spaces = [np.linspace(q[0],q[-1],q_bins) for q in Q]\n",
    "    data_intrp = [CubicSpline(q,p)(qs) for q,p,qs in zip(Q,data_Q,q_spaces)]\n",
    "    err_intrp = [CubicSpline(q,e)(qs) for q,e,qs in zip(Q,errs_Q,q_spaces)]\n",
    "\n",
    "    q_tot = np.linspace(np.min(Q),np.max(Q),q_bins)\n",
    "    new_bins = np.digitize(q_spaces,q_tot,right=True)\n",
    "    const_q = np.array([do_rebin(p,nb) for p,nb in zip(data_intrp,new_bins)])\n",
    "    const_q_errs = np.array([do_rebin(e,nb) for e,nb in zip(err_intrp,new_bins)])\n",
    "    \n",
    "    lam_const_q = 4*np.pi/q_tot*np.sin(th0*np.pi/180)  #convert to wavelength\n",
    "    lam_bins = np.linspace(np.min(lam_const_q),np.max(lam_const_q),q_bins)\n",
    "    second_intrp = np.array([CubicSpline(np.flip(lam_const_q),p)(lam_bins) for p in np.flip(np.nan_to_num(const_q),axis=1)])\n",
    "    second_intrp_errs = np.array([CubicSpline(np.flip(lam_const_q),e)(lam_bins) for e in np.flip(np.nan_to_num(const_q_errs),axis=1)])\n",
    "\n",
    "    temp_lam,second_intrp,second_intrp_errs = trim_arr((np.stack([lam_bins]*tpixs),second_intrp,second_intrp_errs),[(lam[0],lam[-1])])\n",
    "    lam_bins = temp_lam[0]\n",
    "    \n",
    "    if show_all:\n",
    "        plt.figure(figsize=(11,4))\n",
    "        for indx,(q,p) in enumerate(zip(Q,data_Q)):\n",
    "            plt.plot(q,p,'.-',label=f'Pix {indx}')\n",
    "        plt.grid()\n",
    "        plt.ylim(lims)\n",
    "        plt.xlabel('q')\n",
    "        plt.legend()\n",
    "        plt.show()\n",
    "    if show_all_intrp:\n",
    "        for indx,(q,p) in enumerate(zip(Q,data_Q)):\n",
    "            plt.figure(figsize=(11,4))\n",
    "            plt.plot(q,p,'o',label=f'Pix {indx}')\n",
    "            plt.plot(q_spaces[indx],CubicSpline(q,p)(q_spaces[indx]),'-',color='red')\n",
    "            plt.grid()\n",
    "            plt.ylim(lims)\n",
    "            plt.xlabel('q')\n",
    "            plt.legend()\n",
    "            plt.show()\n",
    "    if show_final_intrp:\n",
    "        plt.figure(figsize=(11,4))\n",
    "        for indx,p in enumerate(data_intrp):\n",
    "            plt.plot(q_spaces[indx],p,label=f'Pix {indx}')\n",
    "        plt.ylim(lims)\n",
    "        plt.xlabel('q')\n",
    "        plt.legend()\n",
    "        plt.grid()\n",
    "        plt.show()\n",
    "    if show_sum:\n",
    "        plt.figure(figsize=(11,4))\n",
    "        plt.title('Constant-q binned')\n",
    "        for indx,p in enumerate(const_q):\n",
    "            plt.plot(lam_const_q,p,'.-',label=f'{indx}')\n",
    "        with warnings.catch_warnings():\n",
    "            warnings.simplefilter(\"ignore\")  #ignores nan mulitply and zero divide warnings\n",
    "            plt.plot(lam_const_q,np.nansum(const_q,axis=0),'.-',color='black',label='Sum')\n",
    "        plt.legend()\n",
    "        plt.grid()\n",
    "        plt.xlabel('Wavelength')\n",
    "        plt.ylim(lims)\n",
    "        plt.show()\n",
    "\n",
    "    return lam_bins,np.where(second_intrp>0,second_intrp,0.),second_intrp_errs\n",
    "\n",
    "def do_fit(Xt,Yt,Et=None,plot_each=False,plot_all=True,extended=(0.,13.),rebin=None):\n",
    "    '''Performs and returns fit of P0 from the blank sample.\n",
    "    This function uses the old variable naming conventions.'''\n",
    "    chubby = np.polynomial.chebyshev.Chebyshev.fit\n",
    "    get_chubby = np.polynomial.chebyshev.chebval\n",
    "    chubby_x = np.linspace(extended[0],extended[-1],200)\n",
    "    xt,yt = Xt[0,:],np.arange(len(Yt[:,0]))  #wavelength, pixel number\n",
    "\n",
    "    new_xt = xt\n",
    "    if rebin is not None:\n",
    "        new_xt = rebin\n",
    "\n",
    "    if Et is not None: \n",
    "        fitted = np.array([get_chubby(new_xt,chubby(xt,yt,2,w=1/et).convert().coef) for yt,et in zip(Yt,Et)])\n",
    "        fitted_extended = np.array([get_chubby(chubby_x,chubby(xt,yt,2,w=1/et).convert().coef) for yt,et in zip(Yt,Et)])\n",
    "    else:\n",
    "        print('Errors were ignored!')\n",
    "        Yt = np.nan_to_num(Yt)  #Why is the fit so bad without the errors?\n",
    "        fitted = np.array([get_chubby(new_xt,chubby(xt,yt,2).convert().coef) for yt in Yt])  #no errors\n",
    "        fitted_extended = np.array([get_chubby(chubby_x,chubby(xt,yt,2).convert().coef) for yt in Yt])\n",
    "        Et = np.zeros(np.shape(Yt))\n",
    "    \n",
    "    if plot_each:\n",
    "        for indx,(f,xt,yt,et) in enumerate(zip(fitted_extended,Xt,Yt,Et)):\n",
    "            plt.figure(figsize=(11,4))\n",
    "            plt.plot(xt,yt,color='C0')\n",
    "            plt.errorbar(xt,yt,et,color='C0',ls='none',zorder=5)\n",
    "            plt.plot(chubby_x,f,color='C1',zorder=10,label=f'Pixel {indx}')\n",
    "            plt.legend()\n",
    "            plt.grid()\n",
    "            plt.show()\n",
    "    if plot_all:\n",
    "        plt.figure(figsize=(11,4))\n",
    "        plt.title('$P_0$ fit')\n",
    "        for indx,(f,xt,yt,et) in enumerate(zip(fitted_extended,Xt,Yt,Et)):\n",
    "            #plt.plot(xt,yt,color='C0',label='Data')  #too messy...\n",
    "            #plt.errorbar(xt,yt,et,color='C0',ls='none',zorder=5)\n",
    "            plt.plot(chubby_x,f,zorder=10,label=f'Pix {indx}')\n",
    "        ax = plt.gca()\n",
    "        ax.legend(loc='center left', bbox_to_anchor=(1, 0.5))\n",
    "        plt.grid()\n",
    "        plt.show()\n",
    "        \n",
    "    return fitted,fitted_extended"
   ]
  },
  {
   "cell_type": "markdown",
   "id": "e460ac42-8e32-48ce-85ca-74a69552a6ed",
   "metadata": {},
   "source": [
    "### Fitting P0 from the blank sample data and choosing the beam-defining pixels"
   ]
  },
  {
   "cell_type": "markdown",
   "id": "79ed8312-c208-4027-8235-2fed68d99c2f",
   "metadata": {},
   "source": [
    "#### Manually calculating the polarization:\n",
    "\n",
    "I first tried to use the up and down spin states directly, but the data variation seemed to large. I think there's an additional monitor and proton curent normalization somewhere in the Mantid code that I didn't take into account. To get the proper error bars, we need to understand this normalization."
   ]
  },
  {
   "cell_type": "code",
   "execution_count": null,
   "id": "70f30afd-296f-4aa1-a436-3b863a636fa7",
   "metadata": {
    "scrolled": true
   },
   "outputs": [],
   "source": [
    "X,Yup,Eup,pname = load_data_2D(r\"blank_perp\\\\up.txt\")  #finding the center pixel\n",
    "_,Ydn,Edn,_ = load_data_2D(r\"blank_perp\\\\dn.txt\")\n",
    "\n",
    "plot_2D(Yup,plot_parms=DEFAULT_2DPLOT_PARMS|{'title':'Raw up counts','shrink':.5})\n",
    "plot_2D(Ydn,plot_parms=DEFAULT_2DPLOT_PARMS|{'title':'Raw down counts','shrink':.5})\n",
    "\n",
    "_,EDGES = get_center(Yup,Ydn,pname,rng=7)  #EDGES doesn't include right-most value\n",
    "\n",
    "Xt,Yupt,Eupt = trim_arr((X,Yup,Eup),[(3.,12.)])  #trimming off the zero-count regions\n",
    "Yupt = Yupt[EDGES[0]:EDGES[-1],:]\n",
    "\n",
    "_,Ydnt,Ednt = trim_arr((X,Ydn,Edn),[(3.,12.)])\n",
    "Ydnt = Ydnt[EDGES[0]:EDGES[-1],:]\n",
    "\n",
    "LAMBDAS,PIXELS = Xt[0,:],np.arange(EDGES[-1]-EDGES[0])  #use this wavelength and pixel range for ALL data\n",
    "SHIM0_PLOT_PARMS = {'title':'Shim','xlab':r'$\\lambda$','ylab':r'Pixel','size':(12,8),'vals':(None,None),\\\n",
    "                  'aspect':.25,'extent':(LAMBDAS[0],LAMBDAS[-1],PIXELS[0],PIXELS[-1]),'norm_max':True,'shrink':.25,\\\n",
    "                   'log vals':(-8,-5)}\n",
    "\n",
    "plot_2D(Yupt,plot_parms=DEFAULT_2DPLOT_PARMS|{'title':'Trimmed up','shrink':.25,'aspect':4})\n",
    "plot_2D(Ydnt,plot_parms=DEFAULT_2DPLOT_PARMS|{'title':'Trimmed down','shrink':.25,'aspect':4})\n",
    "\n",
    "Pol_blank,Err_blank = get_pol(Yupt,Ydnt)\n",
    "show_image(Pol_blank,LAMBDAS,PIXELS,title='Pol blank (P0), trimmed',x_label='Wavelength',y_label='Pixel',vmin=.4,vmax=1)"
   ]
  },
  {
   "cell_type": "code",
   "execution_count": null,
   "id": "059f3a78-90bd-47d2-8021-3a055b55fd00",
   "metadata": {
    "scrolled": true
   },
   "outputs": [],
   "source": [
    "X,Yup,Eup,pname = load_data_2D(r\"blank_para1\\\\up.txt\")  #finding the center pixel\n",
    "_,Ydn,Edn,_ = load_data_2D(r\"blank_para1\\\\dn.txt\")\n",
    "\n",
    "plot_2D(Yup,plot_parms=DEFAULT_2DPLOT_PARMS|{'title':'Raw up counts','shrink':.5})\n",
    "plot_2D(Ydn,plot_parms=DEFAULT_2DPLOT_PARMS|{'title':'Raw down counts','shrink':.5})\n",
    "\n",
    "_,EDGES = get_center(Yup,Ydn,pname,rng=7)  #EDGES doesn't include right-most value\n",
    "\n",
    "Xt,Yupt,Eupt = trim_arr((X,Yup,Eup),[(3.,12.)])  #trimming off the zero-count regions\n",
    "Yupt = Yupt[EDGES[0]:EDGES[-1],:]\n",
    "\n",
    "_,Ydnt,Ednt = trim_arr((X,Ydn,Edn),[(3.,12.)])\n",
    "Ydnt = Ydnt[EDGES[0]:EDGES[-1],:]\n",
    "\n",
    "LAMBDAS,PIXELS = Xt[0,:],np.arange(EDGES[-1]-EDGES[0])  #use this wavelength and pixel range for ALL data\n",
    "\n",
    "Pol_blank,Err_blank = get_pol(Yupt,Ydnt)\n",
    "show_image(Pol_blank,LAMBDAS,PIXELS,title='Pol blank (P0), trimmed',x_label='Wavelength',y_label='Pixel',vmin=.4,vmax=1)"
   ]
  },
  {
   "cell_type": "code",
   "execution_count": null,
   "id": "876ac81f-0b55-4dc5-b216-319b095e77bb",
   "metadata": {
    "scrolled": true
   },
   "outputs": [],
   "source": [
    "X,Yup,Eup,pname = load_data_2D(r\"blank_para2\\\\up.txt\")  #finding the center pixel\n",
    "_,Ydn,Edn,_ = load_data_2D(r\"blank_para2\\\\dn.txt\")\n",
    "\n",
    "plot_2D(Yup,plot_parms=DEFAULT_2DPLOT_PARMS|{'title':'Raw up counts','shrink':.5})\n",
    "plot_2D(Ydn,plot_parms=DEFAULT_2DPLOT_PARMS|{'title':'Raw down counts','shrink':.5})\n",
    "\n",
    "_,EDGES = get_center(Yup,Ydn,pname,rng=7)  #EDGES doesn't include right-most value\n",
    "\n",
    "Xt,Yupt,Eupt = trim_arr((X,Yup,Eup),[(3.,12.)])  #trimming off the zero-count regions\n",
    "Yupt = Yupt[EDGES[0]:EDGES[-1],:]\n",
    "\n",
    "_,Ydnt,Ednt = trim_arr((X,Ydn,Edn),[(3.,12.)])\n",
    "Ydnt = Ydnt[EDGES[0]:EDGES[-1],:]\n",
    "\n",
    "LAMBDAS,PIXELS = Xt[0,:],np.arange(EDGES[-1]-EDGES[0])  #use this wavelength and pixel range for ALL data\n",
    "\n",
    "Pol_blank,Err_blank = get_pol(Yupt,Ydnt)\n",
    "show_image(Pol_blank,LAMBDAS,PIXELS,title='Pol blank (P0), trimmed',x_label='Wavelength',y_label='Pixel',vmin=.4,vmax=1)"
   ]
  },
  {
   "cell_type": "code",
   "execution_count": null,
   "id": "2f03488e-7981-496a-8921-54ba46432ee8",
   "metadata": {
    "scrolled": true
   },
   "outputs": [],
   "source": [
    "X,Yup,Eup,pname = load_data_2D(r\"blank_all\\\\up.txt\")  #finding the center pixel\n",
    "_,Ydn,Edn,_ = load_data_2D(r\"blank_all\\\\dn.txt\")\n",
    "\n",
    "plot_2D(Yup,plot_parms=DEFAULT_2DPLOT_PARMS|{'title':'Raw up counts','shrink':.5})\n",
    "plot_2D(Ydn,plot_parms=DEFAULT_2DPLOT_PARMS|{'title':'Raw down counts','shrink':.5})\n",
    "\n",
    "_,EDGES = get_center(Yup,Ydn,pname,rng=7)  #EDGES doesn't include right-most value\n",
    "\n",
    "Xt,Yupt,Eupt = trim_arr((X,Yup,Eup),[(3.,12.)])  #trimming off the zero-count regions\n",
    "Yupt = Yupt[EDGES[0]:EDGES[-1],:]\n",
    "\n",
    "_,Ydnt,Ednt = trim_arr((X,Ydn,Edn),[(3.,12.)])\n",
    "Ydnt = Ydnt[EDGES[0]:EDGES[-1],:]\n",
    "\n",
    "LAMBDAS,PIXELS = Xt[0,:],np.arange(EDGES[-1]-EDGES[0])  #use this wavelength and pixel range for ALL data\n",
    "\n",
    "Pol_blank,Err_blank = get_pol(Yupt,Ydnt)\n",
    "show_image(Pol_blank,LAMBDAS,PIXELS,title='Pol blank (P0), trimmed',x_label='Wavelength',y_label='Pixel',vmin=.4,vmax=1)"
   ]
  },
  {
   "cell_type": "markdown",
   "id": "df909b91-ad05-4e2f-817f-4c593ed27e99",
   "metadata": {
    "jp-MarkdownHeadingCollapsed": true
   },
   "source": [
    "The center pixel from the blank data is 34. For the rest of this analysis, we will use a total of 7 pixels; it looks like we may be able to extend by another pixel or two for some of the data, but then the long wavelengths really start to loose counts.\n",
    "\n",
    "##### Another reason for being conservative on the beam-defining pixels is to ensure that the shim intensity for the blank is roughly constant, so can just used the mean of the P0 fit:"
   ]
  },
  {
   "cell_type": "code",
   "execution_count": null,
   "id": "6fa628e8-9364-4965-a93d-e7adbbff30db",
   "metadata": {
    "scrolled": true
   },
   "outputs": [],
   "source": [
    "Y_summed,_ = get_pol(np.sum(Yupt,axis=0),np.sum(Ydnt,axis=0))\n",
    "plt.figure(figsize=(8,3))\n",
    "plt.title('Comparing pre vs post pol binning for blank')\n",
    "plt.plot(LAMBDAS,Y_summed,label='summed')\n",
    "plt.plot(LAMBDAS,np.mean(Pol_blank,axis=0),'--',label='averaged')\n",
    "plt.legend()\n",
    "plt.grid()\n",
    "plt.show()"
   ]
  },
  {
   "cell_type": "markdown",
   "id": "ec967fee-8c79-4a17-b73c-7441bd50e311",
   "metadata": {},
   "source": [
    "#### The blank shim intensity and spread:\n",
    "\n",
    "1.  Directly calculating the standard deviations at each wavelength is the easiest method\n",
    "2.  Fitting each wavelength to a Gaussian is more involved, and I'm having issues with the fitting convergence because much of the data is too noisy\n",
    "\n",
    "For the rest of the data, we will only consider the first method of direct calculation of the standard deviation (STD)"
   ]
  },
  {
   "cell_type": "code",
   "execution_count": null,
   "id": "8e35c078-1b09-4b90-992d-d8d78ed5c4b9",
   "metadata": {
    "scrolled": true
   },
   "outputs": [],
   "source": [
    "SHIM0_PLOT_PARMS = {'title':'Shim','xlab':r'$\\lambda$','ylab':r'Pixel','size':(12,8),'vals':(None,None),\\\n",
    "                  'aspect':.25,'extent':(LAMBDAS[0],LAMBDAS[-1],PIXELS[0],PIXELS[-1]),'norm_max':True,'shrink':.25,\\\n",
    "                   'log vals':(-8,-5)}\n",
    "\n",
    "Shim_blank,STD_blank = get_shim(Yupt,Ydnt,plot_parms=SHIM0_PLOT_PARMS)  #first method\n",
    "Shim_blank_summed = np.sum(Shim_blank,axis=0)\n",
    "\n",
    "plt.figure(figsize=(10,4))\n",
    "plt.title('Blank shim')\n",
    "plt.xlabel('Wavelength')\n",
    "for pix,s in enumerate(Shim_blank):\n",
    "    plt.plot(LAMBDAS,s,label=f'Pix {pix}')\n",
    "plt.plot(LAMBDAS,Shim_blank_summed,label='sum',color='black')\n",
    "plt.grid()\n",
    "ax = plt.gca()\n",
    "ax.legend(loc='center left', bbox_to_anchor=(1, 0.5))\n",
    "plt.show()\n",
    "\n",
    "plt.figure(figsize=(10,4))\n",
    "plt.title('Blank shim standard deviation')\n",
    "plt.xlabel('Wavelength')\n",
    "plt.plot(LAMBDAS,STD_blank,'.-')\n",
    "plt.grid()\n",
    "plt.show()\n",
    "\n",
    "blank_sigs,blank_errs,tests = do_sig_fit(Shim_blank,LAMBDAS,use_shim=True)  #second method\n",
    "\n",
    "plt.figure(figsize=(10,4))\n",
    "plt.title('Blank standard deviations')\n",
    "plt.plot(LAMBDAS,blank_sigs,'.',color='C0',label='fitted')\n",
    "plt.plot(LAMBDAS,STD_blank,'.-',color='C1',label='calc')\n",
    "plt.errorbar(LAMBDAS,blank_sigs,yerr=blank_errs,color='C0',ls='')\n",
    "plt.axvline(x=LAMBDAS[tests[0]],ls='--',color='black')\n",
    "plt.axvline(x=LAMBDAS[tests[-1]],ls='--',color='black')\n",
    "ax = plt.gca()\n",
    "ax.legend(loc='center left', bbox_to_anchor=(1, 0.5))\n",
    "plt.xlabel('Wavelength')\n",
    "plt.ylim((0.,3.5))\n",
    "plt.grid()\n",
    "plt.show()"
   ]
  },
  {
   "cell_type": "markdown",
   "id": "18d87122-e218-4551-a1d1-3b4e2e8dc520",
   "metadata": {
    "jp-MarkdownHeadingCollapsed": true
   },
   "source": [
    "#### Fitting the blank polarization $(P_0)$ for each pixel:\n",
    "\n",
    "Each pixel will be fit separately by a quadratic polynomial, specifically by the Chebyshev polynomials to minimize Runge's phenomenon."
   ]
  },
  {
   "cell_type": "code",
   "execution_count": null,
   "id": "8ed0eacc-66b0-439b-aba8-bfb8494fa6c5",
   "metadata": {
    "scrolled": true
   },
   "outputs": [],
   "source": [
    "X,Y,E,pname = load_data_2D(r\"blank\\\\pol.txt\")\n",
    "\n",
    "P0_PLOT_PARMS = {'title':'$P_0$ Pol','xlab':r'$\\lambda$','ylab':r'Pixel','size':(12,8),'vals':(0,1),\\\n",
    "                  'extent':None,'norm_max':False,'aspect':None,'shrink':.25}\n",
    "\n",
    "plot_2D(Y,plot_parms=P0_PLOT_PARMS)\n",
    "\n",
    "Xt,Yt,Et = trim_arr((X,Y,E),[(3.,12.)])  #trimming wavelength\n",
    "\n",
    "Yt = Yt[EDGES[0]:EDGES[-1],:]  #trimming pixels\n",
    "Et = Et[EDGES[0]:EDGES[-1],:]\n",
    "Xt = Xt[EDGES[0]:EDGES[-1],:]\n",
    "\n",
    "plot_2D(Yt,plot_parms=P0_PLOT_PARMS|{'aspect':.25,'extent':(LAMBDAS[0],LAMBDAS[-1],PIXELS[0],PIXELS[-1]),'vals':(0,1)})\n",
    "\n",
    "fitted,fitted_extended = do_fit(Xt,Yt,Et)  #used binning from Mantid"
   ]
  },
  {
   "cell_type": "markdown",
   "id": "9833f375-0439-4cec-b3d6-813e6ede2566",
   "metadata": {},
   "source": [
    "### Fitting $P_0$ for use with the constant-q binning:\n",
    "\n",
    "Constant q binning assumes that the data is now truly given as a function of wavelength (after summing/averaging across pixels), so all we need to do is rebin the interpolated values from the polynomial fit."
   ]
  },
  {
   "cell_type": "code",
   "execution_count": null,
   "id": "a252a53f-fb32-41cf-abf6-2b26da114804",
   "metadata": {
    "scrolled": true
   },
   "outputs": [],
   "source": [
    "bl_lam,bl_up,bl_up_err = get_constant_Q(Yupt,Eupt,LAMBDAS,th0=.35,trim=(1,-1),lims=(None,None),\\\n",
    "                                        show_all=False,show_all_intrp=False,show_final_intrp=False,show_sum=False)\n",
    "_,bl_dn,bl_dn_err = get_constant_Q(Ydnt,Ednt,LAMBDAS,th0=.35,trim=(1,-1),lims=(None,None),\\\n",
    "                                   show_all=False,show_all_intrp=False,show_final_intrp=False,show_sum=False)\n",
    "\n",
    "Correction = 480/391.*1.1  #counted the blank for less time\n",
    "bl_up,bl_dn = [i*Correction for i in (bl_up,bl_dn)]\n",
    "Shim_blank,STD_blank = get_shim(bl_up,bl_dn,plot_parms=SHIM0_PLOT_PARMS)\n",
    "Pol_blank,_ = get_pol(bl_up,bl_dn)\n",
    "\n",
    "P0_PLOT_PARMS = {'title':'$P_0$ Pol','xlab':r'$\\lambda$','ylab':r'Pixel','size':(12,8),'vals':(.5,1),\\\n",
    "                 'extent':(LAMBDAS[0],LAMBDAS[-1],PIXELS[0],PIXELS[-1]),'norm_max':False,'aspect':.25,'shrink':.25}\n",
    "plot_2D(Pol_blank,plot_parms=P0_PLOT_PARMS)\n",
    "\n",
    "fitted_q,_ = do_fit(Xt,Yt,Et,rebin=bl_lam)  #uses interpolated binning for compatibility with constant-q binning"
   ]
  },
  {
   "cell_type": "markdown",
   "id": "ed673460-1ef5-4d7f-bda6-61f295d23ad8",
   "metadata": {},
   "source": [
    "Using the global parameters and fits from the above cells, we can now analyze the GH shift sample.\n",
    "\n",
    "***"
   ]
  },
  {
   "cell_type": "markdown",
   "id": "1e69c130-48ef-4789-b8a7-48bbbf1b7282",
   "metadata": {
    "jp-MarkdownHeadingCollapsed": true
   },
   "source": [
    "### Sample perpendicular, no grating (To do)\n",
    "***"
   ]
  },
  {
   "cell_type": "markdown",
   "id": "689b2547-dfb0-4772-afc9-efb735905052",
   "metadata": {},
   "source": [
    "The shim intensity shows 2 distinct peaks. Technically, the beam has the same center, but I'm missing quite a few counts from pixel 8, so the P0 normalization needs to additionally include at least that pixel."
   ]
  },
  {
   "cell_type": "code",
   "execution_count": null,
   "id": "01b4ffe7-c35f-40ad-9be4-9bc52effcaee",
   "metadata": {
    "scrolled": true
   },
   "outputs": [],
   "source": [
    "_,PIXELS_PERP = get_center(Yup,Ydn,pname,rng=9)  #PIXELS_PERP doesn't include final pixel\n",
    "\n",
    "X_perp,Y_perp,E_perp,pname = load_data_2D(r\"blank\\\\pol.txt\")\n",
    "\n",
    "P0_PLOT_PARMS = {'title':'Pol','xlab':r'$\\lambda$','ylab':r'Pixel','size':(12,8),'vals':(0,1),\\\n",
    "                  'extent':None,'norm_max':False,'aspect':None,'shrink':.25}\n",
    "\n",
    "plot_2D(Y_perp,plot_parms=P0_PLOT_PARMS)\n",
    "\n",
    "Xt_perp,Yt_perp,Et_perp = trim_arr((X_perp,Y_perp,E_perp),[(3.,12.)])  #trimming\n",
    "Yt_perp = Yt_perp[PIXELS_PERP[0]:PIXELS_PERP[-1],:]\n",
    "Et_perp = Et_perp[PIXELS_PERP[0]:PIXELS_PERP[-1],:]\n",
    "Xt_perp = Xt_perp[PIXELS_PERP[0]:PIXELS_PERP[-1],:]\n",
    "xt_perp,yt_perp = Xt_perp[0,:],np.arange(PIXELS_PERP[-1]-PIXELS_PERP[0])\n",
    "\n",
    "plot_2D(Yt_perp,plot_parms=P0_PLOT_PARMS|{'aspect':.25,'extent':(xt_perp[0],xt_perp[-1],yt_perp[0],yt_perp[-1]),'vals':(.5,1)})\n",
    "\n",
    "fitted_perp,fitted_extended_perp = do_fit(Xt_perp,Yt_perp,Et_perp)"
   ]
  },
  {
   "cell_type": "code",
   "execution_count": null,
   "id": "49b6885d-8972-414b-aa96-eb14a818b792",
   "metadata": {},
   "outputs": [],
   "source": [
    "X_perp_p35,Yup_perp_p35,_,pname = load_data_2D(r\"perp_p35\\\\up.txt\")\n",
    "_,Ydn_perp_p35,_,_ = load_data_2D(r\"perp_p35\\\\dn.txt\")\n",
    "\n",
    "_ = get_center(Yup_perp_p35,Ydn_perp_p35,pname,rng=9)\n",
    "\n",
    "Xt,Yup_perp_p35 = trim_arr((X,Yup_perp_p35),[(3.,12.)])\n",
    "Yup_perp_p35 = Yup_perp_p35[PIXELS_PERP[0]:PIXELS_PERP[-1],:]\n",
    "\n",
    "_,Ydn_perp_p35 = trim_arr((X,Ydn_perp_p35),[(3.,12.)])\n",
    "Ydn_perp_p35 = Ydn_perp_p35[PIXELS_PERP[0]:PIXELS_PERP[-1],:]\n",
    "\n",
    "plot_2D(shim_perp:=(Yup_perp_p35+Ydn_perp_p35),plot_parms=POL_PLOT_PARMS|{'title':'perp, no grating, shim','vals':(None,None)})\n",
    "STD_perp = np.array([np.sqrt(np.cov(range(9),aweights=lam)) for lam in shim_perp.T])\n",
    "\n",
    "Y_perp_p35,_ = get_pol(Yup_perp_p35,Ydn_perp_p35)\n",
    "Y_perp_p35_n = Y_perp_p35/fitted_perp\n",
    "\n",
    "plot_2D(Y_perp_p35_n,plot_parms=POL_PLOT_PARMS|{'title':'perp, no grating, normed'})\n",
    "\n",
    "Yup_perp_p35_summed = np.sum(Yup_perp_p35,axis=0)\n",
    "Ydn_perp_p35_summed = np.sum(Ydn_perp_p35,axis=0)\n",
    "Y_perp_p35_summed,_ = get_pol(Yup_perp_p35_summed,Ydn_perp_p35_summed)\n",
    "Y_perp_p35_summed_n = Y_perp_p35_summed/np.mean(fitted_perp,axis=0)\n",
    "\n",
    "x_av,y_av,_ = load_data(r\"perp_p35\\\\pol_av.txt\")  #comparing my reduction to Rob's code\n",
    "x_av,y_av = trim_arr((x_av,y_av),[(3.,12.)])\n",
    "rob = y_av/np.mean(fitted_perp,axis=0)\n",
    "\n",
    "plt.figure(figsize=(11,5))\n",
    "#for indx,p in enumerate(Y_perp_p35_n):\n",
    "    #plt.plot(xt_perp,p,label=f'{indx}')\n",
    "#plt.plot(xt_perp,np.mean(Y_perp_p35_n,axis=0),label='Av',color='black')\n",
    "plt.plot(xt_perp,Y_perp_p35_summed_n,label='Sum',color='red')\n",
    "plt.plot(xt_perp,rob,'--',label='Rob',color='blue')\n",
    "ax = plt.gca()\n",
    "ax.legend(loc='center left', bbox_to_anchor=(1, 0.5))\n",
    "plt.grid()\n",
    "plt.ylim((-1.1,1.1))\n",
    "plt.show()"
   ]
  },
  {
   "cell_type": "code",
   "execution_count": null,
   "id": "0bbb0247-5728-41c1-8671-95a809267b00",
   "metadata": {
    "scrolled": true
   },
   "outputs": [],
   "source": [
    "shim_perp_summed = np.sum(shim_perp,axis=0)\n",
    "\n",
    "plt.figure(figsize=(10,4))\n",
    "plt.title('No grating shim perp')\n",
    "plt.xlabel('Wavelength')\n",
    "for pix,s in enumerate(shim_perp):\n",
    "    plt.plot(xt_perp,s,label=f'Pix {pix}')\n",
    "#plt.plot(xt_perp,shim_perp_summed,label='sum',color='black')\n",
    "plt.grid()\n",
    "ax = plt.gca()\n",
    "ax.legend(loc='center left', bbox_to_anchor=(1, 0.5))\n",
    "plt.show()\n",
    "\n",
    "plt.figure(figsize=(10,4))\n",
    "plt.title('No grating shim perp standard deviation')\n",
    "plt.xlabel('Wavelength')\n",
    "plt.plot(xt_perp,STD_perp,'.-')\n",
    "plt.grid()\n",
    "plt.show()\n",
    "\n",
    "#perp_sigs,perp_errs,tests = do_sig_fit(shim_perp,tests=[170,179])  #fix harded coded values\n",
    "\n",
    "'''plt.figure(figsize=(10,4))\n",
    "plt.title('No grating perp standard deviations')\n",
    "plt.plot(xt_perp,perp_sigs,'.',color='C0',label='fitted')\n",
    "plt.plot(xt_perp,STD_perp,'.-',color='C1',label='calc')\n",
    "plt.errorbar(xt_perp,perp_sigs,yerr=perp_errs,color='C0',ls='')\n",
    "plt.axvline(x=xt_perp[tests[0]],ls='--',color='black')\n",
    "plt.axvline(x=xt_perp[tests[-1]],ls='--',color='black')\n",
    "ax = plt.gca()\n",
    "ax.legend(loc='center left', bbox_to_anchor=(1, 0.5))\n",
    "plt.xlabel('Wavelength')\n",
    "plt.grid()\n",
    "plt.show()'''"
   ]
  },
  {
   "cell_type": "code",
   "execution_count": null,
   "id": "fe285759-7360-4fe2-988b-ac572e2c6aa8",
   "metadata": {
    "scrolled": true
   },
   "outputs": [],
   "source": [
    "for indx,(y,yn,f) in enumerate(zip(Y_perp_p35,Y_perp_p35_n,fitted_perp)):\n",
    "    plt.figure(figsize=(11,4))\n",
    "    plt.title('perp, no grating')\n",
    "    #plt.plot(xt,y)\n",
    "    plt.plot(xt_perp,yn,label=f'Pixel {indx} normed')\n",
    "    plt.plot(xt_perp,Y_perp_p35_summed_n,'--',label='det average')\n",
    "    plt.plot(xt_perp,f)\n",
    "    plt.grid()\n",
    "    plt.ylim((-1.1,1.1))\n",
    "    plt.legend()\n",
    "    plt.show()"
   ]
  },
  {
   "cell_type": "code",
   "execution_count": null,
   "id": "22c266c9-f196-4c3c-b7b8-ffc43998e0f8",
   "metadata": {},
   "outputs": [],
   "source": [
    "Q = Q_conversion(xt)[2:-1]\n",
    "pol_Q = np.flip(Y_perp_p35_n,axis=1)[2:-1]\n",
    "\n",
    "plt.figure(figsize=(11,4))\n",
    "for q,p in zip(Q,pol_Q):\n",
    "    plt.plot(q,p,'.-')\n",
    "plt.grid()\n",
    "plt.ylim((-1.1,1.1))\n",
    "plt.show()\n",
    "\n",
    "cs = sc.interpolate.CubicSpline\n",
    "q_spaces = [np.linspace(q[0],q[-1],400) for q in Q]\n",
    "\n",
    "for indx,(q,p) in enumerate(zip(Q,pol_Q)):\n",
    "    plt.figure(figsize=(11,4))\n",
    "    plt.plot(q,p,'o',label=f'Pixel {indx}')\n",
    "    plt.plot(q_spaces[indx],cs(q,p)(q_spaces[indx]),'-',color='red')\n",
    "    plt.grid()\n",
    "    plt.ylim((-1.1,1.1))\n",
    "    plt.legend()\n",
    "    plt.close()\n",
    "\n",
    "pol_intrp = [cs(q,p)(qs) for q,p,qs in zip(Q,pol_Q,q_spaces)]\n",
    "plt.figure(figsize=(11,4))\n",
    "for indx,p in enumerate(pol_intrp):\n",
    "    plt.plot(q_spaces[indx],p)\n",
    "plt.ylim((-1.1,1.1))\n",
    "plt.grid()\n",
    "plt.show()"
   ]
  },
  {
   "cell_type": "code",
   "execution_count": null,
   "id": "55774aa1-cca6-49b9-a23c-06dd21e35a63",
   "metadata": {},
   "outputs": [],
   "source": [
    "q_tot = np.linspace(np.min(Q),np.max(Q),400)\n",
    "new_bins = np.digitize(q_spaces,q_tot,right=True)\n",
    "temp = [do_rebin(p,nb) for p,nb in zip(pol_intrp,new_bins)]\n",
    "\n",
    "plt.figure(figsize=(11,4))\n",
    "plt.title('Pol normed, pixel averaged, constant q')\n",
    "for t in temp:\n",
    "    plt.plot(q_tot,t)\n",
    "plt.plot(q_tot,no_grating_perp:=np.nanmean(temp,axis=0),color='black',label='Av')\n",
    "plt.legend()\n",
    "plt.grid()\n",
    "plt.ylim((-1.1,1.1))\n",
    "plt.show()"
   ]
  },
  {
   "cell_type": "markdown",
   "id": "ac6f0bea-afb8-49fd-bd7c-d8ca84015d99",
   "metadata": {
    "jp-MarkdownHeadingCollapsed": true
   },
   "source": [
    "### Sample parallel, no grating\n",
    "***"
   ]
  },
  {
   "cell_type": "markdown",
   "id": "87da0fe3-e8c6-47a6-8613-2fc9697e6cf2",
   "metadata": {
    "jp-MarkdownHeadingCollapsed": true
   },
   "source": [
    "##### First method:\n",
    "\n",
    "This method doesn't give the right results because the shim intensity varies too much over the detector, so I had to get the direct intensities, then bin them, and finally manually calculate the polarization."
   ]
  },
  {
   "cell_type": "code",
   "execution_count": null,
   "id": "76823b31-1acd-472a-abe1-f77509139a54",
   "metadata": {
    "scrolled": true
   },
   "outputs": [],
   "source": [
    "LAMS_para_p35,POL_para_p35,E_para_p35,pname_para_p35 = load_data_2D(r\"para_p35\\\\pol.txt\")\n",
    "\n",
    "POL_PLOT_PARMS = DEFAULT_POL_PLOT_PARMS|{'title':'Para, no grating','extent':(LAMBDAS[0],LAMBDAS[-1],PIXELS[0],PIXELS[-1])}\n",
    "\n",
    "LAMS_para_p35,POL_para_p35,E_para_p35 = trim_arr((LAMS_para_p35,POL_para_p35,E_para_p35),[(3.,12.)])\n",
    "POL_para_p35 = POL_para_p35[EDGES[0]:EDGES[-1],:]  #choosing detector pixels, doesn't include final pixel\n",
    "E_para_p35 = E_para_p35[EDGES[0]:EDGES[-1],:]\n",
    "LAMS_para_p35 = LAMS_para_p35[EDGES[0]:EDGES[-1],:]\n",
    "\n",
    "plot_2D(POL_para_p35,plot_parms=POL_PLOT_PARMS)\n",
    "\n",
    "POL_para_p35_n = POL_para_p35/fitted\n",
    "plot_2D(POL_para_p35_n,plot_parms=POL_PLOT_PARMS|{'title':'Para, no grating, normed'})\n",
    "\n",
    "plt.figure(figsize=(11,5))\n",
    "plt.title('Post pol binning (Bad!)')\n",
    "for indx,p in enumerate(POL_para_p35_n):\n",
    "    plt.plot(LAMBDAS,p,label=f'{indx}')\n",
    "plt.plot(LAMBDAS,np.mean(POL_para_p35_n,axis=0),label='Av',color='black')\n",
    "ax = plt.gca()\n",
    "ax.legend(loc='center left', bbox_to_anchor=(1, 0.5))\n",
    "plt.grid()\n",
    "plt.ylim((-1.1,1.1))\n",
    "plt.show()"
   ]
  },
  {
   "cell_type": "markdown",
   "id": "694c76aa-afbd-4f6f-9a98-ae093713d0ce",
   "metadata": {
    "jp-MarkdownHeadingCollapsed": true
   },
   "source": [
    "##### Second method: \n",
    "\n",
    "Here I'm using \"lam_1\" and \"lam_2\" arrays from Mantid.\n",
    "\n",
    "I still can't get the correct errors until I can understand the normalization (only by monitor counts?). Anyways, I'll use this method for the rest of the data analysis."
   ]
  },
  {
   "cell_type": "code",
   "execution_count": null,
   "id": "3a55db6d-a902-4a26-8f09-d35de7d81174",
   "metadata": {
    "scrolled": true
   },
   "outputs": [],
   "source": [
    "LAMS_para_p35,Up_para_p35,Eup_para_p35,pname = load_data_2D(r\"para_p35\\\\up.txt\")\n",
    "_,Dn_para_p35,Edn_para_p35,_ = load_data_2D(r\"para_p35\\\\dn.txt\")\n",
    "\n",
    "_ = get_center(Up_para_p35,Dn_para_p35,pname)  #checking alignment\n",
    "\n",
    "POL_PLOT_PARMS = DEFAULT_POL_PLOT_PARMS|{'title':'Para, no grating','extent':(LAMBDAS[0],LAMBDAS[-1],PIXELS[0],PIXELS[-1])}\n",
    "SHIM_PLOT_PARMS = POL_PLOT_PARMS|{'title':'Para, no grating, shim','vals':(None,None),'log vals':(-8,-4)}\n",
    "\n",
    "LAMS_para_p35,Up_para_p35,Eup_para_p35,Dn_para_p35,Edn_para_p35 = trim_arr((LAMS_para_p35,Up_para_p35,Eup_para_p35,\\\n",
    "                                                                           Dn_para_p35,Edn_para_p35),[(3.,12.)])\n",
    "Up_para_p35 = Up_para_p35[EDGES[0]:EDGES[-1],:]  #uses global EDGES tuple\n",
    "Eup_para_p35 = Eup_para_p35[EDGES[0]:EDGES[-1],:]\n",
    "Dn_para_p35 = Dn_para_p35[EDGES[0]:EDGES[-1],:]\n",
    "Edn_para_p35 = Edn_para_p35[EDGES[0]:EDGES[-1],:]\n",
    "\n",
    "plot_2D(Up_para_p35,plot_parms=SHIM_PLOT_PARMS|{'title':'Raw up'})\n",
    "plot_2D(Dn_para_p35,plot_parms=SHIM_PLOT_PARMS|{'title':'Raw down'})\n",
    "plot_2D(Up_para_p35+Dn_para_p35,plot_parms=SHIM_PLOT_PARMS|{'title':'Raw shim'})\n",
    "\n",
    "para_p35_lam,Up_para_p35,Up_para_p35_err = get_constant_Q(Up_para_p35,Eup_para_p35,LAMBDAS,th0=.35,trim=(1,-1),lims=(None,None),\\\n",
    "                                                          show_all=False,show_all_intrp=False,show_final_intrp=False,show_sum=True)\n",
    "_,Dn_para_p35,Dn_para_p35_err = get_constant_Q(Dn_para_p35,Edn_para_p35,LAMBDAS,th0=.35,trim=(1,-1),lims=(None,None),\\\n",
    "                                               show_all=False,show_all_intrp=False,show_final_intrp=False,show_sum=True)\n",
    "\n",
    "Shim_para_p35,STD_para_p35 = get_shim(Up_para_p35,Dn_para_p35,plot_parms=SHIM_PLOT_PARMS)\n",
    "\n",
    "Pol_para_p35,_ = get_pol(Up_para_p35,Dn_para_p35)\n",
    "Pol_para_p35 = Pol_para_p35/fitted_q[1:-1]  #normalize by P0\n",
    "\n",
    "plot_2D(Pol_para_p35,plot_parms=POL_PLOT_PARMS|{'title':'Para, no grating, pol'})"
   ]
  },
  {
   "cell_type": "code",
   "execution_count": null,
   "id": "af849f01-0843-457e-a5ce-38ae24d8a698",
   "metadata": {},
   "outputs": [],
   "source": [
    "Para_p35_shim_s = np.sum(Shim_para_p35[1:,:],axis=0)/np.sum(Shim_blank[1:,:],axis=0)\n",
    "Para_p35_pol_m = np.mean(Pol_para_p35[1:,:],axis=0)\n",
    "\n",
    "plt.figure(figsize=(11,4))\n",
    "plt.title('Pol (-) and shim (--), no grating')\n",
    "if False:\n",
    "    for indx,(p,s,sb) in enumerate(zip(Pol_para_p35[1:,:],Shim_para_p35[1:,:],Shim_blank[1:,:])):\n",
    "        plt.plot(para_p35_lam,p,label=f'{indx}',color=f'C{indx}')\n",
    "        plt.plot(para_p35_lam,s/sb,'--',color=f'C{indx}')\n",
    "plt.plot(para_p35_lam,Para_p35_pol_m,color='black',label='av')\n",
    "plt.plot(para_p35_lam,Para_p35_shim_s,'--',color='black')\n",
    "plt.grid()\n",
    "ax = plt.gca()\n",
    "ax.legend(loc='center left', bbox_to_anchor=(1, 0.5))\n",
    "plt.ylim((-1.1,1.1))\n",
    "plt.show()"
   ]
  },
  {
   "cell_type": "markdown",
   "id": "2cd32b14-1253-4aca-81ee-1127af9c2b5d",
   "metadata": {
    "jp-MarkdownHeadingCollapsed": true
   },
   "source": [
    "##### Comparing my reduction method to Rob's code in the Mantid reduction:\n",
    "\n",
    "It looks like the difference between the two methods was that rob was summing up the entire detector instead of the pixels of interest."
   ]
  },
  {
   "cell_type": "code",
   "execution_count": null,
   "id": "c2058148-7213-47c8-87c3-3283986993da",
   "metadata": {
    "scrolled": true
   },
   "outputs": [],
   "source": [
    "def compare_1d(Yup,Ydn,rob,lam,fitted=None,show=True):\n",
    "    '''Comparing my reduction method to Rob's code in the Mantid reduction \n",
    "    for the 1d pixel-averaged polarization.'''\n",
    "    Y_summed,_ = get_pol(np.sum(Yup,axis=0),np.sum(Ydn,axis=0))\n",
    "    if fitted is not None:\n",
    "        Y_summed = Y_summed/np.mean(fitted,axis=0)  #optional normalization\n",
    "    if show:\n",
    "        plt.figure(figsize=(10,4))\n",
    "        plt.title('Average vs summed methods')\n",
    "        plt.plot(lams[0,:],Y_summed,label='Sum',color='red')\n",
    "        plt.plot(lams[0,:],rob,'--',label='Av',color='blue')\n",
    "        plt.grid()\n",
    "        plt.ylim((-1.1,1.1))\n",
    "        plt.legend()\n",
    "        plt.show()\n",
    "    return Y_summed\n",
    "\n",
    "x_av,y_av,_ = load_data(r\"para_p35\\\\pol_av.txt\")  #Rob's method here\n",
    "x_av,y_av = trim_arr((x_av,y_av),[(3.,12.)])\n",
    "rob = y_av/np.mean(fitted,axis=0)\n",
    "\n",
    "lams,up,_,_ = load_data_2D(r\"para_p35\\\\up.txt\")\n",
    "_,dn,_,_ = load_data_2D(r\"para_p35\\\\dn.txt\")\n",
    "lams,up,dn = trim_arr((lams,up,dn),[(3.,12.)])\n",
    "up = up[EDGES[0]:EDGES[-1],:]\n",
    "dn = dn[EDGES[0]:EDGES[-1],:]\n",
    "\n",
    "Para_p35_summed_n = compare_1d(up,dn,rob,lams,fitted)"
   ]
  },
  {
   "cell_type": "markdown",
   "id": "1d28d841-ffd4-4783-aa28-6f5e74900e76",
   "metadata": {
    "jp-MarkdownHeadingCollapsed": true
   },
   "source": [
    "##### Looking at the standard deviations:\n",
    "\n",
    "The second method (fitting to a Gaussian) to find the beam width as a function of wavelength works better for this data, but is extremely poor for the data with the gratings."
   ]
  },
  {
   "cell_type": "code",
   "execution_count": null,
   "id": "45434fdb-5132-4c82-a533-d88cea6b3ba7",
   "metadata": {
    "scrolled": true
   },
   "outputs": [],
   "source": [
    "plt.figure(figsize=(10,4)) #para_p35_lam\n",
    "plt.title('No grating shim')\n",
    "for pix,s in enumerate(Shim_para_p35[1:,:]/Shim_blank[1:,:]):\n",
    "    plt.plot(para_p35_lam,s,label=f'Pix {pix}')\n",
    "plt.plot(para_p35_lam,Para_p35_shim_s,label='sum',color='black')\n",
    "plt.ylim((0,1.1))\n",
    "plt.xlabel('Wavelength')\n",
    "plt.grid()\n",
    "ax = plt.gca()\n",
    "ax.legend(loc='center left', bbox_to_anchor=(1, 0.5))\n",
    "plt.show()\n",
    "\n",
    "plt.figure(figsize=(10,4))\n",
    "plt.title('No grating shim standard deviation')\n",
    "plt.xlabel('Wavelength')\n",
    "plt.plot(para_p35_lam,STD_para_p35,'.-')\n",
    "plt.grid()\n",
    "plt.show()\n",
    "\n",
    "para_sigs,para_errs,tests = do_sig_fit(Shim_para_p35,para_p35_lam,tests=[250,260])\n",
    "\n",
    "plt.figure(figsize=(10,4))\n",
    "plt.title('No grating standard deviations')\n",
    "plt.plot(para_p35_lam,para_sigs,'.',color='C0',label='fitted')\n",
    "plt.plot(para_p35_lam,STD_para_p35,'.-',color='C1',label='calc')\n",
    "plt.errorbar(para_p35_lam,para_sigs,yerr=para_errs,color='C0',ls='')\n",
    "plt.axvline(x=para_p35_lam[tests[0]],ls='--',color='black')\n",
    "plt.axvline(x=para_p35_lam[tests[-1]],ls='--',color='black')\n",
    "ax = plt.gca()\n",
    "ax.legend(loc='center left', bbox_to_anchor=(1, 0.5))\n",
    "plt.xlabel('Wavelength')\n",
    "plt.ylim((.5,1.5))\n",
    "plt.grid()\n",
    "plt.show()"
   ]
  },
  {
   "cell_type": "markdown",
   "id": "b5bd729e-1e3e-4523-9dbe-27d1b6772d58",
   "metadata": {
    "jp-MarkdownHeadingCollapsed": true
   },
   "source": [
    "### Sample parallel, grating before\n",
    "***"
   ]
  },
  {
   "cell_type": "code",
   "execution_count": null,
   "id": "063204ef-d94c-4dcb-acd1-b397469f4e40",
   "metadata": {
    "scrolled": true
   },
   "outputs": [],
   "source": [
    "LAMS_para_p35_before,Up_para_p35_before,Eup_para_p35_before,pname = load_data_2D(r\"para_p35_before\\\\up.txt\")\n",
    "_,Dn_para_p35_before,Edn_para_p35_before,_ = load_data_2D(r\"para_p35_before\\\\dn.txt\")\n",
    "\n",
    "_ = get_center(Up_para_p35_before,Dn_para_p35_before,pname)  #checking alignment\n",
    "\n",
    "POL_PLOT_PARMS = DEFAULT_POL_PLOT_PARMS|{'title':'Para, grating before','extent':(LAMBDAS[0],LAMBDAS[-1],PIXELS[0],PIXELS[-1])}\n",
    "SHIM_PLOT_PARMS = POL_PLOT_PARMS|{'title':'Para, grating before, shim','vals':(None,None),'log vals':(-8,-4)}\n",
    "\n",
    "LAMS_para_p35_before,Up_para_p35_before,Eup_para_p35_before,Dn_para_p35_before,Edn_para_p35_before = trim_arr((LAMS_para_p35_before,Up_para_p35_before,Eup_para_p35_before,Dn_para_p35_before,Edn_para_p35_before),[(3.,12.)])\n",
    "\n",
    "Up_para_p35_before = Up_para_p35_before[EDGES[0]:EDGES[-1],:]  #uses global EDGES tuple\n",
    "Eup_para_p35_before = Eup_para_p35_before[EDGES[0]:EDGES[-1],:]\n",
    "Dn_para_p35_before = Dn_para_p35_before[EDGES[0]:EDGES[-1],:]\n",
    "Edn_para_p35_before = Edn_para_p35_before[EDGES[0]:EDGES[-1],:]\n",
    "\n",
    "plot_2D(Up_para_p35_before,plot_parms=SHIM_PLOT_PARMS|{'title':'Raw up'})\n",
    "plot_2D(Dn_para_p35_before,plot_parms=SHIM_PLOT_PARMS|{'title':'Raw down'})\n",
    "plot_2D(Up_para_p35_before+Dn_para_p35_before,plot_parms=SHIM_PLOT_PARMS|{'title':'Raw shim'})\n",
    "\n",
    "plot_2D(no_q_pol_before:=get_pol(Up_para_p35_before,Dn_para_p35_before)[0],plot_parms=POL_PLOT_PARMS|{'title':'Para, grating before, pol pre-q binning'})\n",
    "\n",
    "para_p35_before_lam,Up_para_p35_before,Up_para_p35_err_before = get_constant_Q(Up_para_p35_before,Eup_para_p35_before,LAMBDAS,th0=.35,trim=(1,-1),lims=(None,None),\\\n",
    "                                                                               show_all=False,show_all_intrp=False,show_final_intrp=False,show_sum=True)\n",
    "_,Dn_para_p35_before,Dn_para_p35_err_before = get_constant_Q(Dn_para_p35_before,Edn_para_p35_before,LAMBDAS,th0=.35,trim=(1,-1),lims=(None,None),\\\n",
    "                                                             show_all=False,show_all_intrp=False,show_final_intrp=False,show_sum=True)\n",
    "\n",
    "Shim_para_p35_before,STD_para_p35_before = get_shim(Up_para_p35_before,Dn_para_p35_before,plot_parms=SHIM_PLOT_PARMS)\n",
    "\n",
    "Pol_para_p35_before,_ = get_pol(Up_para_p35_before,Dn_para_p35_before)\n",
    "Pol_para_p35_before = Pol_para_p35_before/fitted_q[1:-1]  #normalize by P0\n",
    "\n",
    "plot_2D(Pol_para_p35_before,plot_parms=POL_PLOT_PARMS|{'title':'Para, grating before, pol'})"
   ]
  },
  {
   "cell_type": "code",
   "execution_count": null,
   "id": "9e1d34d1-71ab-4292-8e06-d2ee6918046c",
   "metadata": {},
   "outputs": [],
   "source": [
    "Para_p35_before_shim_s = np.sum(Shim_para_p35_before[1:,:],axis=0)/np.sum(Shim_blank[1:,:],axis=0)\n",
    "Para_p35_before_pol_m = np.mean(Pol_para_p35_before[1:,:],axis=0)\n",
    "\n",
    "plt.figure(figsize=(11,4))\n",
    "plt.title('Pol (-) and shim (--), grating before')\n",
    "if False:\n",
    "    for indx,(p,s,sb) in enumerate(zip(Pol_para_p35_before[1:,:],Shim_para_p35_before[1:,:],Shim_blank[1:,:])):\n",
    "        plt.plot(para_p35_before_lam,p,label=f'{indx}',color=f'C{indx}')\n",
    "        plt.plot(para_p35_before_lam,s/sb,'--',color=f'C{indx}')\n",
    "plt.plot(para_p35_lam,Para_p35_before_pol_m,color='black',label='av')\n",
    "plt.plot(para_p35_lam,Para_p35_before_shim_s,'--',color='black')\n",
    "plt.grid()\n",
    "ax = plt.gca()\n",
    "ax.legend(loc='center left', bbox_to_anchor=(1, 0.5))\n",
    "plt.ylim((-1.1,1.1))\n",
    "plt.show()"
   ]
  },
  {
   "cell_type": "markdown",
   "id": "bbfd317d-9254-44a1-886a-0e9ac0bd51a8",
   "metadata": {
    "jp-MarkdownHeadingCollapsed": true
   },
   "source": [
    "##### Rob's code comparison:\n",
    "\n",
    "Notice that the blue (data directly from the Mantid reduction script) and yellow (manually averaged over the entire detector from the 2D data) lines are equivalent. Therefore, the Mantid reduction is summing over the entire detector, and not just the middle 7 pixels as we previously thought.\n",
    "\n",
    "This also shows that we are getting a noticeable scattering contribution from the grating, even before the sample."
   ]
  },
  {
   "cell_type": "code",
   "execution_count": null,
   "id": "7a91c73f-433a-44ac-8a31-ac0969f6d0cd",
   "metadata": {},
   "outputs": [],
   "source": [
    "x_av,y_av,_ = load_data(r\"para_p35_before\\\\pol_av.txt\")  #Rob's method here\n",
    "x_av,y_av = trim_arr((x_av,y_av),[(3.,12.)])\n",
    "rob = y_av/np.mean(fitted,axis=0)\n",
    "\n",
    "lams,up,_,_ = load_data_2D(r\"para_p35_before\\\\up.txt\")\n",
    "_,dn,_,_ = load_data_2D(r\"para_p35_before\\\\dn.txt\")\n",
    "lams,up,dn = trim_arr((lams,up,dn),[(3.,12.)])\n",
    "up = up[EDGES[0]:EDGES[-1],:]\n",
    "dn = dn[EDGES[0]:EDGES[-1],:]\n",
    "\n",
    "Para_p35_before_summed_n = compare_1d(up,dn,rob,lams,fitted)"
   ]
  },
  {
   "cell_type": "markdown",
   "id": "8c119ab5-63b1-4908-8921-aa608c4564cb",
   "metadata": {},
   "source": [
    "##### Standard deviation check:\n",
    "\n",
    "Seems like there is some spreading, so I need to check the expanded shim."
   ]
  },
  {
   "cell_type": "code",
   "execution_count": null,
   "id": "fbff848c-711d-4d6a-97a1-562da4ac5ea2",
   "metadata": {
    "scrolled": true
   },
   "outputs": [],
   "source": [
    "plt.figure(figsize=(10,4)) #para_p35_lam\n",
    "plt.title('Grating before shim')\n",
    "for pix,s in enumerate(Shim_para_p35_before[1:,:]/Shim_blank[1:,:]):\n",
    "    plt.plot(para_p35_lam,s,label=f'Pix {pix}')\n",
    "plt.plot(para_p35_lam,Para_p35_before_shim_s,label='sum',color='black')\n",
    "plt.ylim((0,1.1))\n",
    "plt.xlabel('Wavelength')\n",
    "plt.grid()\n",
    "ax = plt.gca()\n",
    "ax.legend(loc='center left', bbox_to_anchor=(1, 0.5))\n",
    "plt.show()\n",
    "\n",
    "plt.figure(figsize=(10,4))\n",
    "plt.title('Grating before shim standard deviation')\n",
    "plt.xlabel('Wavelength')\n",
    "plt.plot(para_p35_before_lam,STD_para_p35_before,'.-')\n",
    "plt.grid()\n",
    "plt.show()\n",
    "\n",
    "para_sigs,para_errs,tests = do_sig_fit(Shim_para_p35_before,para_p35_before_lam,tests=[250,260],use_shim=True)\n",
    "\n",
    "plt.figure(figsize=(10,4))\n",
    "plt.title('Grating before standard deviations')\n",
    "plt.plot(para_p35_before_lam,para_sigs,'.',color='C0',label='fitted')\n",
    "plt.plot(para_p35_before_lam,STD_para_p35_before,'.-',color='C1',label='calc')\n",
    "plt.errorbar(para_p35_before_lam,para_sigs,yerr=para_errs,color='C0',ls='')\n",
    "plt.axvline(x=para_p35_before_lam[tests[0]],ls='--',color='black')\n",
    "plt.axvline(x=para_p35_before_lam[tests[-1]],ls='--',color='black')\n",
    "ax = plt.gca()\n",
    "ax.legend(loc='center left', bbox_to_anchor=(1, 0.5))\n",
    "plt.xlabel('Wavelength')\n",
    "plt.ylim((0.,2.))\n",
    "plt.grid()\n",
    "plt.show()"
   ]
  },
  {
   "cell_type": "code",
   "execution_count": null,
   "id": "dc6f40a8-b220-4d38-b810-0da9f795cecd",
   "metadata": {
    "scrolled": true
   },
   "outputs": [],
   "source": [
    "_,up_ng,_,pname = load_data_2D(r\"para_p35\\\\up.txt\")\n",
    "_,dn_ng,_,_ = load_data_2D(r\"para_p35\\\\dn.txt\")\n",
    "\n",
    "lam,up,_,pname = load_data_2D(r\"para_p35_before\\\\up.txt\")\n",
    "_,dn,_,_ = load_data_2D(r\"para_p35_before\\\\dn.txt\")\n",
    "\n",
    "temp_cut = [25,45]\n",
    "\n",
    "lam,up,dn,up_ng,dn_ng = trim_arr((lam,up,dn,up_ng,dn_ng),[(3.,12.)])\n",
    "lam,up,dn,up_ng,dn_ng = [k[temp_cut[0]:temp_cut[-1],:] for k in [lam,up,dn,up_ng,dn_ng]]\n",
    "\n",
    "SHIM_PLOT_PARMS = POL_PLOT_PARMS|{'title':'Para, no grating, shim','vals':(None,None),'log vals':(-10,-4),\\\n",
    "                                 'extent':(LAMBDAS[0],LAMBDAS[-1],temp_cut[0],temp_cut[-1]),'aspect':.1}\n",
    "_ = get_shim(up_ng,dn_ng,plot_parms=SHIM_PLOT_PARMS)\n",
    "\n",
    "SHIM_PLOT_PARMS = SHIM_PLOT_PARMS|{'title':'Para, grating before, shim'}\n",
    "_ = get_shim(up,dn,plot_parms=SHIM_PLOT_PARMS)"
   ]
  },
  {
   "cell_type": "markdown",
   "id": "c5161a27-880b-47d3-aa6a-32a01710ef81",
   "metadata": {
    "jp-MarkdownHeadingCollapsed": true
   },
   "source": [
    "### Sample parallel, grating after"
   ]
  },
  {
   "cell_type": "code",
   "execution_count": null,
   "id": "9689ae9c-48eb-429e-a90a-da0a27b03c00",
   "metadata": {
    "scrolled": true
   },
   "outputs": [],
   "source": [
    "LAMS_para_p35_after,Up_para_p35_after,Eup_para_p35_after,pname = load_data_2D(r\"para_p35_after\\\\up.txt\")\n",
    "_,Dn_para_p35_after,Edn_para_p35_after,_ = load_data_2D(r\"para_p35_after\\\\dn.txt\")\n",
    "\n",
    "_ = get_center(Up_para_p35_after,Dn_para_p35_after,pname)  #checking alignment\n",
    "\n",
    "POL_PLOT_PARMS = DEFAULT_POL_PLOT_PARMS|{'title':'Para, grating after','extent':(LAMBDAS[0],LAMBDAS[-1],PIXELS[0],PIXELS[-1])}\n",
    "SHIM_PLOT_PARMS = POL_PLOT_PARMS|{'title':'Para, grating after, shim','vals':(None,None),'log vals':(-8,-4)}\n",
    "\n",
    "LAMS_para_p35_after,Up_para_p35_after,Eup_para_p35_after,Dn_para_p35_after,Edn_para_p35_after = trim_arr((LAMS_para_p35_after,Up_para_p35_after,Eup_para_p35_after,Dn_para_p35_after,Edn_para_p35_after),[(3.,12.)])\n",
    "\n",
    "Up_para_p35_after = Up_para_p35_after[EDGES[0]:EDGES[-1],:]  #uses global EDGES tuple\n",
    "Eup_para_p35_after = Eup_para_p35_after[EDGES[0]:EDGES[-1],:]\n",
    "Dn_para_p35_after = Dn_para_p35_after[EDGES[0]:EDGES[-1],:]\n",
    "Edn_para_p35_after = Edn_para_p35_after[EDGES[0]:EDGES[-1],:]\n",
    "\n",
    "plot_2D(Up_para_p35_after,plot_parms=SHIM_PLOT_PARMS|{'title':'Raw up'})\n",
    "plot_2D(Dn_para_p35_after,plot_parms=SHIM_PLOT_PARMS|{'title':'Raw down'})\n",
    "plot_2D(Up_para_p35_after+Dn_para_p35_after,plot_parms=SHIM_PLOT_PARMS|{'title':'Raw shim'})\n",
    "\n",
    "plot_2D(no_q_pol_after:=get_pol(Up_para_p35_after,Dn_para_p35_after)[0],plot_parms=POL_PLOT_PARMS|{'title':'Para, grating after, pol pre-q binning'})\n",
    "\n",
    "para_p35_after_lam,Up_para_p35_after,Up_para_p35_err_after = get_constant_Q(Up_para_p35_after,Eup_para_p35_after,LAMBDAS,th0=.35,trim=(1,-1),lims=(None,None),\\\n",
    "                                                                               show_all=False,show_all_intrp=False,show_final_intrp=False,show_sum=True)\n",
    "_,Dn_para_p35_after,Dn_para_p35_err_after = get_constant_Q(Dn_para_p35_after,Edn_para_p35_after,LAMBDAS,th0=.35,trim=(1,-1),lims=(None,None),\\\n",
    "                                                             show_all=False,show_all_intrp=False,show_final_intrp=False,show_sum=True)\n",
    "\n",
    "Shim_para_p35_after,STD_para_p35_after = get_shim(Up_para_p35_after,Dn_para_p35_after,plot_parms=SHIM_PLOT_PARMS)\n",
    "\n",
    "Pol_para_p35_after,_ = get_pol(Up_para_p35_after,Dn_para_p35_after)\n",
    "Pol_para_p35_after = Pol_para_p35_after/fitted_q[1:-1]  #normalize by P0\n",
    "\n",
    "plot_2D(Pol_para_p35_after,plot_parms=POL_PLOT_PARMS|{'title':'Para, grating after, pol'})"
   ]
  },
  {
   "cell_type": "code",
   "execution_count": null,
   "id": "96084f50-5448-4cc6-b981-f5bea5788736",
   "metadata": {},
   "outputs": [],
   "source": [
    "Para_p35_after_shim_s = np.sum(Shim_para_p35_after[1:,:],axis=0)/np.sum(Shim_blank[1:,:],axis=0)\n",
    "Para_p35_after_pol_m = np.mean(Pol_para_p35_after[1:,:],axis=0)\n",
    "\n",
    "plt.figure(figsize=(11,4))\n",
    "plt.title('Pol (-) and shim (--), grating after')\n",
    "if True:\n",
    "    for indx,(p,s,sb) in enumerate(zip(Pol_para_p35_after[1:,:],Shim_para_p35_after[1:,:],Shim_blank[1:,:])):\n",
    "        plt.plot(para_p35_after_lam,p,label=f'{indx}',color=f'C{indx}')\n",
    "        plt.plot(para_p35_after_lam,s/sb,'--',color=f'C{indx}')\n",
    "plt.plot(para_p35_lam,Para_p35_after_pol_m,color='black',label='av')\n",
    "plt.plot(para_p35_lam,Para_p35_after_shim_s,'--',color='black')\n",
    "plt.grid()\n",
    "ax = plt.gca()\n",
    "ax.legend(loc='center left', bbox_to_anchor=(1, 0.5))\n",
    "plt.ylim((-1.1,1.1))\n",
    "plt.show()"
   ]
  },
  {
   "cell_type": "code",
   "execution_count": null,
   "id": "71608103-e0f4-49ba-8200-b6bda72425f0",
   "metadata": {
    "scrolled": true
   },
   "outputs": [],
   "source": [
    "plt.figure(figsize=(10,4)) #para_p35_lam\n",
    "plt.title('Grating after shim')\n",
    "for pix,s in enumerate(Shim_para_p35_after[1:,:]/Shim_blank[1:,:]):\n",
    "    plt.plot(para_p35_lam,s,label=f'Pix {pix}')\n",
    "plt.plot(para_p35_lam,Para_p35_after_shim_s,label='sum',color='black')\n",
    "plt.ylim((0,1.1))\n",
    "plt.xlabel('Wavelength')\n",
    "plt.grid()\n",
    "ax = plt.gca()\n",
    "ax.legend(loc='center left', bbox_to_anchor=(1, 0.5))\n",
    "plt.show()\n",
    "\n",
    "plt.figure(figsize=(10,4))\n",
    "plt.title('Grating after shim standard deviation')\n",
    "plt.xlabel('Wavelength')\n",
    "plt.plot(para_p35_after_lam,STD_para_p35_after,'.-')\n",
    "plt.grid()\n",
    "plt.show()\n",
    "\n",
    "para_sigs,para_errs,tests = do_sig_fit(Shim_para_p35_after,para_p35_after_lam,tests=[250,260],use_shim=True)\n",
    "\n",
    "plt.figure(figsize=(10,4))\n",
    "plt.title('Grating after standard deviations')\n",
    "plt.plot(para_p35_after_lam,para_sigs,'.',color='C0',label='fitted')\n",
    "plt.plot(para_p35_after_lam,STD_para_p35_after,'.-',color='C1',label='calc')\n",
    "plt.errorbar(para_p35_after_lam,para_sigs,yerr=para_errs,color='C0',ls='')\n",
    "plt.axvline(x=para_p35_after_lam[tests[0]],ls='--',color='black')\n",
    "plt.axvline(x=para_p35_after_lam[tests[-1]],ls='--',color='black')\n",
    "ax = plt.gca()\n",
    "ax.legend(loc='center left', bbox_to_anchor=(1, 0.5))\n",
    "plt.xlabel('Wavelength')\n",
    "plt.ylim((0.,2.))\n",
    "plt.grid()\n",
    "plt.show()"
   ]
  },
  {
   "cell_type": "markdown",
   "id": "d1ac3f60-7e43-4d07-b6a0-4dfb2a4f64e8",
   "metadata": {},
   "source": [
    "##### The spread due to Bragg scattering with the grating behind the GH sample is much more apparent, as expected."
   ]
  },
  {
   "cell_type": "code",
   "execution_count": null,
   "id": "7b07d2f1-aa00-4748-8e0a-0ef2e412aac7",
   "metadata": {
    "scrolled": true
   },
   "outputs": [],
   "source": [
    "_,up_ng,_,pname = load_data_2D(r\"para_p35\\\\up.txt\")\n",
    "_,dn_ng,_,_ = load_data_2D(r\"para_p35\\\\dn.txt\")\n",
    "\n",
    "lam,up,_,_ = load_data_2D(r\"para_p35_before\\\\up.txt\")\n",
    "_,dn,_,_ = load_data_2D(r\"para_p35_before\\\\dn.txt\")\n",
    "\n",
    "lam,up_af,_,_ = load_data_2D(r\"para_p35_after\\\\up.txt\")\n",
    "_,dn_af,_,_ = load_data_2D(r\"para_p35_after\\\\dn.txt\")\n",
    "\n",
    "temp_cut = [25,45]\n",
    "\n",
    "lam,up,dn,up_ng,dn_ng,up_af,dn_af = trim_arr((lam,up,dn,up_ng,dn_ng,up_af,dn_af),[(3.,12.)])\n",
    "lam,up,dn,up_ng,dn_ng,up_af,dn_af = [k[temp_cut[0]:temp_cut[-1],:] for k in [lam,up,dn,up_ng,dn_ng,up_af,dn_af]]\n",
    "\n",
    "SHIM_PLOT_PARMS = POL_PLOT_PARMS|{'title':'Para, no grating, shim','vals':(None,None),'log vals':(-10,-4),\\\n",
    "                                 'extent':(LAMBDAS[0],LAMBDAS[-1],temp_cut[0],temp_cut[-1]),'aspect':.1}\n",
    "_ = get_shim(up_ng,dn_ng,plot_parms=SHIM_PLOT_PARMS)\n",
    "\n",
    "SHIM_PLOT_PARMS = SHIM_PLOT_PARMS|{'title':'Para, grating before, shim'}\n",
    "_ = get_shim(up,dn,plot_parms=SHIM_PLOT_PARMS)\n",
    "\n",
    "SHIM_PLOT_PARMS = SHIM_PLOT_PARMS|{'title':'Para, grating after, shim'}\n",
    "_ = get_shim(up_af,dn_af,plot_parms=SHIM_PLOT_PARMS)"
   ]
  },
  {
   "cell_type": "markdown",
   "id": "554bea4f-a74b-4d7e-9521-9b68dcdf89ab",
   "metadata": {
    "jp-MarkdownHeadingCollapsed": true
   },
   "source": [
    "***\n",
    "### 0.4 degree data (To do)"
   ]
  },
  {
   "cell_type": "code",
   "execution_count": null,
   "id": "a268ef7a-ab29-4c83-9e84-cb7d0f7f0328",
   "metadata": {},
   "outputs": [],
   "source": []
  },
  {
   "cell_type": "code",
   "execution_count": null,
   "id": "82373dc0-e554-46b7-b487-9e94592b567a",
   "metadata": {},
   "outputs": [],
   "source": []
  },
  {
   "cell_type": "code",
   "execution_count": null,
   "id": "7c188151-e253-48da-86e8-30fd67917964",
   "metadata": {},
   "outputs": [],
   "source": []
  },
  {
   "cell_type": "markdown",
   "id": "3592d35c-d0e5-459d-ae86-403c83e11dca",
   "metadata": {
    "jp-MarkdownHeadingCollapsed": true
   },
   "source": [
    "***\n",
    "### Comparisons between the data sets:\n",
    "\n",
    "When looking at the constant-q binning, the peak disappearance that we saw at ISIS does not appear."
   ]
  },
  {
   "cell_type": "markdown",
   "id": "cf3d67eb-9502-4d84-aa2c-d7e827b28cac",
   "metadata": {},
   "source": [
    "##### Entire detector shim comparison:"
   ]
  },
  {
   "cell_type": "code",
   "execution_count": null,
   "id": "328ac5e6-1add-4130-9f60-83bc832aafc6",
   "metadata": {},
   "outputs": [],
   "source": [
    "_,up_ng,_,pname = load_data_2D(r\"para_p35\\\\up.txt\")\n",
    "_,dn_ng,_,_ = load_data_2D(r\"para_p35\\\\dn.txt\")\n",
    "\n",
    "lam,up,_,_ = load_data_2D(r\"para_p35_before\\\\up.txt\")\n",
    "_,dn,_,_ = load_data_2D(r\"para_p35_before\\\\dn.txt\")\n",
    "\n",
    "lam,up_af,_,_ = load_data_2D(r\"para_p35_after\\\\up.txt\")\n",
    "_,dn_af,_,_ = load_data_2D(r\"para_p35_after\\\\dn.txt\")\n",
    "\n",
    "temp_cut = [25,45]\n",
    "\n",
    "lam,up,dn,up_ng,dn_ng,up_af,dn_af = trim_arr((lam,up,dn,up_ng,dn_ng,up_af,dn_af),[(3.,12.)])\n",
    "lam,up,dn,up_ng,dn_ng,up_af,dn_af = [k[temp_cut[0]:temp_cut[-1],:] for k in [lam,up,dn,up_ng,dn_ng,up_af,dn_af]]\n",
    "\n",
    "SHIM_PLOT_PARMS = POL_PLOT_PARMS|{'title':'Para, no grating, shim','vals':(None,None),'log vals':(-10,-4),\\\n",
    "                                 'extent':(LAMBDAS[0],LAMBDAS[-1],temp_cut[0],temp_cut[-1]),'aspect':.085}\n",
    "_ = get_shim(up_ng,dn_ng,plot_parms=SHIM_PLOT_PARMS)\n",
    "\n",
    "SHIM_PLOT_PARMS = SHIM_PLOT_PARMS|{'title':'Para, grating before, shim'}\n",
    "_ = get_shim(up,dn,plot_parms=SHIM_PLOT_PARMS)\n",
    "\n",
    "SHIM_PLOT_PARMS = SHIM_PLOT_PARMS|{'title':'Para, grating after, shim'}\n",
    "_ = get_shim(up_af,dn_af,plot_parms=SHIM_PLOT_PARMS)"
   ]
  },
  {
   "cell_type": "code",
   "execution_count": null,
   "id": "a52bc95a-b8d3-430c-a552-24db95bd1445",
   "metadata": {},
   "outputs": [],
   "source": [
    "plt.figure(figsize=(10,4))\n",
    "plt.title('Q-corrected total intensities')\n",
    "plt.plot(para_p35_after_lam,Para_p35_shim_s,label='No grating')  #clean up this x-axis name\n",
    "plt.plot(para_p35_after_lam,Para_p35_before_shim_s,label='Grating before')\n",
    "plt.plot(para_p35_after_lam,Para_p35_after_shim_s,label='Grating after')\n",
    "plt.legend()\n",
    "plt.grid()\n",
    "plt.ylabel('Normalized shim')\n",
    "plt.xlabel('Wavelength')\n",
    "plt.ylim((0,1))\n",
    "plt.show()\n",
    "\n",
    "bs_trim = range(5,len(para_p35_after_lam)-15)\n",
    "plt.figure(figsize=(10,4))\n",
    "plt.title('Q-corrected standard deviations')\n",
    "plt.plot(para_p35_after_lam[bs_trim],STD_para_p35[bs_trim],'.-',label='No grating')\n",
    "plt.plot(para_p35_after_lam[bs_trim],STD_para_p35_before[bs_trim],'.-',label='Grating before')\n",
    "plt.plot(para_p35_after_lam[bs_trim],STD_para_p35_after[bs_trim],'.-',label='Grating after')\n",
    "plt.legend()\n",
    "plt.grid()\n",
    "plt.ylabel('Stnd dev')\n",
    "plt.xlabel('Wavelength')\n",
    "plt.show()\n",
    "\n",
    "plt.figure(figsize=(10,4))\n",
    "plt.title('Q-corrected total intensities, central pixel')\n",
    "plt.plot(para_p35_after_lam,Shim_para_p35[2,:]/Shim_blank[2,:],label='No grating')  #clean up this x-axis name\n",
    "plt.plot(para_p35_after_lam,Shim_para_p35_before[2,:]/Shim_blank[2,:],label='Grating before')\n",
    "plt.plot(para_p35_after_lam,Shim_para_p35_after[2,:]/Shim_blank[2,:],label='Grating after')\n",
    "plt.legend()\n",
    "plt.grid()\n",
    "plt.ylabel('Normalized shim')\n",
    "plt.xlabel('Wavelength')\n",
    "plt.ylim((0,1.1))\n",
    "plt.show()"
   ]
  },
  {
   "cell_type": "markdown",
   "id": "1f4462a7-da4e-4182-8e38-12664d34304d",
   "metadata": {},
   "source": [
    "##### Polarization comparison:"
   ]
  },
  {
   "cell_type": "code",
   "execution_count": null,
   "id": "139ea40f-a776-4d9f-be21-1b413e7a7caa",
   "metadata": {},
   "outputs": [],
   "source": [
    "plot_2D(Pol_para_p35,plot_parms=POL_PLOT_PARMS|{'title':'Para, no grating, pol'})\n",
    "plot_2D(Pol_para_p35_before,plot_parms=POL_PLOT_PARMS|{'title':'Para, grating before, pol'})\n",
    "plot_2D(Pol_para_p35_after,plot_parms=POL_PLOT_PARMS|{'title':'Para, grating after, pol'})\n",
    "\n",
    "plot_2D(no_q_pol_before,plot_parms=POL_PLOT_PARMS|{'title':'Para, grating before, pol, no q-binning'})\n",
    "plot_2D(no_q_pol_after,plot_parms=POL_PLOT_PARMS|{'title':'Para, grating after, pol, no q-binning'})"
   ]
  },
  {
   "cell_type": "code",
   "execution_count": null,
   "id": "355cc7ef-fd4c-4ecd-ae8d-60b95be2ee96",
   "metadata": {},
   "outputs": [],
   "source": [
    "plt.figure(figsize=(10,4))\n",
    "plt.title('Q-corrected average polarizations')\n",
    "plt.plot(para_p35_after_lam,Para_p35_pol_m,label='No grating')  #clean up this x-axis name\n",
    "plt.plot(para_p35_after_lam,Para_p35_before_pol_m,label='Grating before')\n",
    "plt.plot(para_p35_after_lam,Para_p35_after_pol_m,label='Grating after')\n",
    "plt.ylabel('Normalized pol')\n",
    "plt.xlabel('Wavelength')\n",
    "plt.legend()\n",
    "plt.grid()\n",
    "plt.show()\n",
    "\n",
    "plt.figure(figsize=(10,4))\n",
    "plt.title('Q-corrected polarizations, central pixel')\n",
    "plt.plot(para_p35_after_lam,Pol_para_p35[2,:],label='No grating')  #clean up this x-axis name\n",
    "plt.plot(para_p35_after_lam,Pol_para_p35_before[2,:],label='Grating before')\n",
    "plt.plot(para_p35_after_lam,Pol_para_p35_after[2,:],label='Grating after')\n",
    "plt.ylabel('Normalized pol')\n",
    "plt.xlabel('Wavelength')\n",
    "plt.legend()\n",
    "plt.grid()\n",
    "plt.show()"
   ]
  },
  {
   "cell_type": "markdown",
   "id": "0019430a-bf3e-46de-999b-dd3016c3006e",
   "metadata": {},
   "source": [
    "##### Other comparions:"
   ]
  },
  {
   "cell_type": "code",
   "execution_count": null,
   "id": "bfe254cd-b5f6-4f2a-873f-6dc8139537d6",
   "metadata": {},
   "outputs": [],
   "source": []
  },
  {
   "cell_type": "markdown",
   "id": "304c1efc-e6e1-45d8-bfa4-382582a38070",
   "metadata": {},
   "source": [
    "***\n",
    "### Other calculations:"
   ]
  },
  {
   "cell_type": "code",
   "execution_count": null,
   "id": "d103a2cc-b2fa-4eeb-911c-9353fe8eb6e5",
   "metadata": {},
   "outputs": [],
   "source": []
  },
  {
   "cell_type": "code",
   "execution_count": null,
   "id": "8c1a34a2-eafa-4ba9-b6b6-79e3ab00f192",
   "metadata": {},
   "outputs": [],
   "source": []
  }
 ],
 "metadata": {
  "kernelspec": {
   "display_name": "Python 3 (ipykernel)",
   "language": "python",
   "name": "python3"
  },
  "language_info": {
   "codemirror_mode": {
    "name": "ipython",
    "version": 3
   },
   "file_extension": ".py",
   "mimetype": "text/x-python",
   "name": "python",
   "nbconvert_exporter": "python",
   "pygments_lexer": "ipython3",
   "version": "3.10.12"
  }
 },
 "nbformat": 4,
 "nbformat_minor": 5
}
